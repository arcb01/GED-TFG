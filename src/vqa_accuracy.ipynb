{
 "cells": [
  {
   "cell_type": "markdown",
   "id": "4e88b10d-c975-4e46-a20b-b0b7ede80a8b",
   "metadata": {},
   "source": [
    "# VQA model accuracy"
   ]
  },
  {
   "cell_type": "code",
   "execution_count": 148,
   "id": "12bf7b7f-eb81-43af-aecb-e51072f7222a",
   "metadata": {},
   "outputs": [
    {
     "name": "stdout",
     "output_type": "stream",
     "text": [
      "PyTorch Version:  1.13.1+cu117\n",
      "Torchvision Version:  0.14.1+cu117\n",
      "cuda:0\n"
     ]
    }
   ],
   "source": [
    "from __future__ import print_function \n",
    "from __future__ import division\n",
    "import torch\n",
    "import torch.nn as nn\n",
    "import torch.optim as optim\n",
    "import numpy as np\n",
    "import seaborn as sns\n",
    "import torchvision\n",
    "import pprint\n",
    "import pandas as pd\n",
    "from torchvision import datasets, models, transforms\n",
    "from torch.utils.data import Dataset, DataLoader\n",
    "import json\n",
    "import matplotlib.pyplot as plt\n",
    "from PIL import Image\n",
    "import time\n",
    "import re, sys\n",
    "import os\n",
    "import copy\n",
    "import shutil\n",
    "import io\n",
    "print(\"PyTorch Version: \",torch.__version__)\n",
    "print(\"Torchvision Version: \",torchvision.__version__)\n",
    "\n",
    "%matplotlib inline\n",
    "\n",
    "# Detect if we have a GPU available\n",
    "device = torch.device(\"cuda:0\" if torch.cuda.is_available() else \"cpu\")\n",
    "print(device)"
   ]
  },
  {
   "cell_type": "markdown",
   "id": "a061b5f7-70b1-4483-8321-e12a0159da30",
   "metadata": {},
   "source": [
    "**Load VizWiz test set data** (with PromptCap model output)"
   ]
  },
  {
   "cell_type": "code",
   "execution_count": 149,
   "id": "f90cba26-d99b-4330-be86-a3667c47e754",
   "metadata": {},
   "outputs": [],
   "source": [
    "with open('/media/arnau/SSD/VizWiz/models/hf_model_test_res.json', encoding='UTF-8') as jf:\n",
    "    model_output_data = json.load(jf)"
   ]
  },
  {
   "cell_type": "markdown",
   "id": "451cac5e-4941-4f25-b388-d488ce7639f9",
   "metadata": {},
   "source": [
    "**Load VizWiz test set data** (with extra models output)"
   ]
  },
  {
   "cell_type": "code",
   "execution_count": 150,
   "id": "f0b6f400-1cd5-4443-8be6-318f52670d29",
   "metadata": {},
   "outputs": [],
   "source": [
    "with open('/media/arnau/SSD/VizWiz/models/hf_extra_models_test_res.json', encoding='UTF-8') as jf:\n",
    "    other_models_output_data = json.load(jf)\n",
    "\n",
    "# Add GT answers\n",
    "for img_name, data in other_models_output_data.items():\n",
    "    other_models_output_data[img_name][\"gt_answers\"] = model_output_data[img_name][\"gt_answers\"]"
   ]
  },
  {
   "cell_type": "code",
   "execution_count": 151,
   "id": "e409cf14-3a66-42ad-adaa-b3be238b6069",
   "metadata": {},
   "outputs": [],
   "source": [
    "val_imgs = os.listdir('/media/arnau/SSD/VizWiz/data/captioning/val/')\n",
    "test_imgs = list(model_output_data.keys())\n",
    "test_fin_imgs = [img for img in test_imgs if img in val_imgs]\n",
    "\n",
    "if os.path.exists(\"/media/arnau/SSD/VizWiz/data/test_imgs/\") == False:\n",
    "    os.mkdir(\"/media/arnau/SSD/VizWiz/data/test_imgs/\")\n",
    "    \n",
    "    # Copy test images to separate folder\n",
    "    for img in test_fin_imgs:\n",
    "        original = f'/media/arnau/SSD/VizWiz/data/captioning/val/{img}'\n",
    "        target = f\"/media/arnau/SSD/VizWiz/data/test_imgs/{img}\"\n",
    "        shutil.copyfile(original, target)"
   ]
  },
  {
   "cell_type": "code",
   "execution_count": 152,
   "id": "89ac5464-6103-4a96-8c45-95ebf8d1df01",
   "metadata": {},
   "outputs": [],
   "source": [
    "get_model_types = lambda d : [el \n",
    "                               for el in list(d[next(iter(d))].keys()) \n",
    "                               if el not in ['question', 'gt_answers']]"
   ]
  },
  {
   "cell_type": "markdown",
   "id": "e0e42c6e-a17e-46e8-b73e-6dd60e107bf3",
   "metadata": {},
   "source": [
    "Merge both dictionaries into a single one"
   ]
  },
  {
   "cell_type": "code",
   "execution_count": 153,
   "id": "cd031dc3-0e6a-42b8-b908-1ae7fe8efa8a",
   "metadata": {},
   "outputs": [],
   "source": [
    "merged = model_output_data.copy()\n",
    "\n",
    "for typ in get_model_types(other_models_output_data):\n",
    "    for img_name, data in merged.items():\n",
    "        try:\n",
    "            other_model_result = other_models_output_data[img_name][typ]\n",
    "            merged[img_name][typ] = other_model_result\n",
    "        except:\n",
    "            pass\n",
    "        \n",
    "model_output_data = merged"
   ]
  },
  {
   "cell_type": "markdown",
   "id": "c26260e5-70c1-4633-9de3-2a7f48919d6f",
   "metadata": {},
   "source": [
    "Show all models "
   ]
  },
  {
   "cell_type": "code",
   "execution_count": 154,
   "id": "9efb2923-54b4-4b77-9cad-721b42461754",
   "metadata": {},
   "outputs": [
    {
     "data": {
      "text/plain": [
       "['HF_OCR_google_answer',\n",
       " 'HF_OCR_answer',\n",
       " 'HF_NON_OCR_answer',\n",
       " 'ViLT',\n",
       " 'SF_LAVIS',\n",
       " 'BLIP2-VQA',\n",
       " 'BLIP2-CTX-VQA']"
      ]
     },
     "execution_count": 154,
     "metadata": {},
     "output_type": "execute_result"
    }
   ],
   "source": [
    "get_model_types(model_output_data)"
   ]
  },
  {
   "cell_type": "markdown",
   "id": "85079a5f-4dcc-45da-8c6f-c474aa6c56b0",
   "metadata": {},
   "source": [
    "## Models accuracy\n",
    "Various VQA models evaluated on VizWiz test set"
   ]
  },
  {
   "cell_type": "markdown",
   "id": "f60c6402-d522-4d73-9fa8-2813c070d344",
   "metadata": {
    "tags": []
   },
   "source": [
    "### Helper functions"
   ]
  },
  {
   "cell_type": "code",
   "execution_count": 155,
   "id": "9f0bcb0e-b174-476b-a9cf-7639bea3b4a9",
   "metadata": {},
   "outputs": [],
   "source": [
    "def remove_periods(q):\n",
    "    \n",
    "    outText = q\n",
    "    puncts = [';', r\"/\", '[', ']', '\"', '{', '}',\n",
    "                                 '(', ')', '=', '+', '\\\\', '_', '-',\n",
    "                                 '>', '<', '@', '`', ',', '?', '!']\n",
    "    comma_strip = re.compile(\"(\\d)(\\,)(\\d)\")\n",
    "    periodStrip  = re.compile(\"(?!<=\\d)(\\.)(?!\\d)\")\n",
    "    for p in puncts:\n",
    "        if (p + ' ' in q or ' ' + p in q) or (re.search(comma_strip, q) != None):\n",
    "            outText = outText.replace(p, '')\n",
    "        else:\n",
    "            outText = outText.replace(p, ' ')\n",
    "            outText = periodStrip.sub(\"\",\n",
    "                                           outText,\n",
    "                                           re.UNICODE)\n",
    "    return outText"
   ]
  },
  {
   "cell_type": "code",
   "execution_count": 156,
   "id": "c5f9e30c-22f0-4d65-95e3-1434664d9dba",
   "metadata": {},
   "outputs": [],
   "source": [
    "\n",
    "\n",
    "def num_words_to_digit(q):\n",
    "    \n",
    "    outText = []\n",
    "    tempText = q.lower().split()\n",
    "    manualMap  = { 'none': '0',\n",
    "                    'zero': '0',\n",
    "                    'one': '1',\n",
    "                     'two': '2',\n",
    "                     'three': '3',\n",
    "                     'four': '4',\n",
    "                     'five': '5',\n",
    "                     'six': '6',\n",
    "                     'seven': '7',\n",
    "                     'eight': '8',\n",
    "                     'nine': '9',\n",
    "                     'ten': '10'}\n",
    "    articles     = ['a',\n",
    "                             'an',\n",
    "                             'the'\n",
    "                    ]\n",
    "    contractions = {\"aint\": \"ain't\", \"arent\": \"aren't\", \"cant\": \"can't\", \"couldve\": \"could've\", \"couldnt\": \"couldn't\", \\\n",
    "                            \"couldn'tve\": \"couldn't've\", \"couldnt've\": \"couldn't've\", \"didnt\": \"didn't\", \"doesnt\": \"doesn't\", \"dont\": \"don't\", \"hadnt\": \"hadn't\", \\\n",
    "                            \"hadnt've\": \"hadn't've\", \"hadn'tve\": \"hadn't've\", \"hasnt\": \"hasn't\", \"havent\": \"haven't\", \"hed\": \"he'd\", \"hed've\": \"he'd've\", \\\n",
    "                            \"he'dve\": \"he'd've\", \"hes\": \"he's\", \"howd\": \"how'd\", \"howll\": \"how'll\", \"hows\": \"how's\", \"Id've\": \"I'd've\", \"I'dve\": \"I'd've\", \\\n",
    "                            \"Im\": \"I'm\", \"Ive\": \"I've\", \"isnt\": \"isn't\", \"itd\": \"it'd\", \"itd've\": \"it'd've\", \"it'dve\": \"it'd've\", \"itll\": \"it'll\", \"let's\": \"let's\", \\\n",
    "                            \"maam\": \"ma'am\", \"mightnt\": \"mightn't\", \"mightnt've\": \"mightn't've\", \"mightn'tve\": \"mightn't've\", \"mightve\": \"might've\", \\\n",
    "                            \"mustnt\": \"mustn't\", \"mustve\": \"must've\", \"neednt\": \"needn't\", \"notve\": \"not've\", \"oclock\": \"o'clock\", \"oughtnt\": \"oughtn't\", \\\n",
    "                            \"ow's'at\": \"'ow's'at\", \"'ows'at\": \"'ow's'at\", \"'ow'sat\": \"'ow's'at\", \"shant\": \"shan't\", \"shed've\": \"she'd've\", \"she'dve\": \"she'd've\", \\\n",
    "                            \"she's\": \"she's\", \"shouldve\": \"should've\", \"shouldnt\": \"shouldn't\", \"shouldnt've\": \"shouldn't've\", \"shouldn'tve\": \"shouldn't've\", \\\n",
    "                            \"somebody'd\": \"somebodyd\", \"somebodyd've\": \"somebody'd've\", \"somebody'dve\": \"somebody'd've\", \"somebodyll\": \"somebody'll\", \\\n",
    "                            \"somebodys\": \"somebody's\", \"someoned\": \"someone'd\", \"someoned've\": \"someone'd've\", \"someone'dve\": \"someone'd've\", \\\n",
    "                            \"someonell\": \"someone'll\", \"someones\": \"someone's\", \"somethingd\": \"something'd\", \"somethingd've\": \"something'd've\", \\\n",
    "                            \"something'dve\": \"something'd've\", \"somethingll\": \"something'll\", \"thats\": \"that's\", \"thered\": \"there'd\", \"thered've\": \"there'd've\", \\\n",
    "                            \"there'dve\": \"there'd've\", \"therere\": \"there're\", \"theres\": \"there's\", \"theyd\": \"they'd\", \"theyd've\": \"they'd've\", \\\n",
    "                            \"they'dve\": \"they'd've\", \"theyll\": \"they'll\", \"theyre\": \"they're\", \"theyve\": \"they've\", \"twas\": \"'twas\", \"wasnt\": \"wasn't\", \\\n",
    "                            \"wed've\": \"we'd've\", \"we'dve\": \"we'd've\", \"weve\": \"we've\", \"werent\": \"weren't\", \"whatll\": \"what'll\", \"whatre\": \"what're\", \\\n",
    "                            \"whats\": \"what's\", \"whatve\": \"what've\", \"whens\": \"when's\", \"whered\": \"where'd\", \"wheres\": \"where's\", \"whereve\": \"where've\", \\\n",
    "                            \"whod\": \"who'd\", \"whod've\": \"who'd've\", \"who'dve\": \"who'd've\", \"wholl\": \"who'll\", \"whos\": \"who's\", \"whove\": \"who've\", \"whyll\": \"why'll\", \\\n",
    "                            \"whyre\": \"why're\", \"whys\": \"why's\", \"wont\": \"won't\", \"wouldve\": \"would've\", \"wouldnt\": \"wouldn't\", \"wouldnt've\": \"wouldn't've\", \\\n",
    "                            \"wouldn'tve\": \"wouldn't've\", \"yall\": \"y'all\", \"yall'll\": \"y'all'll\", \"y'allll\": \"y'all'll\", \"yall'd've\": \"y'all'd've\", \\\n",
    "                            \"y'alld've\": \"y'all'd've\", \"y'all'dve\": \"y'all'd've\", \"youd\": \"you'd\", \"youd've\": \"you'd've\", \"you'dve\": \"you'd've\", \\\n",
    "                            \"youll\": \"you'll\", \"youre\": \"you're\", \"youve\": \"you've\"\n",
    "                            }\n",
    "    for word in tempText:\n",
    "        word = manualMap.setdefault(word, word)\n",
    "        if word not in articles:\n",
    "            outText.append(word)\n",
    "        else:\n",
    "            pass\n",
    "\n",
    "    for wordId, word in enumerate(outText):\n",
    "        if word in contractions:\n",
    "            outText[wordId] = contractions[word]\n",
    "    outText = ' '.join(outText)\n",
    "    return outText"
   ]
  },
  {
   "cell_type": "code",
   "execution_count": 157,
   "id": "8c1a1e4a-34de-4424-9c70-53513e90110c",
   "metadata": {},
   "outputs": [],
   "source": [
    "def updateProgress(progress):\n",
    "    \n",
    "    barLength = 20\n",
    "    status = \"\"\n",
    "    if isinstance(progress, int):\n",
    "        progress = float(progress)\n",
    "    if not isinstance(progress, float):\n",
    "        progress = 0\n",
    "        status = \"error: progress var must be float\\r\\n\"\n",
    "    if progress < 0:\n",
    "        progress = 0\n",
    "        status = \"Halt...\\r\\n\"\n",
    "    if progress >= 1:\n",
    "        progress = 1\n",
    "        status = \"Done...\\r\\n\"\n",
    "    block = int(round(barLength*progress))\n",
    "    text = \"\\rFinshed Percent: [{0}] {1}% {2}\".format( \"#\"*block + \"-\"*(barLength-block), int(progress*100), status)\n",
    "    sys.stdout.write(text)\n",
    "    sys.stdout.flush()"
   ]
  },
  {
   "cell_type": "markdown",
   "id": "891890c7-7dec-4199-9ba0-da73929c2a02",
   "metadata": {},
   "source": [
    "### Evaluation"
   ]
  },
  {
   "cell_type": "code",
   "execution_count": 158,
   "id": "44f55e0e-ae3f-412e-a7bb-36eb13b31644",
   "metadata": {},
   "outputs": [],
   "source": [
    "def evaluate_acc_promptcap(model_output_data, model_type):\n",
    "    \"\"\" \n",
    "    Calculates accuracy metric for VQA model\n",
    "    \"\"\"\n",
    "    \n",
    "    accQA       = []\n",
    "    step = 0\n",
    "    \n",
    "    data = model_output_data.copy()\n",
    "    \n",
    "    for img, img_info in data.items():\n",
    "        question = img_info[\"question\"]\n",
    "        gtanswers = img_info[\"gt_answers\"]\n",
    "        for ans in gtanswers:\n",
    "            if type(ans['answer']) == str:\n",
    "                ans['answer'] = ans['answer'].replace('\\n', ' ').replace('\\t', ' ').strip().lower()\n",
    "            else:\n",
    "                ans['answer'] = ' '.join(ans['answer'])\n",
    "        try:\n",
    "            resAns = img_info[model_type]\n",
    "            resAns = resAns.replace('\\n', ' ')\n",
    "            resAns = resAns.replace('\\t', ' ')\n",
    "            resAns = resAns.strip()\n",
    "            resAns = resAns.lower()\n",
    "        except:\n",
    "            resAns = ''\n",
    "        gtAcc = []\n",
    "        gtAnswers = [ans[\"answer\"] for ans in gtanswers]\n",
    "\n",
    "        if len(set(gtAnswers)) > 1:\n",
    "            for ans in gtanswers:\n",
    "                if type(ans['answer']) == str:\n",
    "                    ans[\"answer\"] = remove_periods(ans['answer'])\n",
    "                    ans[\"answer\"] = num_words_to_digit(ans['answer'])\n",
    "                else:\n",
    "                    ans[\"answer\"] = remove_periods(' '.join(ans['answer']))\n",
    "                    ans[\"answer\"] = num_words_to_digit(' '.join(ans['answer']))\n",
    "            resAns = remove_periods(resAns)\n",
    "            resAns = num_words_to_digit(resAns)\n",
    "\n",
    "        for ans in gtanswers:\n",
    "            # otherGTAns = [item for item in gtanswers if item!=ans]\n",
    "            matchingAns = [ans for ans in gtanswers if ans['answer'] == resAns]\n",
    "            acc = min(1, float(len(matchingAns))/3)\n",
    "            gtAcc.append(acc)\n",
    "\n",
    "        avgGTAcc = float(sum(gtAcc))/len(gtAcc)\n",
    "        accQA.append(avgGTAcc)\n",
    "\n",
    "        if step%100 == 0:\n",
    "            updateProgress(step/float(len(data.keys())))\n",
    "        step = step + 1\n",
    "    \n",
    "    return accQA\n"
   ]
  },
  {
   "cell_type": "code",
   "execution_count": 159,
   "id": "a24987b1-6077-4844-b0a3-78e9d833de19",
   "metadata": {},
   "outputs": [
    {
     "name": "stdout",
     "output_type": "stream",
     "text": [
      "Mean: [0.34572715 0.37863144 0.43511959]\n",
      "Standard Deviation: [0.28117462 0.27816829 0.30877242]\n"
     ]
    }
   ],
   "source": [
    "import cv2\n",
    "import numpy as np\n",
    "\n",
    "img_list = list(model_output_data.keys())\n",
    "np.random.shuffle(img_list)\n",
    "img_list = img_list[:25]\n",
    "\n",
    "resized_images = []\n",
    "\n",
    "# Resize the images to a consistent shape\n",
    "target_shape = (300, 300)  # Set your desired target shape here\n",
    "\n",
    "image_path = '/media/arnau/SSD/VizWiz/data/captioning/val/'\n",
    "\n",
    "for img_name in img_list:\n",
    "    image = cv2.imread(image_path + img_name)\n",
    "    resized_image = cv2.resize(image, target_shape)\n",
    "    resized_images.append(resized_image)\n",
    "\n",
    "# Convert the resized_images list to a NumPy array\n",
    "image_array = np.array(resized_images)\n",
    "\n",
    "# Calculate the mean\n",
    "mean = np.mean(image_array, axis=(0, 1, 2)) / 255.0\n",
    "\n",
    "# Calculate the standard deviation\n",
    "std = np.std(image_array, axis=(0, 1, 2)) / 255.0\n",
    "\n",
    "print(\"Mean:\", mean)\n",
    "print(\"Standard Deviation:\", std)\n"
   ]
  },
  {
   "cell_type": "code",
   "execution_count": 160,
   "id": "c1cc814a-923c-4aad-86b5-9c7498a3d795",
   "metadata": {},
   "outputs": [
    {
     "name": "stdout",
     "output_type": "stream",
     "text": [
      "Finshed Percent: [###################-] 93% --> HF_OCR_google_answer: 8.6062%\n",
      "Finshed Percent: [###################-] 93% --> HF_OCR_answer: 7.0159%\n",
      "Finshed Percent: [###################-] 93% --> HF_NON_OCR_answer: 10.6330%\n",
      "Finshed Percent: [###################-] 93% --> ViLT: 9.5104%\n",
      "Finshed Percent: [###################-] 93% --> SF_LAVIS: 15.8403%\n",
      "Finshed Percent: [###################-] 93% --> BLIP2-VQA: 17.2123%\n"
     ]
    }
   ],
   "source": [
    "default_results = []\n",
    "\n",
    "for typ in get_model_types(model_output_data)[:-1]:\n",
    "    res = evaluate_acc_promptcap(model_output_data, typ)\n",
    "    acc = (sum(res) / len(res)) * 100\n",
    "    default_results.append((typ, acc))\n",
    "    print(f\"--> {typ}: {acc:.4f}%\")"
   ]
  },
  {
   "cell_type": "markdown",
   "id": "eea52aef-291c-4fc4-881c-9a694fac2304",
   "metadata": {},
   "source": [
    "## Models accuracy using filtering models"
   ]
  },
  {
   "cell_type": "markdown",
   "id": "a962b338-6de5-40a3-a4e9-a86827c5322a",
   "metadata": {},
   "source": [
    "Models accuracy evaluted on VizWiz test set with a prior filtering of blurred images using a custom blur detection model"
   ]
  },
  {
   "cell_type": "code",
   "execution_count": 161,
   "id": "6db8f037-4264-42e5-b86f-6d20bb6ea446",
   "metadata": {},
   "outputs": [],
   "source": [
    "import torch.nn.functional as F\n",
    "\n",
    "def model_inference(img, model_params, multiclass=None):\n",
    "    \"\"\"\n",
    "    Returns 1 if the input image is blurred otherwise returns 0\n",
    "    \"\"\"\n",
    "    \n",
    "    #model, device, thr = model_params\n",
    "    model, device = model_params\n",
    "\n",
    "    trnsfm = {\n",
    "    'val': transforms.Compose([\n",
    "        transforms.Resize((224, 224)),\n",
    "        transforms.ToTensor(),\n",
    "        transforms.Normalize(mean=[0.33011644, 0.40721696, 0.51554057], \n",
    "                             std=[0.26439891, 0.26886196, 0.27917049])\n",
    "    ])\n",
    "    }\n",
    "\n",
    "    model.eval()\n",
    "\n",
    "    if type(img) == str:\n",
    "        test_path = '/media/arnau/SSD/VizWiz/data/captioning/val/'\n",
    "        img_path = os.path.join(test_path, img)\n",
    "        img = Image.open(img_path)\n",
    "\n",
    "    img = trnsfm[\"val\"](img)\n",
    "    img = img[None, :, :, :] \n",
    "    img = img.to(device)\n",
    "    outputs = model(img)\n",
    "\n",
    "    if not multiclass:\n",
    "        pred = torch.sigmoid(outputs.data).cpu().detach().numpy().tolist()[0][0]\n",
    "        pred_res = pred\n",
    "        #pred_res = 1 if float(pred) > float(thr) else 0\n",
    "    else:\n",
    "        # prob of being class0 (clear)\n",
    "        pred = F.softmax(outputs.data).cpu().detach().numpy()[0][0] \n",
    "        #pred_res = 0 if float(pred) > float(thr) else 1\n",
    "        pred_res = 1 - pred # prob flawed = 1 - prob clear\n",
    "        #pred_res = torch.argmax(outputs.data, 1).cpu().detach().numpy()[0]\n",
    "\n",
    "    return pred_res\n"
   ]
  },
  {
   "cell_type": "code",
   "execution_count": 162,
   "id": "2ade40e5-7c04-4092-a3c0-1f89c8a67d10",
   "metadata": {},
   "outputs": [],
   "source": [
    "def initialize_model(model_path, num_classes):\n",
    "    \"\"\"\n",
    "    Initializes the blur model\n",
    "    \"\"\"\n",
    "    \n",
    "    # GPU device\n",
    "    device = torch.device(\"cuda:0\" if torch.cuda.is_available() else \"cpu\")\n",
    "    \n",
    "    model = models.convnext_tiny(weights='IMAGENET1K_V1')\n",
    "\n",
    "    num_ftrs = model.classifier[-1].in_features\n",
    "    model.classifier[-1] = nn.Linear(num_ftrs, num_classes)\n",
    "    \n",
    "    # Load custom blur model\n",
    "    model.load_state_dict(torch.load(model_path))\n",
    "    model = model.to(device)\n",
    "    \n",
    "    return model"
   ]
  },
  {
   "cell_type": "code",
   "execution_count": 163,
   "id": "0e34f050-9a3b-4c64-b5a4-2d963187a90f",
   "metadata": {},
   "outputs": [],
   "source": [
    "def get_clear_images(model_output_data, model_params, multiclass):\n",
    "    \"\"\"\n",
    "    Given a dataset of images, returns a filtered array where the blurred images\n",
    "    have been removed\n",
    "    \"\"\"\n",
    "    \n",
    "    clear_images = {}\n",
    "    \n",
    "    for img, img_info in model_output_data.items():\n",
    "        # Flaw model filter with %\n",
    "        flaw_detection = model_inference(img, model_params, multiclass) # Returns 1 if img is blur otherwise 0\n",
    "        if flaw_detection != 1:\n",
    "            clear_images[img] = img_info\n",
    "            \n",
    "    return clear_images\n",
    " \n",
    "    \n",
    "def percent_imgs_rejected(og_data, filt_data):\n",
    "    #imgs_rejected = len(og_data.keys()) - len(filt_data.keys())\n",
    "    \n",
    "    #if len(filt_data.keys()) == 0:\n",
    "        #p_imgs_rejected = 0.0\n",
    "        \n",
    "    #p_imgs_rejected = (imgs_rejected / len(og_data.keys())) * 100\n",
    "    \n",
    "    p_imgs_rejected =  100. - 100. * len(filt_data.keys()) / len(og_data.keys())\n",
    "    \n",
    "    return p_imgs_rejected\n",
    "\n",
    "    "
   ]
  },
  {
   "cell_type": "code",
   "execution_count": 164,
   "id": "0c6a9112-c5c3-4d19-b6c9-e2d2b5c25770",
   "metadata": {},
   "outputs": [],
   "source": [
    "def load_model(model_path):\n",
    "    flaw = model_path.split(\"_\")[1]\n",
    "    num_classes = 1 if flaw in [\"BLR\", \"FRM\"] else 4\n",
    "\n",
    "\n",
    "    model = initialize_model(model_path, num_classes, )\n",
    "\n",
    "    model_params = (model, device)\n",
    "\n",
    "    last_layer = model_params[0].classifier[-1]\n",
    "    num_classes = last_layer.out_features\n",
    "    multiclass = True if num_classes > 1 else False\n",
    "\n",
    "    return model_params, multiclass"
   ]
  },
  {
   "cell_type": "code",
   "execution_count": 165,
   "id": "62c78fd5-2e81-4662-a22b-e387a549775e",
   "metadata": {},
   "outputs": [],
   "source": [
    "def flaw_model_vqa_acc(vqa_model_type, flaw_model_params):\n",
    "    \"\"\"\n",
    "    For a given Flaw detection model returns a pandas \n",
    "    DataFrame with every image and its corresponding prediction\n",
    "    along with its VQA accuracy\n",
    "    \"\"\"\n",
    "\n",
    "    wdata = {\n",
    "            \"img_name\" : [],\n",
    "            \"prob_flawed\" : [],\n",
    "            \"vqa_acc\" : []\n",
    "            }\n",
    "\n",
    "    # For each img in the test set calculate it's blur_pred and vqa_acc\n",
    "    for i, (img_name, img_info) in enumerate(model_output_data.items()):\n",
    "        # Prediction of the flawed model (e.g 0.98)\n",
    "        img_pred = model_inference(img_name, flaw_model_params[0], multiclass=flaw_model_params[1])\n",
    "        # VQA acc of the image for a specific model \n",
    "        img_vqa_acc = evaluate_acc_promptcap({img_name : img_info}, vqa_model_type)[0]\n",
    "\n",
    "        # Save data to df\n",
    "        wdata[\"img_name\"].append(img_name)\n",
    "        wdata[\"prob_flawed\"].append(img_pred)\n",
    "        wdata[\"vqa_acc\"].append(img_vqa_acc)\n",
    "\n",
    "    # Create dataframe sorted by highest probability of flawed images\n",
    "    df_imgs_vqa_acc = pd.DataFrame.from_dict(wdata).sort_values(\"prob_flawed\", ascending=False)\n",
    "    \n",
    "    return df_imgs_vqa_acc"
   ]
  },
  {
   "cell_type": "code",
   "execution_count": 166,
   "id": "27b56661-ebbe-4a62-804b-259ba19fbfcb",
   "metadata": {},
   "outputs": [],
   "source": [
    "def get_model_vqa_acc(flaw_model_type):\n",
    "    \"\"\"\n",
    "    Given a Flaw detection model creates a pandas dataframe\n",
    "    with its accuracy improvement for every rejection percentage\n",
    "    Saves the dataframe to a csv file.\n",
    "    \"\"\"\n",
    "\n",
    "    dict_vqa_acc = {    \"vqa_model_type\" : [],\n",
    "                        \"rej_perc\" : [],\n",
    "                        \"vqa_acc\" : []\n",
    "                    }\n",
    "\n",
    "\n",
    "    model_path = '../outputs/best_' + flaw_model_type + '_convnext.pth'\n",
    "    flaw_model_params = load_model(model_path)\n",
    "    # For every vqa model\n",
    "    for vqa_model_type in get_model_types(model_output_data)[:-1]:\n",
    "        # For every rejection percentage\n",
    "        for rr in np.arange(0., 1.0, 0.05):\n",
    "            # Get df with vqa_acc for every image\n",
    "            df_imgs_vqa_acc = flaw_model_vqa_acc(vqa_model_type, flaw_model_params)\n",
    "\n",
    "            n_rej_imgs = int(rr * len(df_imgs_vqa_acc))\n",
    "            \n",
    "            # NOTE: df with good clean images (discarding high acc flaw prob.)\n",
    "            df_imgs_vqa_acc = df_imgs_vqa_acc[n_rej_imgs:]\n",
    "\n",
    "            if rr == 1.0:\n",
    "                acc = 100.\n",
    "            else:\n",
    "                acc = (df_imgs_vqa_acc[\"vqa_acc\"].sum() / len(df_imgs_vqa_acc)) * 100\n",
    "            \n",
    "                #print(f\"Percentage of rej_imgs = {rr*100:.2f}, vqa_acc = {acc:.2f}\")\n",
    "\n",
    "            # add data to dict\n",
    "            dict_vqa_acc[\"vqa_model_type\"].append(vqa_model_type)\n",
    "            dict_vqa_acc[\"rej_perc\"].append(rr * 100)\n",
    "            dict_vqa_acc[\"vqa_acc\"].append(acc)\n",
    "\n",
    "    df = pd.DataFrame.from_dict(dict_vqa_acc)\n",
    "    df.to_csv(f\"../data/{flaw_model_type}_vqa_acc.csv\", index=False)"
   ]
  },
  {
   "cell_type": "code",
   "execution_count": 167,
   "id": "df0452c3",
   "metadata": {},
   "outputs": [],
   "source": [
    "def draw_rej_acc_plot(df, flaw):\n",
    "  \"\"\"\n",
    "  Draw rejection percentage vs vqa accuracy plot for each vqa model\n",
    "  of a specific flaw detection model\n",
    "  \"\"\"\n",
    "\n",
    "  fig, ax = plt.subplots(figsize=(6,4))\n",
    "\n",
    "  map_type = { \"HF_OCR_google_answer\" : \"PromptCap + GoogleOCR\",\n",
    "                  \"HF_OCR_answer\" : \"PromptCap + EasyOCR\",\n",
    "                  \"HF_NON_OCR_answer\": \"PromptCap\",\n",
    "              \"SF_LAVIS\" : \"BLIP-VQA\"\n",
    "            }\n",
    "\n",
    "\n",
    "  for typ in get_model_types(model_output_data)[:-1]:\n",
    "    data = df[df[\"vqa_model_type\"] == typ].sort_values('rej_perc')\n",
    "\n",
    "    if typ in map_type.keys():\n",
    "      typ = map_type[typ]\n",
    "\n",
    "    ax.plot(data[\"rej_perc\"].tolist(),\n",
    "            data[\"vqa_acc\"].tolist(), label=typ)\n",
    "    ax.legend(loc='upper center', bbox_to_anchor=(0.5, -0.2),\n",
    "          fancybox=True, shadow=True, ncol=5, fontsize=7)\n",
    "    \n",
    "    ax.set_xlabel(\"Percentage of rejected images\")\n",
    "    ax.set_axisbelow(True)\n",
    "    ax.yaxis.grid(color='gray', linewidth=0.15)\n",
    "    ax.spines['top'].set_visible(False)\n",
    "    ax.spines['right'].set_visible(False)\n",
    "    ax.spines['left'].set_visible(False)\n",
    "    ax.spines['bottom'].set_color('#DDDDDD')\n",
    "    ax.tick_params(bottom=False, left=False)\n",
    "    vals = ax.get_xticks()\n",
    "    ax.set_xticklabels(['{:,.0%}'.format(x/100) for x in vals])\n",
    "    ax.set_ylabel(\"Accuracy (%)\")\n",
    "\n",
    "  fig.savefig(f\"/media/arnau/SSD/VizWiz/plots/{flaw}_vqa_acc.png\", dpi=300, bbox_inches='tight') \n",
    "\n",
    "  plt.show()"
   ]
  },
  {
   "cell_type": "code",
   "execution_count": 168,
   "id": "d26b6faa",
   "metadata": {},
   "outputs": [
    {
     "name": "stdout",
     "output_type": "stream",
     "text": [
      "Finshed Percent: [--------------------] 0% "
     ]
    },
    {
     "name": "stderr",
     "output_type": "stream",
     "text": [
      "/tmp/ipykernel_3255/3533484795.py:38: UserWarning: Implicit dimension choice for softmax has been deprecated. Change the call to include dim=X as an argument.\n",
      "  pred = F.softmax(outputs.data).cpu().detach().numpy()[0][0]\n"
     ]
    },
    {
     "name": "stdout",
     "output_type": "stream",
     "text": [
      "Finshed Percent: [--------------------] 0% "
     ]
    },
    {
     "name": "stderr",
     "output_type": "stream",
     "text": [
      "/tmp/ipykernel_3255/3533484795.py:38: UserWarning: Implicit dimension choice for softmax has been deprecated. Change the call to include dim=X as an argument.\n",
      "  pred = F.softmax(outputs.data).cpu().detach().numpy()[0][0]\n"
     ]
    },
    {
     "name": "stdout",
     "output_type": "stream",
     "text": [
      "Finshed Percent: [--------------------] 0% "
     ]
    },
    {
     "name": "stderr",
     "output_type": "stream",
     "text": [
      "/tmp/ipykernel_3255/3533484795.py:38: UserWarning: Implicit dimension choice for softmax has been deprecated. Change the call to include dim=X as an argument.\n",
      "  pred = F.softmax(outputs.data).cpu().detach().numpy()[0][0]\n"
     ]
    },
    {
     "name": "stdout",
     "output_type": "stream",
     "text": [
      "Finshed Percent: [--------------------] 0% "
     ]
    },
    {
     "name": "stderr",
     "output_type": "stream",
     "text": [
      "/tmp/ipykernel_3255/3533484795.py:38: UserWarning: Implicit dimension choice for softmax has been deprecated. Change the call to include dim=X as an argument.\n",
      "  pred = F.softmax(outputs.data).cpu().detach().numpy()[0][0]\n"
     ]
    },
    {
     "name": "stdout",
     "output_type": "stream",
     "text": [
      "Finshed Percent: [--------------------] 0% "
     ]
    },
    {
     "name": "stderr",
     "output_type": "stream",
     "text": [
      "/tmp/ipykernel_3255/3533484795.py:38: UserWarning: Implicit dimension choice for softmax has been deprecated. Change the call to include dim=X as an argument.\n",
      "  pred = F.softmax(outputs.data).cpu().detach().numpy()[0][0]\n"
     ]
    },
    {
     "name": "stdout",
     "output_type": "stream",
     "text": [
      "Finshed Percent: [--------------------] 0% "
     ]
    },
    {
     "name": "stderr",
     "output_type": "stream",
     "text": [
      "/tmp/ipykernel_3255/3533484795.py:38: UserWarning: Implicit dimension choice for softmax has been deprecated. Change the call to include dim=X as an argument.\n",
      "  pred = F.softmax(outputs.data).cpu().detach().numpy()[0][0]\n"
     ]
    },
    {
     "name": "stdout",
     "output_type": "stream",
     "text": [
      "Finshed Percent: [--------------------] 0% "
     ]
    },
    {
     "name": "stderr",
     "output_type": "stream",
     "text": [
      "/tmp/ipykernel_3255/3533484795.py:38: UserWarning: Implicit dimension choice for softmax has been deprecated. Change the call to include dim=X as an argument.\n",
      "  pred = F.softmax(outputs.data).cpu().detach().numpy()[0][0]\n"
     ]
    },
    {
     "name": "stdout",
     "output_type": "stream",
     "text": [
      "Finshed Percent: [--------------------] 0% "
     ]
    },
    {
     "name": "stderr",
     "output_type": "stream",
     "text": [
      "/tmp/ipykernel_3255/3533484795.py:38: UserWarning: Implicit dimension choice for softmax has been deprecated. Change the call to include dim=X as an argument.\n",
      "  pred = F.softmax(outputs.data).cpu().detach().numpy()[0][0]\n"
     ]
    },
    {
     "name": "stdout",
     "output_type": "stream",
     "text": [
      "Finshed Percent: [--------------------] 0% "
     ]
    },
    {
     "name": "stderr",
     "output_type": "stream",
     "text": [
      "/tmp/ipykernel_3255/3533484795.py:38: UserWarning: Implicit dimension choice for softmax has been deprecated. Change the call to include dim=X as an argument.\n",
      "  pred = F.softmax(outputs.data).cpu().detach().numpy()[0][0]\n"
     ]
    },
    {
     "name": "stdout",
     "output_type": "stream",
     "text": [
      "Finshed Percent: [--------------------] 0% "
     ]
    },
    {
     "name": "stderr",
     "output_type": "stream",
     "text": [
      "/tmp/ipykernel_3255/3533484795.py:38: UserWarning: Implicit dimension choice for softmax has been deprecated. Change the call to include dim=X as an argument.\n",
      "  pred = F.softmax(outputs.data).cpu().detach().numpy()[0][0]\n"
     ]
    },
    {
     "name": "stdout",
     "output_type": "stream",
     "text": [
      "Finshed Percent: [--------------------] 0% "
     ]
    },
    {
     "name": "stderr",
     "output_type": "stream",
     "text": [
      "/tmp/ipykernel_3255/3533484795.py:38: UserWarning: Implicit dimension choice for softmax has been deprecated. Change the call to include dim=X as an argument.\n",
      "  pred = F.softmax(outputs.data).cpu().detach().numpy()[0][0]\n"
     ]
    },
    {
     "name": "stdout",
     "output_type": "stream",
     "text": [
      "Finshed Percent: [--------------------] 0% "
     ]
    },
    {
     "name": "stderr",
     "output_type": "stream",
     "text": [
      "/tmp/ipykernel_3255/3533484795.py:38: UserWarning: Implicit dimension choice for softmax has been deprecated. Change the call to include dim=X as an argument.\n",
      "  pred = F.softmax(outputs.data).cpu().detach().numpy()[0][0]\n"
     ]
    },
    {
     "name": "stdout",
     "output_type": "stream",
     "text": [
      "Finshed Percent: [--------------------] 0% "
     ]
    },
    {
     "name": "stderr",
     "output_type": "stream",
     "text": [
      "/tmp/ipykernel_3255/3533484795.py:38: UserWarning: Implicit dimension choice for softmax has been deprecated. Change the call to include dim=X as an argument.\n",
      "  pred = F.softmax(outputs.data).cpu().detach().numpy()[0][0]\n"
     ]
    },
    {
     "name": "stdout",
     "output_type": "stream",
     "text": [
      "Finshed Percent: [--------------------] 0% "
     ]
    },
    {
     "name": "stderr",
     "output_type": "stream",
     "text": [
      "/tmp/ipykernel_3255/3533484795.py:38: UserWarning: Implicit dimension choice for softmax has been deprecated. Change the call to include dim=X as an argument.\n",
      "  pred = F.softmax(outputs.data).cpu().detach().numpy()[0][0]\n"
     ]
    },
    {
     "name": "stdout",
     "output_type": "stream",
     "text": [
      "Finshed Percent: [--------------------] 0% "
     ]
    },
    {
     "name": "stderr",
     "output_type": "stream",
     "text": [
      "/tmp/ipykernel_3255/3533484795.py:38: UserWarning: Implicit dimension choice for softmax has been deprecated. Change the call to include dim=X as an argument.\n",
      "  pred = F.softmax(outputs.data).cpu().detach().numpy()[0][0]\n"
     ]
    },
    {
     "name": "stdout",
     "output_type": "stream",
     "text": [
      "Finshed Percent: [--------------------] 0% "
     ]
    },
    {
     "name": "stderr",
     "output_type": "stream",
     "text": [
      "/tmp/ipykernel_3255/3533484795.py:38: UserWarning: Implicit dimension choice for softmax has been deprecated. Change the call to include dim=X as an argument.\n",
      "  pred = F.softmax(outputs.data).cpu().detach().numpy()[0][0]\n"
     ]
    },
    {
     "name": "stdout",
     "output_type": "stream",
     "text": [
      "Finshed Percent: [--------------------] 0% "
     ]
    },
    {
     "name": "stderr",
     "output_type": "stream",
     "text": [
      "/tmp/ipykernel_3255/3533484795.py:38: UserWarning: Implicit dimension choice for softmax has been deprecated. Change the call to include dim=X as an argument.\n",
      "  pred = F.softmax(outputs.data).cpu().detach().numpy()[0][0]\n"
     ]
    },
    {
     "name": "stdout",
     "output_type": "stream",
     "text": [
      "Finshed Percent: [--------------------] 0% "
     ]
    },
    {
     "name": "stderr",
     "output_type": "stream",
     "text": [
      "/tmp/ipykernel_3255/3533484795.py:38: UserWarning: Implicit dimension choice for softmax has been deprecated. Change the call to include dim=X as an argument.\n",
      "  pred = F.softmax(outputs.data).cpu().detach().numpy()[0][0]\n"
     ]
    },
    {
     "name": "stdout",
     "output_type": "stream",
     "text": [
      "Finshed Percent: [--------------------] 0% "
     ]
    },
    {
     "name": "stderr",
     "output_type": "stream",
     "text": [
      "/tmp/ipykernel_3255/3533484795.py:38: UserWarning: Implicit dimension choice for softmax has been deprecated. Change the call to include dim=X as an argument.\n",
      "  pred = F.softmax(outputs.data).cpu().detach().numpy()[0][0]\n"
     ]
    },
    {
     "name": "stdout",
     "output_type": "stream",
     "text": [
      "Finshed Percent: [--------------------] 0% "
     ]
    },
    {
     "name": "stderr",
     "output_type": "stream",
     "text": [
      "/tmp/ipykernel_3255/3533484795.py:38: UserWarning: Implicit dimension choice for softmax has been deprecated. Change the call to include dim=X as an argument.\n",
      "  pred = F.softmax(outputs.data).cpu().detach().numpy()[0][0]\n"
     ]
    },
    {
     "name": "stdout",
     "output_type": "stream",
     "text": [
      "Finshed Percent: [--------------------] 0% "
     ]
    },
    {
     "name": "stderr",
     "output_type": "stream",
     "text": [
      "/tmp/ipykernel_3255/3533484795.py:38: UserWarning: Implicit dimension choice for softmax has been deprecated. Change the call to include dim=X as an argument.\n",
      "  pred = F.softmax(outputs.data).cpu().detach().numpy()[0][0]\n"
     ]
    },
    {
     "name": "stdout",
     "output_type": "stream",
     "text": [
      "Finshed Percent: [--------------------] 0% "
     ]
    },
    {
     "name": "stderr",
     "output_type": "stream",
     "text": [
      "/tmp/ipykernel_3255/3533484795.py:38: UserWarning: Implicit dimension choice for softmax has been deprecated. Change the call to include dim=X as an argument.\n",
      "  pred = F.softmax(outputs.data).cpu().detach().numpy()[0][0]\n"
     ]
    },
    {
     "name": "stdout",
     "output_type": "stream",
     "text": [
      "Finshed Percent: [--------------------] 0% "
     ]
    },
    {
     "name": "stderr",
     "output_type": "stream",
     "text": [
      "/tmp/ipykernel_3255/3533484795.py:38: UserWarning: Implicit dimension choice for softmax has been deprecated. Change the call to include dim=X as an argument.\n",
      "  pred = F.softmax(outputs.data).cpu().detach().numpy()[0][0]\n"
     ]
    },
    {
     "name": "stdout",
     "output_type": "stream",
     "text": [
      "Finshed Percent: [--------------------] 0% "
     ]
    },
    {
     "name": "stderr",
     "output_type": "stream",
     "text": [
      "/tmp/ipykernel_3255/3533484795.py:38: UserWarning: Implicit dimension choice for softmax has been deprecated. Change the call to include dim=X as an argument.\n",
      "  pred = F.softmax(outputs.data).cpu().detach().numpy()[0][0]\n"
     ]
    },
    {
     "name": "stdout",
     "output_type": "stream",
     "text": [
      "Finshed Percent: [--------------------] 0% "
     ]
    },
    {
     "name": "stderr",
     "output_type": "stream",
     "text": [
      "/tmp/ipykernel_3255/3533484795.py:38: UserWarning: Implicit dimension choice for softmax has been deprecated. Change the call to include dim=X as an argument.\n",
      "  pred = F.softmax(outputs.data).cpu().detach().numpy()[0][0]\n"
     ]
    },
    {
     "name": "stdout",
     "output_type": "stream",
     "text": [
      "Finshed Percent: [--------------------] 0% "
     ]
    },
    {
     "name": "stderr",
     "output_type": "stream",
     "text": [
      "/tmp/ipykernel_3255/3533484795.py:38: UserWarning: Implicit dimension choice for softmax has been deprecated. Change the call to include dim=X as an argument.\n",
      "  pred = F.softmax(outputs.data).cpu().detach().numpy()[0][0]\n"
     ]
    },
    {
     "name": "stdout",
     "output_type": "stream",
     "text": [
      "Finshed Percent: [--------------------] 0% "
     ]
    },
    {
     "name": "stderr",
     "output_type": "stream",
     "text": [
      "/tmp/ipykernel_3255/3533484795.py:38: UserWarning: Implicit dimension choice for softmax has been deprecated. Change the call to include dim=X as an argument.\n",
      "  pred = F.softmax(outputs.data).cpu().detach().numpy()[0][0]\n"
     ]
    },
    {
     "name": "stdout",
     "output_type": "stream",
     "text": [
      "Finshed Percent: [--------------------] 0% "
     ]
    },
    {
     "name": "stderr",
     "output_type": "stream",
     "text": [
      "/tmp/ipykernel_3255/3533484795.py:38: UserWarning: Implicit dimension choice for softmax has been deprecated. Change the call to include dim=X as an argument.\n",
      "  pred = F.softmax(outputs.data).cpu().detach().numpy()[0][0]\n"
     ]
    },
    {
     "name": "stdout",
     "output_type": "stream",
     "text": [
      "Finshed Percent: [--------------------] 0% "
     ]
    },
    {
     "name": "stderr",
     "output_type": "stream",
     "text": [
      "/tmp/ipykernel_3255/3533484795.py:38: UserWarning: Implicit dimension choice for softmax has been deprecated. Change the call to include dim=X as an argument.\n",
      "  pred = F.softmax(outputs.data).cpu().detach().numpy()[0][0]\n"
     ]
    },
    {
     "name": "stdout",
     "output_type": "stream",
     "text": [
      "Finshed Percent: [--------------------] 0% "
     ]
    },
    {
     "name": "stderr",
     "output_type": "stream",
     "text": [
      "/tmp/ipykernel_3255/3533484795.py:38: UserWarning: Implicit dimension choice for softmax has been deprecated. Change the call to include dim=X as an argument.\n",
      "  pred = F.softmax(outputs.data).cpu().detach().numpy()[0][0]\n"
     ]
    },
    {
     "name": "stdout",
     "output_type": "stream",
     "text": [
      "Finshed Percent: [--------------------] 0% "
     ]
    },
    {
     "name": "stderr",
     "output_type": "stream",
     "text": [
      "/tmp/ipykernel_3255/3533484795.py:38: UserWarning: Implicit dimension choice for softmax has been deprecated. Change the call to include dim=X as an argument.\n",
      "  pred = F.softmax(outputs.data).cpu().detach().numpy()[0][0]\n"
     ]
    },
    {
     "name": "stdout",
     "output_type": "stream",
     "text": [
      "Finshed Percent: [--------------------] 0% "
     ]
    },
    {
     "name": "stderr",
     "output_type": "stream",
     "text": [
      "/tmp/ipykernel_3255/3533484795.py:38: UserWarning: Implicit dimension choice for softmax has been deprecated. Change the call to include dim=X as an argument.\n",
      "  pred = F.softmax(outputs.data).cpu().detach().numpy()[0][0]\n"
     ]
    },
    {
     "name": "stdout",
     "output_type": "stream",
     "text": [
      "Finshed Percent: [--------------------] 0% "
     ]
    },
    {
     "name": "stderr",
     "output_type": "stream",
     "text": [
      "/tmp/ipykernel_3255/3533484795.py:38: UserWarning: Implicit dimension choice for softmax has been deprecated. Change the call to include dim=X as an argument.\n",
      "  pred = F.softmax(outputs.data).cpu().detach().numpy()[0][0]\n"
     ]
    },
    {
     "name": "stdout",
     "output_type": "stream",
     "text": [
      "Finshed Percent: [--------------------] 0% "
     ]
    },
    {
     "name": "stderr",
     "output_type": "stream",
     "text": [
      "/tmp/ipykernel_3255/3533484795.py:38: UserWarning: Implicit dimension choice for softmax has been deprecated. Change the call to include dim=X as an argument.\n",
      "  pred = F.softmax(outputs.data).cpu().detach().numpy()[0][0]\n"
     ]
    },
    {
     "name": "stdout",
     "output_type": "stream",
     "text": [
      "Finshed Percent: [--------------------] 0% "
     ]
    },
    {
     "name": "stderr",
     "output_type": "stream",
     "text": [
      "/tmp/ipykernel_3255/3533484795.py:38: UserWarning: Implicit dimension choice for softmax has been deprecated. Change the call to include dim=X as an argument.\n",
      "  pred = F.softmax(outputs.data).cpu().detach().numpy()[0][0]\n"
     ]
    },
    {
     "name": "stdout",
     "output_type": "stream",
     "text": [
      "Finshed Percent: [--------------------] 0% "
     ]
    },
    {
     "name": "stderr",
     "output_type": "stream",
     "text": [
      "/tmp/ipykernel_3255/3533484795.py:38: UserWarning: Implicit dimension choice for softmax has been deprecated. Change the call to include dim=X as an argument.\n",
      "  pred = F.softmax(outputs.data).cpu().detach().numpy()[0][0]\n"
     ]
    },
    {
     "name": "stdout",
     "output_type": "stream",
     "text": [
      "Finshed Percent: [--------------------] 0% "
     ]
    },
    {
     "name": "stderr",
     "output_type": "stream",
     "text": [
      "/tmp/ipykernel_3255/3533484795.py:38: UserWarning: Implicit dimension choice for softmax has been deprecated. Change the call to include dim=X as an argument.\n",
      "  pred = F.softmax(outputs.data).cpu().detach().numpy()[0][0]\n"
     ]
    },
    {
     "name": "stdout",
     "output_type": "stream",
     "text": [
      "Finshed Percent: [--------------------] 0% "
     ]
    },
    {
     "name": "stderr",
     "output_type": "stream",
     "text": [
      "/tmp/ipykernel_3255/3533484795.py:38: UserWarning: Implicit dimension choice for softmax has been deprecated. Change the call to include dim=X as an argument.\n",
      "  pred = F.softmax(outputs.data).cpu().detach().numpy()[0][0]\n"
     ]
    },
    {
     "name": "stdout",
     "output_type": "stream",
     "text": [
      "Finshed Percent: [--------------------] 0% "
     ]
    },
    {
     "name": "stderr",
     "output_type": "stream",
     "text": [
      "/tmp/ipykernel_3255/3533484795.py:38: UserWarning: Implicit dimension choice for softmax has been deprecated. Change the call to include dim=X as an argument.\n",
      "  pred = F.softmax(outputs.data).cpu().detach().numpy()[0][0]\n"
     ]
    },
    {
     "name": "stdout",
     "output_type": "stream",
     "text": [
      "Finshed Percent: [--------------------] 0% "
     ]
    },
    {
     "name": "stderr",
     "output_type": "stream",
     "text": [
      "/tmp/ipykernel_3255/3533484795.py:38: UserWarning: Implicit dimension choice for softmax has been deprecated. Change the call to include dim=X as an argument.\n",
      "  pred = F.softmax(outputs.data).cpu().detach().numpy()[0][0]\n"
     ]
    },
    {
     "name": "stdout",
     "output_type": "stream",
     "text": [
      "Finshed Percent: [--------------------] 0% "
     ]
    },
    {
     "name": "stderr",
     "output_type": "stream",
     "text": [
      "/tmp/ipykernel_3255/3533484795.py:38: UserWarning: Implicit dimension choice for softmax has been deprecated. Change the call to include dim=X as an argument.\n",
      "  pred = F.softmax(outputs.data).cpu().detach().numpy()[0][0]\n"
     ]
    },
    {
     "name": "stdout",
     "output_type": "stream",
     "text": [
      "Finshed Percent: [--------------------] 0% "
     ]
    },
    {
     "name": "stderr",
     "output_type": "stream",
     "text": [
      "/tmp/ipykernel_3255/3533484795.py:38: UserWarning: Implicit dimension choice for softmax has been deprecated. Change the call to include dim=X as an argument.\n",
      "  pred = F.softmax(outputs.data).cpu().detach().numpy()[0][0]\n"
     ]
    },
    {
     "name": "stdout",
     "output_type": "stream",
     "text": [
      "Finshed Percent: [--------------------] 0% "
     ]
    },
    {
     "name": "stderr",
     "output_type": "stream",
     "text": [
      "/tmp/ipykernel_3255/3533484795.py:38: UserWarning: Implicit dimension choice for softmax has been deprecated. Change the call to include dim=X as an argument.\n",
      "  pred = F.softmax(outputs.data).cpu().detach().numpy()[0][0]\n"
     ]
    },
    {
     "name": "stdout",
     "output_type": "stream",
     "text": [
      "Finshed Percent: [--------------------] 0% "
     ]
    },
    {
     "name": "stderr",
     "output_type": "stream",
     "text": [
      "/tmp/ipykernel_3255/3533484795.py:38: UserWarning: Implicit dimension choice for softmax has been deprecated. Change the call to include dim=X as an argument.\n",
      "  pred = F.softmax(outputs.data).cpu().detach().numpy()[0][0]\n"
     ]
    },
    {
     "name": "stdout",
     "output_type": "stream",
     "text": [
      "Finshed Percent: [--------------------] 0% "
     ]
    },
    {
     "name": "stderr",
     "output_type": "stream",
     "text": [
      "/tmp/ipykernel_3255/3533484795.py:38: UserWarning: Implicit dimension choice for softmax has been deprecated. Change the call to include dim=X as an argument.\n",
      "  pred = F.softmax(outputs.data).cpu().detach().numpy()[0][0]\n"
     ]
    },
    {
     "name": "stdout",
     "output_type": "stream",
     "text": [
      "Finshed Percent: [--------------------] 0% "
     ]
    },
    {
     "name": "stderr",
     "output_type": "stream",
     "text": [
      "/tmp/ipykernel_3255/3533484795.py:38: UserWarning: Implicit dimension choice for softmax has been deprecated. Change the call to include dim=X as an argument.\n",
      "  pred = F.softmax(outputs.data).cpu().detach().numpy()[0][0]\n"
     ]
    },
    {
     "name": "stdout",
     "output_type": "stream",
     "text": [
      "Finshed Percent: [--------------------] 0% "
     ]
    },
    {
     "name": "stderr",
     "output_type": "stream",
     "text": [
      "/tmp/ipykernel_3255/3533484795.py:38: UserWarning: Implicit dimension choice for softmax has been deprecated. Change the call to include dim=X as an argument.\n",
      "  pred = F.softmax(outputs.data).cpu().detach().numpy()[0][0]\n"
     ]
    },
    {
     "name": "stdout",
     "output_type": "stream",
     "text": [
      "Finshed Percent: [--------------------] 0% "
     ]
    },
    {
     "name": "stderr",
     "output_type": "stream",
     "text": [
      "/tmp/ipykernel_3255/3533484795.py:38: UserWarning: Implicit dimension choice for softmax has been deprecated. Change the call to include dim=X as an argument.\n",
      "  pred = F.softmax(outputs.data).cpu().detach().numpy()[0][0]\n"
     ]
    },
    {
     "name": "stdout",
     "output_type": "stream",
     "text": [
      "Finshed Percent: [--------------------] 0% "
     ]
    },
    {
     "name": "stderr",
     "output_type": "stream",
     "text": [
      "/tmp/ipykernel_3255/3533484795.py:38: UserWarning: Implicit dimension choice for softmax has been deprecated. Change the call to include dim=X as an argument.\n",
      "  pred = F.softmax(outputs.data).cpu().detach().numpy()[0][0]\n"
     ]
    },
    {
     "name": "stdout",
     "output_type": "stream",
     "text": [
      "Finshed Percent: [--------------------] 0% "
     ]
    },
    {
     "name": "stderr",
     "output_type": "stream",
     "text": [
      "/tmp/ipykernel_3255/3533484795.py:38: UserWarning: Implicit dimension choice for softmax has been deprecated. Change the call to include dim=X as an argument.\n",
      "  pred = F.softmax(outputs.data).cpu().detach().numpy()[0][0]\n"
     ]
    },
    {
     "name": "stdout",
     "output_type": "stream",
     "text": [
      "Finshed Percent: [--------------------] 0% "
     ]
    },
    {
     "name": "stderr",
     "output_type": "stream",
     "text": [
      "/tmp/ipykernel_3255/3533484795.py:38: UserWarning: Implicit dimension choice for softmax has been deprecated. Change the call to include dim=X as an argument.\n",
      "  pred = F.softmax(outputs.data).cpu().detach().numpy()[0][0]\n"
     ]
    },
    {
     "name": "stdout",
     "output_type": "stream",
     "text": [
      "Finshed Percent: [--------------------] 0% "
     ]
    },
    {
     "name": "stderr",
     "output_type": "stream",
     "text": [
      "/tmp/ipykernel_3255/3533484795.py:38: UserWarning: Implicit dimension choice for softmax has been deprecated. Change the call to include dim=X as an argument.\n",
      "  pred = F.softmax(outputs.data).cpu().detach().numpy()[0][0]\n"
     ]
    },
    {
     "name": "stdout",
     "output_type": "stream",
     "text": [
      "Finshed Percent: [--------------------] 0% "
     ]
    },
    {
     "name": "stderr",
     "output_type": "stream",
     "text": [
      "/tmp/ipykernel_3255/3533484795.py:38: UserWarning: Implicit dimension choice for softmax has been deprecated. Change the call to include dim=X as an argument.\n",
      "  pred = F.softmax(outputs.data).cpu().detach().numpy()[0][0]\n"
     ]
    },
    {
     "name": "stdout",
     "output_type": "stream",
     "text": [
      "Finshed Percent: [--------------------] 0% "
     ]
    },
    {
     "name": "stderr",
     "output_type": "stream",
     "text": [
      "/tmp/ipykernel_3255/3533484795.py:38: UserWarning: Implicit dimension choice for softmax has been deprecated. Change the call to include dim=X as an argument.\n",
      "  pred = F.softmax(outputs.data).cpu().detach().numpy()[0][0]\n"
     ]
    },
    {
     "name": "stdout",
     "output_type": "stream",
     "text": [
      "Finshed Percent: [--------------------] 0% "
     ]
    },
    {
     "ename": "KeyboardInterrupt",
     "evalue": "",
     "output_type": "error",
     "traceback": [
      "\u001b[0;31m---------------------------------------------------------------------------\u001b[0m",
      "\u001b[0;31mKeyboardInterrupt\u001b[0m                         Traceback (most recent call last)",
      "Cell \u001b[0;32mIn[168], line 4\u001b[0m\n\u001b[1;32m      2\u001b[0m df_frm \u001b[39m=\u001b[39m pd\u001b[39m.\u001b[39mread_csv(\u001b[39m\"\u001b[39m\u001b[39m../data/FRM_vqa_acc.csv\u001b[39m\u001b[39m\"\u001b[39m)\n\u001b[1;32m      3\u001b[0m df_blr \u001b[39m=\u001b[39m pd\u001b[39m.\u001b[39mread_csv(\u001b[39m\"\u001b[39m\u001b[39m../data/BLR_vqa_acc.csv\u001b[39m\u001b[39m\"\u001b[39m)                                \n\u001b[0;32m----> 4\u001b[0m get_model_vqa_acc(\u001b[39m\"\u001b[39;49m\u001b[39mMC\u001b[39;49m\u001b[39m\"\u001b[39;49m) \u001b[39mif\u001b[39;00m \u001b[39mnot\u001b[39;00m os\u001b[39m.\u001b[39mpath\u001b[39m.\u001b[39mexists(\u001b[39m\"\u001b[39m\u001b[39m../data/MC_vqa_acc.csv\u001b[39m\u001b[39m\"\u001b[39m) \u001b[39melse\u001b[39;00m \u001b[39mNone\u001b[39;00m\n\u001b[1;32m      5\u001b[0m df_mc \u001b[39m=\u001b[39m pd\u001b[39m.\u001b[39mread_csv(\u001b[39m\"\u001b[39m\u001b[39m../data/MC_vqa_acc.csv\u001b[39m\u001b[39m\"\u001b[39m)\n\u001b[1;32m      7\u001b[0m draw_rej_acc_plot(df_frm, \u001b[39m\"\u001b[39m\u001b[39mFRM\u001b[39m\u001b[39m\"\u001b[39m)\n",
      "Cell \u001b[0;32mIn[166], line 21\u001b[0m, in \u001b[0;36mget_model_vqa_acc\u001b[0;34m(flaw_model_type)\u001b[0m\n\u001b[1;32m     17\u001b[0m \u001b[39mfor\u001b[39;00m vqa_model_type \u001b[39min\u001b[39;00m get_model_types(model_output_data)[:\u001b[39m-\u001b[39m\u001b[39m1\u001b[39m]:\n\u001b[1;32m     18\u001b[0m     \u001b[39m# For every rejection percentage\u001b[39;00m\n\u001b[1;32m     19\u001b[0m     \u001b[39mfor\u001b[39;00m rr \u001b[39min\u001b[39;00m np\u001b[39m.\u001b[39marange(\u001b[39m0.\u001b[39m, \u001b[39m1.0\u001b[39m, \u001b[39m0.05\u001b[39m):\n\u001b[1;32m     20\u001b[0m         \u001b[39m# Get df with vqa_acc for every image\u001b[39;00m\n\u001b[0;32m---> 21\u001b[0m         df_imgs_vqa_acc \u001b[39m=\u001b[39m flaw_model_vqa_acc(vqa_model_type, flaw_model_params)\n\u001b[1;32m     23\u001b[0m         n_rej_imgs \u001b[39m=\u001b[39m \u001b[39mint\u001b[39m(rr \u001b[39m*\u001b[39m \u001b[39mlen\u001b[39m(df_imgs_vqa_acc))\n\u001b[1;32m     25\u001b[0m         \u001b[39m# *!* df with good clean images (discarding high acc flaw prob.)\u001b[39;00m\n",
      "Cell \u001b[0;32mIn[165], line 17\u001b[0m, in \u001b[0;36mflaw_model_vqa_acc\u001b[0;34m(vqa_model_type, flaw_model_params)\u001b[0m\n\u001b[1;32m     14\u001b[0m \u001b[39m# For each img in the test set calculate it's blur_pred and vqa_acc\u001b[39;00m\n\u001b[1;32m     15\u001b[0m \u001b[39mfor\u001b[39;00m i, (img_name, img_info) \u001b[39min\u001b[39;00m \u001b[39menumerate\u001b[39m(model_output_data\u001b[39m.\u001b[39mitems()):\n\u001b[1;32m     16\u001b[0m     \u001b[39m# Prediction of the flawed model (e.g 0.98)\u001b[39;00m\n\u001b[0;32m---> 17\u001b[0m     img_pred \u001b[39m=\u001b[39m model_inference(img_name, flaw_model_params[\u001b[39m0\u001b[39;49m], multiclass\u001b[39m=\u001b[39;49mflaw_model_params[\u001b[39m1\u001b[39;49m])\n\u001b[1;32m     18\u001b[0m     \u001b[39m# VQA acc of the image for a specific model \u001b[39;00m\n\u001b[1;32m     19\u001b[0m     img_vqa_acc \u001b[39m=\u001b[39m evaluate_acc_promptcap({img_name : img_info}, vqa_model_type)[\u001b[39m0\u001b[39m]\n",
      "Cell \u001b[0;32mIn[161], line 27\u001b[0m, in \u001b[0;36mmodel_inference\u001b[0;34m(img, model_params, multiclass)\u001b[0m\n\u001b[1;32m     24\u001b[0m     img_path \u001b[39m=\u001b[39m os\u001b[39m.\u001b[39mpath\u001b[39m.\u001b[39mjoin(test_path, img)\n\u001b[1;32m     25\u001b[0m     img \u001b[39m=\u001b[39m Image\u001b[39m.\u001b[39mopen(img_path)\n\u001b[0;32m---> 27\u001b[0m img \u001b[39m=\u001b[39m trnsfm[\u001b[39m\"\u001b[39;49m\u001b[39mval\u001b[39;49m\u001b[39m\"\u001b[39;49m](img)\n\u001b[1;32m     28\u001b[0m img \u001b[39m=\u001b[39m img[\u001b[39mNone\u001b[39;00m, :, :, :] \n\u001b[1;32m     29\u001b[0m img \u001b[39m=\u001b[39m img\u001b[39m.\u001b[39mto(device)\n",
      "File \u001b[0;32m~/tfg/GED-TFG/env/lib/python3.10/site-packages/torchvision/transforms/transforms.py:95\u001b[0m, in \u001b[0;36mCompose.__call__\u001b[0;34m(self, img)\u001b[0m\n\u001b[1;32m     93\u001b[0m \u001b[39mdef\u001b[39;00m \u001b[39m__call__\u001b[39m(\u001b[39mself\u001b[39m, img):\n\u001b[1;32m     94\u001b[0m     \u001b[39mfor\u001b[39;00m t \u001b[39min\u001b[39;00m \u001b[39mself\u001b[39m\u001b[39m.\u001b[39mtransforms:\n\u001b[0;32m---> 95\u001b[0m         img \u001b[39m=\u001b[39m t(img)\n\u001b[1;32m     96\u001b[0m     \u001b[39mreturn\u001b[39;00m img\n",
      "File \u001b[0;32m~/tfg/GED-TFG/env/lib/python3.10/site-packages/torch/nn/modules/module.py:1194\u001b[0m, in \u001b[0;36mModule._call_impl\u001b[0;34m(self, *input, **kwargs)\u001b[0m\n\u001b[1;32m   1190\u001b[0m \u001b[39m# If we don't have any hooks, we want to skip the rest of the logic in\u001b[39;00m\n\u001b[1;32m   1191\u001b[0m \u001b[39m# this function, and just call forward.\u001b[39;00m\n\u001b[1;32m   1192\u001b[0m \u001b[39mif\u001b[39;00m \u001b[39mnot\u001b[39;00m (\u001b[39mself\u001b[39m\u001b[39m.\u001b[39m_backward_hooks \u001b[39mor\u001b[39;00m \u001b[39mself\u001b[39m\u001b[39m.\u001b[39m_forward_hooks \u001b[39mor\u001b[39;00m \u001b[39mself\u001b[39m\u001b[39m.\u001b[39m_forward_pre_hooks \u001b[39mor\u001b[39;00m _global_backward_hooks\n\u001b[1;32m   1193\u001b[0m         \u001b[39mor\u001b[39;00m _global_forward_hooks \u001b[39mor\u001b[39;00m _global_forward_pre_hooks):\n\u001b[0;32m-> 1194\u001b[0m     \u001b[39mreturn\u001b[39;00m forward_call(\u001b[39m*\u001b[39;49m\u001b[39minput\u001b[39;49m, \u001b[39m*\u001b[39;49m\u001b[39m*\u001b[39;49mkwargs)\n\u001b[1;32m   1195\u001b[0m \u001b[39m# Do not call functions when jit is used\u001b[39;00m\n\u001b[1;32m   1196\u001b[0m full_backward_hooks, non_full_backward_hooks \u001b[39m=\u001b[39m [], []\n",
      "File \u001b[0;32m~/tfg/GED-TFG/env/lib/python3.10/site-packages/torchvision/transforms/transforms.py:346\u001b[0m, in \u001b[0;36mResize.forward\u001b[0;34m(self, img)\u001b[0m\n\u001b[1;32m    338\u001b[0m \u001b[39mdef\u001b[39;00m \u001b[39mforward\u001b[39m(\u001b[39mself\u001b[39m, img):\n\u001b[1;32m    339\u001b[0m \u001b[39m    \u001b[39m\u001b[39m\"\"\"\u001b[39;00m\n\u001b[1;32m    340\u001b[0m \u001b[39m    Args:\u001b[39;00m\n\u001b[1;32m    341\u001b[0m \u001b[39m        img (PIL Image or Tensor): Image to be scaled.\u001b[39;00m\n\u001b[0;32m   (...)\u001b[0m\n\u001b[1;32m    344\u001b[0m \u001b[39m        PIL Image or Tensor: Rescaled image.\u001b[39;00m\n\u001b[1;32m    345\u001b[0m \u001b[39m    \"\"\"\u001b[39;00m\n\u001b[0;32m--> 346\u001b[0m     \u001b[39mreturn\u001b[39;00m F\u001b[39m.\u001b[39;49mresize(img, \u001b[39mself\u001b[39;49m\u001b[39m.\u001b[39;49msize, \u001b[39mself\u001b[39;49m\u001b[39m.\u001b[39;49minterpolation, \u001b[39mself\u001b[39;49m\u001b[39m.\u001b[39;49mmax_size, \u001b[39mself\u001b[39;49m\u001b[39m.\u001b[39;49mantialias)\n",
      "File \u001b[0;32m~/tfg/GED-TFG/env/lib/python3.10/site-packages/torchvision/transforms/functional.py:474\u001b[0m, in \u001b[0;36mresize\u001b[0;34m(img, size, interpolation, max_size, antialias)\u001b[0m\n\u001b[1;32m    472\u001b[0m         warnings\u001b[39m.\u001b[39mwarn(\u001b[39m\"\u001b[39m\u001b[39mAnti-alias option is always applied for PIL Image input. Argument antialias is ignored.\u001b[39m\u001b[39m\"\u001b[39m)\n\u001b[1;32m    473\u001b[0m     pil_interpolation \u001b[39m=\u001b[39m pil_modes_mapping[interpolation]\n\u001b[0;32m--> 474\u001b[0m     \u001b[39mreturn\u001b[39;00m F_pil\u001b[39m.\u001b[39;49mresize(img, size\u001b[39m=\u001b[39;49moutput_size, interpolation\u001b[39m=\u001b[39;49mpil_interpolation)\n\u001b[1;32m    476\u001b[0m \u001b[39mreturn\u001b[39;00m F_t\u001b[39m.\u001b[39mresize(img, size\u001b[39m=\u001b[39moutput_size, interpolation\u001b[39m=\u001b[39minterpolation\u001b[39m.\u001b[39mvalue, antialias\u001b[39m=\u001b[39mantialias)\n",
      "File \u001b[0;32m~/tfg/GED-TFG/env/lib/python3.10/site-packages/torchvision/transforms/functional_pil.py:252\u001b[0m, in \u001b[0;36mresize\u001b[0;34m(img, size, interpolation)\u001b[0m\n\u001b[1;32m    249\u001b[0m \u001b[39mif\u001b[39;00m \u001b[39mnot\u001b[39;00m (\u001b[39misinstance\u001b[39m(size, \u001b[39mlist\u001b[39m) \u001b[39mand\u001b[39;00m \u001b[39mlen\u001b[39m(size) \u001b[39m==\u001b[39m \u001b[39m2\u001b[39m):\n\u001b[1;32m    250\u001b[0m     \u001b[39mraise\u001b[39;00m \u001b[39mTypeError\u001b[39;00m(\u001b[39mf\u001b[39m\u001b[39m\"\u001b[39m\u001b[39mGot inappropriate size arg: \u001b[39m\u001b[39m{\u001b[39;00msize\u001b[39m}\u001b[39;00m\u001b[39m\"\u001b[39m)\n\u001b[0;32m--> 252\u001b[0m \u001b[39mreturn\u001b[39;00m img\u001b[39m.\u001b[39;49mresize(\u001b[39mtuple\u001b[39;49m(size[::\u001b[39m-\u001b[39;49m\u001b[39m1\u001b[39;49m]), interpolation)\n",
      "File \u001b[0;32m~/tfg/GED-TFG/env/lib/python3.10/site-packages/PIL/Image.py:2156\u001b[0m, in \u001b[0;36mImage.resize\u001b[0;34m(self, size, resample, box, reducing_gap)\u001b[0m\n\u001b[1;32m   2152\u001b[0m     \u001b[39mraise\u001b[39;00m \u001b[39mValueError\u001b[39;00m(msg)\n\u001b[1;32m   2154\u001b[0m size \u001b[39m=\u001b[39m \u001b[39mtuple\u001b[39m(size)\n\u001b[0;32m-> 2156\u001b[0m \u001b[39mself\u001b[39;49m\u001b[39m.\u001b[39;49mload()\n\u001b[1;32m   2157\u001b[0m \u001b[39mif\u001b[39;00m box \u001b[39mis\u001b[39;00m \u001b[39mNone\u001b[39;00m:\n\u001b[1;32m   2158\u001b[0m     box \u001b[39m=\u001b[39m (\u001b[39m0\u001b[39m, \u001b[39m0\u001b[39m) \u001b[39m+\u001b[39m \u001b[39mself\u001b[39m\u001b[39m.\u001b[39msize\n",
      "File \u001b[0;32m~/tfg/GED-TFG/env/lib/python3.10/site-packages/PIL/ImageFile.py:269\u001b[0m, in \u001b[0;36mImageFile.load\u001b[0;34m(self)\u001b[0m\n\u001b[1;32m    266\u001b[0m         \u001b[39mraise\u001b[39;00m \u001b[39mOSError\u001b[39;00m(msg)\n\u001b[1;32m    268\u001b[0m b \u001b[39m=\u001b[39m b \u001b[39m+\u001b[39m s\n\u001b[0;32m--> 269\u001b[0m n, err_code \u001b[39m=\u001b[39m decoder\u001b[39m.\u001b[39;49mdecode(b)\n\u001b[1;32m    270\u001b[0m \u001b[39mif\u001b[39;00m n \u001b[39m<\u001b[39m \u001b[39m0\u001b[39m:\n\u001b[1;32m    271\u001b[0m     \u001b[39mbreak\u001b[39;00m\n",
      "\u001b[0;31mKeyboardInterrupt\u001b[0m: "
     ]
    }
   ],
   "source": [
    "# Load FRM and BLR vqa_acc dataframes\n",
    "df_frm = pd.read_csv(\"../data/FRM_vqa_acc.csv\")\n",
    "df_blr = pd.read_csv(\"../data/BLR_vqa_acc.csv\")                                \n",
    "get_model_vqa_acc(\"MC\") if not os.path.exists(\"../data/MC_vqa_acc.csv\") else None\n",
    "df_mc = pd.read_csv(\"../data/MC_vqa_acc.csv\")\n",
    "\n",
    "draw_rej_acc_plot(df_frm, \"FRM\")\n",
    "draw_rej_acc_plot(df_blr, \"BLR\")\n",
    "draw_rej_acc_plot(df_mc, \"MC\")\n"
   ]
  },
  {
   "cell_type": "code",
   "execution_count": null,
   "id": "3bf245cc",
   "metadata": {},
   "outputs": [
    {
     "name": "stderr",
     "output_type": "stream",
     "text": [
      "/tmp/ipykernel_3099/75636509.py:1: FutureWarning: The default value of numeric_only in DataFrame.mean is deprecated. In a future version, it will default to False. In addition, specifying 'numeric_only=None' is deprecated. Select only valid columns or specify the value of numeric_only to silence this warning.\n",
      "  mean_models_vqa_acc = df[df[\"rej_perc\"] == 0].mean()[\"vqa_acc\"]\n"
     ]
    },
    {
     "data": {
      "image/png": "[encoded data removed]",
      "text/plain": [
       "<Figure size 500x300 with 1 Axes>"
      ]
     },
     "metadata": {},
     "output_type": "display_data"
    }
   ],
   "source": [
    "# Mean VQA models acc improvement\n",
    "\n",
    "mean_models_vqa_acc = df_blr[df_blr[\"rej_perc\"] == 0].mean()[\"vqa_acc\"]\n",
    "\n",
    "data = { \"model_type\" : [\"Default (base)\"],\n",
    "            \"acc\" : [mean_models_vqa_acc],\n",
    "        }\n",
    "\n",
    "# For every flaw detection model results\n",
    "for i, df in enumerate([df_blr, df_frm]):\n",
    "    df[\"rej_perc\"] = df[\"rej_perc\"].astype(int)\n",
    "    df_50 = df[(df[\"rej_perc\"] == 50)] #& (df[\"rej_perc\"] <= 60)]\n",
    "    mean_flaw_vqa_acc = df_50.groupby(\"vqa_model_type\").mean().mean()[\"vqa_acc\"]\n",
    "\n",
    "    flaw = \"Blur\" if i == 0 else \"Out of Frame\"\n",
    "    data[\"model_type\"].append(flaw)\n",
    "    data[\"acc\"].append(mean_flaw_vqa_acc)\n",
    "\n",
    "flaw_vqa_df = pd.DataFrame.from_dict(data, orient='index').T\n",
    "g = sns.catplot(x=\"model_type\", y=\"acc\", data=flaw_vqa_df,\n",
    "                     aspect=2, kind=\"bar\", legend=False, palette=[\"#90a955\"],\n",
    "                     height=3, width=.4)\n",
    "g.ax.set_axisbelow(True)\n",
    "g.ax.yaxis.grid(color='gray', linewidth=0.15)\n",
    "g.set(xlabel=\"Model approach\", ylabel=\"Accuracy (%)\")\n",
    "g.fig.set_size_inches(5,3)\n",
    "g.despine(left=True, bottom=True)\n",
    "\n",
    "plt.show()\n"
   ]
  },
  {
   "cell_type": "code",
   "execution_count": null,
   "id": "939c9368",
   "metadata": {},
   "outputs": [],
   "source": [
    "# Save VQA models results after implementing flaw detection models\n",
    "\n",
    "map_type = { \"HF_OCR_google_answer\" : \"PromptCap + GoogleOCR\",\n",
    "                \"HF_OCR_answer\" : \"PromptCap + EasyOCR\",\n",
    "                \"HF_NON_OCR_answer\": \"PromptCap\",\n",
    "            \"SF_LAVIS\" : \"BLIP-VQA\",\n",
    "            \"ViLT\" : \"ViLT\",\n",
    "            \"BLIP2-VQA\" : \"BLIP2-VQA\",\n",
    "            \n",
    "        }\n",
    "\n",
    "map_flaw = {0 : \"BLR\", 1 : \"FRM\", 2 : \"MC\"}\n",
    "vqa_models_def_acc = df_blr[df_blr[\"rej_perc\"] == 0]\n",
    "\n",
    "for i, df in enumerate([df_blr, df_frm]):\n",
    "    vqa_models_flaw_acc = df[df[\"rej_perc\"] == 50]\n",
    "    flaw_imprv_df = pd.merge(vqa_models_def_acc, vqa_models_flaw_acc, on=\"vqa_model_type\", \n",
    "                 suffixes=(\"_base\", f\"_{map_flaw[i]}\"))\n",
    "    flaw_imprv_df = flaw_imprv_df.drop(columns=[\"rej_perc_base\", f\"rej_perc_{map_flaw[i]}\"])\n",
    "    flaw_imprv_df[\"vqa_model_type\"] = c[\"vqa_model_type\"].map(map_type)\n",
    "    sf = f\"/media/arnau/SSD/VizWiz/results/{map_flaw[i]}_vqa_models_acc.csv\"\n",
    "    flaw_imprv_df.to_csv(sf, index=False)\n"
   ]
  },
  {
   "cell_type": "code",
   "execution_count": null,
   "id": "88105e2b",
   "metadata": {},
   "outputs": [
    {
     "name": "stderr",
     "output_type": "stream",
     "text": [
      "/tmp/ipykernel_3047/136380710.py:22: UserWarning: FixedFormatter should only be used together with FixedLocator\n",
      "  ax.set_xticklabels(labels)\n"
     ]
    },
    {
     "data": {
      "image/png": "[encoded data removed]",
      "text/plain": [
       "<Figure size 640x480 with 1 Axes>"
      ]
     },
     "metadata": {},
     "output_type": "display_data"
    }
   ],
   "source": [
    "mins = np.append(df_blr.groupby(\"vqa_model_type\")[\"vqa_acc\"].min().min(), \n",
    "          df_frm.groupby(\"vqa_model_type\")[\"vqa_acc\"].min().min())\n",
    "maxes = np.append(df_blr.groupby(\"vqa_model_type\")[\"vqa_acc\"].max().max(), \n",
    "          df_frm.groupby(\"vqa_model_type\")[\"vqa_acc\"].max().max())\n",
    "means = np.append(df_blr.groupby(\"vqa_model_type\")[\"vqa_acc\"].mean().mean(), \n",
    "          df_frm.groupby(\"vqa_model_type\")[\"vqa_acc\"].mean().mean())\n",
    "std = np.append(df_blr.groupby(\"vqa_model_type\")[\"vqa_acc\"].std().std(), \n",
    "          df_frm.groupby(\"vqa_model_type\")[\"vqa_acc\"].std().std())\n",
    "\n",
    "# create stacked errorbars:\n",
    "fig, ax = plt.subplots()\n",
    "#ax.errorbar(np.arange(len(mins)), means, std, fmt='ok', lw=3)\n",
    "ax.errorbar(np.arange(len(mins)), means, [means - mins, maxes - means],\n",
    "             fmt='.k', ecolor='green', lw=2)\n",
    "ax.set_title(\"Accuracy improvement across models for every approach\")\n",
    "\n",
    "labels = ['' for item in ax.get_xticklabels()]\n",
    "labels[1] = \"Blur\"\n",
    "labels[3] = \"Out of frame\"\n",
    "labels[7] = \"VQA-CTX\"\n",
    "\n",
    "ax.set_xticklabels(labels)\n",
    "ax.set_xlabel('Model approach', fontsize=11)\n",
    "ax.set_ylabel('Accuracy improvement (%)', fontsize=11)\n",
    "plt.show()"
   ]
  },
  {
   "cell_type": "code",
   "execution_count": null,
   "id": "9279b7a6",
   "metadata": {},
   "outputs": [],
   "source": [
    "for flaw_model_type in [\"BLR\", \"FRM\"]:\n",
    "    model_path = '../outputs/best_' + flaw_model_type + '_convnext.pth'\n",
    "    flaw_model_params = load_model(model_path)\n",
    "    dict_vqa_acc = get_dict_vqa_acc()\n",
    "    \n",
    "\n",
    "    "
   ]
  },
  {
   "cell_type": "code",
   "execution_count": null,
   "id": "a617cec6",
   "metadata": {},
   "outputs": [],
   "source": []
  },
  {
   "cell_type": "code",
   "execution_count": null,
   "id": "0b2d0681",
   "metadata": {},
   "outputs": [],
   "source": []
  },
  {
   "cell_type": "code",
   "execution_count": null,
   "id": "4f3f22b4-8852-4c1e-b0b8-71538f4ceafa",
   "metadata": {},
   "outputs": [],
   "source": [
    "data = {\"model_type\": [],\n",
    "        \"thr\": [], \n",
    "        \"p_imgs_rej\": [],\n",
    "      \"acc\": []}\n",
    "\n",
    "# Remap models naming\n"
   ]
  },
  {
   "cell_type": "code",
   "execution_count": null,
   "id": "d1906980-4145-4628-b226-7a35a3c0097b",
   "metadata": {},
   "outputs": [
    {
     "ename": "NameError",
     "evalue": "name 'model' is not defined",
     "output_type": "error",
     "traceback": [
      "\u001b[0;31m---------------------------------------------------------------------------\u001b[0m",
      "\u001b[0;31mNameError\u001b[0m                                 Traceback (most recent call last)",
      "Cell \u001b[0;32mIn[24], line 6\u001b[0m\n\u001b[1;32m      4\u001b[0m \u001b[39m# For every rejection rate, compares the default model (rej_rates = 0.0) with \u001b[39;00m\n\u001b[1;32m      5\u001b[0m \u001b[39mfor\u001b[39;00m rr \u001b[39min\u001b[39;00m rej_rates:\n\u001b[0;32m----> 6\u001b[0m     filtered_data \u001b[39m=\u001b[39m get_clear_images(model_output_data, (model, device, rr), multiclass\u001b[39m=\u001b[39mmulticlass)\n\u001b[1;32m      7\u001b[0m     \u001b[39mfor\u001b[39;00m typ \u001b[39min\u001b[39;00m get_model_types(model_output_data)[:\u001b[39m-\u001b[39m\u001b[39m1\u001b[39m]: \u001b[39m# Don't use the BLIP2-CTX-VQA model yet (the last one)\u001b[39;00m\n\u001b[1;32m      8\u001b[0m         res \u001b[39m=\u001b[39m evaluate_acc_promptcap(filtered_data, typ)\n",
      "\u001b[0;31mNameError\u001b[0m: name 'model' is not defined"
     ]
    }
   ],
   "source": [
    "blur_results = []\n",
    "rej_rates = np.flip(np.arange(0., 1.1, 0.1), 0)\n",
    "\n",
    "# For every rejection rate, compares the default model (rej_rates = 0.0) with \n",
    "for rr in rej_rates:\n",
    "    filtered_data = get_clear_images(model_output_data, (model, device, rr), multiclass=multiclass)\n",
    "    for typ in get_model_types(model_output_data)[:-1]: # Don't use the BLIP2-CTX-VQA model yet (the last one)\n",
    "        res = evaluate_acc_promptcap(filtered_data, typ)\n",
    "        p_imgs_rej = percent_imgs_rejected(model_output_data, filtered_data)\n",
    "        if len(filtered_data) == 0:\n",
    "            acc = 100.\n",
    "        else:\n",
    "            acc = (sum(res) / len(res)) * 100\n",
    "        blur_results.append((typ, acc))\n",
    "        #print(f\"--> {typ}: {acc:.4f}%\")\n",
    "        try:\n",
    "            model_type = map_type[typ]\n",
    "        except:\n",
    "            model_type = typ\n",
    "        data[\"model_type\"].append(model_type)\n",
    "        data[\"acc\"].append(acc)\n",
    "        data[\"thr\"].append(rr)\n",
    "        data[\"p_imgs_rej\"].append(p_imgs_rej)"
   ]
  },
  {
   "cell_type": "code",
   "execution_count": null,
   "id": "1ba265e9-d82b-4690-8509-a5551a530d63",
   "metadata": {},
   "outputs": [],
   "source": [
    "df = pd.DataFrame.from_dict(data)\n",
    "#df.sort_values('rej_rate', ascending=True)"
   ]
  },
  {
   "cell_type": "code",
   "execution_count": null,
   "id": "2f41ba2f-31f3-4b8d-beff-8369034e5d3a",
   "metadata": {},
   "outputs": [],
   "source": [
    "df.sort_values('p_imgs_rej', ascending=True)"
   ]
  },
  {
   "cell_type": "code",
   "execution_count": null,
   "id": "76e249cd-b4f1-46c2-9555-022559fe85fd",
   "metadata": {},
   "outputs": [],
   "source": []
  },
  {
   "cell_type": "markdown",
   "id": "d6b73ef1-e0b4-4821-86a9-43ccd3751512",
   "metadata": {},
   "source": [
    "---"
   ]
  },
  {
   "cell_type": "markdown",
   "id": "a90a412c-c338-4d37-9184-aadf4c74b0f0",
   "metadata": {},
   "source": [
    "**Visualization** "
   ]
  },
  {
   "cell_type": "code",
   "execution_count": null,
   "id": "c29db46b-ad64-41a1-9d3d-6589a346dd8f",
   "metadata": {},
   "outputs": [],
   "source": [
    "df = df[df[\"acc\"] != 100.]\n",
    "\n",
    "plt.figure(figsize=(7,4))\n",
    "for typ in get_model_types(model_output_data)[:-1]:\n",
    "    try:\n",
    "        typ = map_type[typ]\n",
    "    except:\n",
    "        typ = typ\n",
    "    data = df[df[\"model_type\"] == typ].sort_values('p_imgs_rej')\n",
    "\n",
    "    plt.plot(data[\"p_imgs_rej\"].tolist(),\n",
    "            data[\"acc\"].tolist(), label=typ)\n",
    "    plt.legend(loc='upper center', bbox_to_anchor=(0.5, -0.2),\n",
    "          fancybox=True, shadow=True, ncol=5, fontsize=7)\n",
    "    plt.xlabel(\"Percentage of rejected images\")\n",
    "    plt.ylabel(\"Accuracy (%)\")\n",
    "plt.title(\"VQA models accuracies using a multiclass filtering model\")\n",
    "plt.show()"
   ]
  },
  {
   "cell_type": "code",
   "execution_count": null,
   "id": "4aeca6ff-1fff-4ce7-b308-00f64bef84e0",
   "metadata": {},
   "outputs": [],
   "source": [
    "def calculate_df(model):\n",
    "    cdata = {\"model_type\": [],\n",
    "                      \"acc\": [],\n",
    "                   \"acc_w_blur_model\": []\n",
    "            }\n",
    "                #\"acc_imprv\" : []}\n",
    "\n",
    "    thr = 0.1\n",
    "    filt_data = get_clear_images(model_output_data, (model, device, thr), multiclass=multiclass)\n",
    "\n",
    "    for typ in get_model_types(model_output_data)[:-1]:\n",
    "        res = evaluate_acc_promptcap(model_output_data, typ)\n",
    "        res_filt = evaluate_acc_promptcap(filt_data, typ)\n",
    "        try:\n",
    "            model_type = map_type[typ]\n",
    "        except:\n",
    "            model_type = typ\n",
    "        acc = (sum(res) / len(res)) * 100\n",
    "        accwflaw = (sum(res_filt) / len(res_filt)) * 100\n",
    "        cdata[\"model_type\"].append(model_type)\n",
    "        cdata[\"acc\"].append(acc)\n",
    "        cdata[\"acc_w_blur_model\"].append(accwflaw)\n",
    "        #cdata[\"acc_imprv\"].append(accwflaw - acc)\n",
    "        \n",
    "    return pd.DataFrame.from_dict(cdata)"
   ]
  },
  {
   "cell_type": "markdown",
   "id": "b0954605-a4f1-48d8-81af-1042c4099341",
   "metadata": {},
   "source": [
    "Accuries comparison"
   ]
  },
  {
   "cell_type": "code",
   "execution_count": null,
   "id": "a675c275-bbd1-44dd-bb09-36b449493a43",
   "metadata": {},
   "outputs": [
    {
     "ename": "NameError",
     "evalue": "name 'calculate_df' is not defined",
     "output_type": "error",
     "traceback": [
      "\u001b[0;31m---------------------------------------------------------------------------\u001b[0m",
      "\u001b[0;31mNameError\u001b[0m                                 Traceback (most recent call last)",
      "Cell \u001b[0;32mIn[110], line 1\u001b[0m\n\u001b[0;32m----> 1\u001b[0m df_c \u001b[39m=\u001b[39m calculate_df(model)\n\u001b[1;32m      2\u001b[0m df_c\n",
      "\u001b[0;31mNameError\u001b[0m: name 'calculate_df' is not defined"
     ]
    }
   ],
   "source": [
    "df_c = calculate_df(model)\n",
    "df_c"
   ]
  },
  {
   "cell_type": "markdown",
   "id": "08627a56-4cb2-4cd1-885b-015641e99963",
   "metadata": {},
   "source": [
    "## Models improvement"
   ]
  },
  {
   "cell_type": "code",
   "execution_count": null,
   "id": "1d3360e5-513a-4ea8-8584-6b39bf8eb3f4",
   "metadata": {},
   "outputs": [],
   "source": [
    "# importing package\n",
    "import matplotlib.pyplot as plt\n",
    "import numpy as np\n",
    "import pandas as pd\n",
    "\n",
    "# plot data in stack manner of bar type\n",
    "df_c.plot(x='model_type', kind='bar', stacked=False, title='')\n",
    "plt.show()\n"
   ]
  },
  {
   "cell_type": "code",
   "execution_count": null,
   "id": "175f960f-c923-492c-afc9-969482384569",
   "metadata": {},
   "outputs": [],
   "source": [
    "# Average model improvement across all models\n",
    "#mean = (df_c[\"acc_w_blur_model\"].mean() + df_c[\"acc\"].mean()) / 2\n",
    "#avg_imp = (df_c[\"acc_imprv\"].mean() / mean) * 100\n",
    "#avg_imp"
   ]
  },
  {
   "cell_type": "code",
   "execution_count": null,
   "id": "085e3dc4-7872-4292-8ca3-d1c3009116b7",
   "metadata": {},
   "outputs": [],
   "source": [
    "model_classes = [\"BLR\", \"FRM\", \"MC\"]\n",
    "     \n",
    "c = []\n",
    "for mc in model_classes:\n",
    "    # Load and prepare filtering model\n",
    "    num_classes = 1 if mc in [\"BLR\", \"FRM\"] else 4\n",
    "    multiclass = True if num_classes > 1 else False\n",
    "    model_path = f'../outputs/best_{mc}_convnext.pth'\n",
    "    model = initialize_model(model_path, num_classes)\n",
    "    model_params = (model, device)\n",
    "    thr = 0.1\n",
    "    \n",
    "    # Filter data\n",
    "    filt_data = get_clear_images(model_output_data, (model, device, thr), multiclass=multiclass)\n",
    "    # Create df with results\n",
    "    df_c = calculate_df(model)\n",
    "\n",
    "    vqa_model_acc_w_improv = ((df_c[\"acc_w_blur_model\"] - df_c[\"acc\"]) / (df_c[\"acc\"])) * 100\n",
    "    \n",
    "    df_c[\"model_class\"] = mc\n",
    "    df_c[\"vqa_model_acc_w_improv\"] = vqa_model_acc_w_improv\n",
    "    df_c.set_index('model_class', inplace=True)\n",
    "    c.append(df_c)\n",
    "    \n",
    "df_f = pd.concat(c)"
   ]
  },
  {
   "cell_type": "code",
   "execution_count": null,
   "id": "2baa8196-fe1f-497c-92eb-b52a548eac56",
   "metadata": {},
   "outputs": [],
   "source": [
    "#df_m = pd.DataFrame.from_dict(df_f)\n",
    "#df_m.set_index('model_class', inplace=True)\n",
    "#df_m.plot(x='model_type', kind='bar', stacked=False, title='')\n",
    "#plt.show()\n",
    "#df_m"
   ]
  },
  {
   "cell_type": "markdown",
   "id": "933356c2-7e4c-4461-90da-6202b77c33dc",
   "metadata": {},
   "source": [
    "## Models accuracy using Vision Language Models with context"
   ]
  },
  {
   "cell_type": "markdown",
   "id": "89af1525-d7f4-450e-9872-0cd96a012f79",
   "metadata": {},
   "source": [
    "Can a visual language model (BLIP2-VQA) "
   ]
  },
  {
   "cell_type": "code",
   "execution_count": null,
   "id": "f0041e33-ce7b-4b40-82a7-8f5f560b9131",
   "metadata": {},
   "outputs": [],
   "source": [
    "res_blip2 = evaluate_acc_promptcap(model_output_data, \"BLIP2-VQA\")\n",
    "res_blip2_ctx = evaluate_acc_promptcap(filt_data, \"BLIP2-CTX-VQA\")\n",
    "\n",
    "acc_blip2 = (sum(res_blip2) / len(res_blip2)) * 100\n",
    "acc_blip2_ctx = (sum(res_blip2_ctx) / len(res_blip2_ctx)) * 100\n",
    "\n",
    "df_f.loc[\"VQA-CTX\", \"model_type\"] = \"BLIP2-VQA\"\n",
    "df_f.loc[\"VQA-CTX\", \"acc\"] = acc_blip2\n",
    "df_f.loc[\"VQA-CTX\", \"acc_w_blur_model\"] = acc_blip2_ctx # BLIP2-CTX-VQA acc\n",
    "df_f.loc[\"VQA-CTX\", \"vqa_model_acc_w_improv\"] = ((acc_blip2_ctx - acc_blip2) / acc_blip2) * 100\n",
    "df_f"
   ]
  },
  {
   "cell_type": "code",
   "execution_count": null,
   "id": "4da2547c-9bd4-4681-ac31-621fdfa9cc80",
   "metadata": {},
   "outputs": [],
   "source": [
    "import matplotlib.pyplot as plt\n",
    "import numpy as np\n",
    "\n",
    "mins = df_f.groupby(\"model_class\").min()[\"vqa_model_acc_w_improv\"].to_numpy()\n",
    "maxes = df_f.groupby(\"model_class\").max()[\"vqa_model_acc_w_improv\"].to_numpy()\n",
    "means = df_f.groupby(\"model_class\").mean()[\"vqa_model_acc_w_improv\"].to_numpy()\n",
    "std = df_f.groupby(\"model_class\").std()[\"vqa_model_acc_w_improv\"].to_numpy()\n",
    "\n",
    "# create stacked errorbars:\n",
    "fig, ax = plt.subplots()\n",
    "#ax.errorbar(np.arange(len(mins)), means, std, fmt='ok', lw=3)\n",
    "ax.errorbar(np.arange(len(mins)), means, [means - mins, maxes - means],\n",
    "             fmt='.k', ecolor='green', lw=2)\n",
    "ax.set_title(\"Accuracy improvement across models for every approach\")\n",
    "\n",
    "labels = ['' for item in ax.get_xticklabels()]\n",
    "labels[1] = \"Blur\"\n",
    "labels[3] = \"Out of frame\"\n",
    "labels[5] = \"Multi-class\"\n",
    "labels[7] = \"VQA-CTX\"\n",
    "\n",
    "ax.set_xticklabels(labels)\n",
    "ax.set_xlabel('Model approach', fontsize=11)\n",
    "ax.set_ylabel('Accuracy improvement (%)', fontsize=11)\n",
    "plt.show()"
   ]
  }
 ],
 "metadata": {
  "kernelspec": {
   "display_name": "tfg env",
   "language": "python",
   "name": "env"
  },
  "language_info": {
   "codemirror_mode": {
    "name": "ipython",
    "version": 3
   },
   "file_extension": ".py",
   "mimetype": "text/x-python",
   "name": "python",
   "nbconvert_exporter": "python",
   "pygments_lexer": "ipython3",
   "version": "3.10.6 (main, Mar 10 2023, 10:55:28) [GCC 11.3.0]"
  }
 },
 "nbformat": 4,
 "nbformat_minor": 5
}
