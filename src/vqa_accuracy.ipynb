{
 "cells": [
  {
   "cell_type": "markdown",
   "id": "4e88b10d-c975-4e46-a20b-b0b7ede80a8b",
   "metadata": {},
   "source": [
    "# VQA model accuracy"
   ]
  },
  {
   "cell_type": "code",
   "execution_count": 1,
   "id": "12bf7b7f-eb81-43af-aecb-e51072f7222a",
   "metadata": {},
   "outputs": [
    {
     "name": "stdout",
     "output_type": "stream",
     "text": [
      "PyTorch Version:  1.13.1+cu117\n",
      "Torchvision Version:  0.14.1+cu117\n",
      "cuda:0\n"
     ]
    }
   ],
   "source": [
    "from __future__ import print_function \n",
    "from __future__ import division\n",
    "import torch\n",
    "import torch.nn as nn\n",
    "import torch.optim as optim\n",
    "import numpy as np\n",
    "import torchvision\n",
    "import pandas as pd\n",
    "from torchvision import datasets, models, transforms\n",
    "from torch.utils.data import Dataset, DataLoader\n",
    "import json\n",
    "import matplotlib.pyplot as plt\n",
    "from PIL import Image\n",
    "import time\n",
    "import re, sys\n",
    "import os\n",
    "import copy\n",
    "import io\n",
    "print(\"PyTorch Version: \",torch.__version__)\n",
    "print(\"Torchvision Version: \",torchvision.__version__)\n",
    "\n",
    "%matplotlib inline\n",
    "\n",
    "\n",
    "# Detect if we have a GPU available\n",
    "device = torch.device(\"cuda:0\" if torch.cuda.is_available() else \"cpu\")\n",
    "print(device)"
   ]
  },
  {
   "cell_type": "markdown",
   "id": "a061b5f7-70b1-4483-8321-e12a0159da30",
   "metadata": {},
   "source": [
    "**Load VizWiz test set data**"
   ]
  },
  {
   "cell_type": "code",
   "execution_count": 2,
   "id": "f90cba26-d99b-4330-be86-a3667c47e754",
   "metadata": {},
   "outputs": [],
   "source": [
    "with open('/media/arnau/PEN/TFG/hf_model_test_res.json', encoding='UTF-8') as jf:\n",
    "    model_output_data = json.load(jf)"
   ]
  },
  {
   "cell_type": "markdown",
   "id": "85079a5f-4dcc-45da-8c6f-c474aa6c56b0",
   "metadata": {},
   "source": [
    "## PromptCap accuracy\n",
    "PromptCap model accuracy evaluated on VizWiz test set"
   ]
  },
  {
   "cell_type": "code",
   "execution_count": 3,
   "id": "95746072-67d2-4a1c-9f25-a5d27158da48",
   "metadata": {},
   "outputs": [
    {
     "name": "stdout",
     "output_type": "stream",
     "text": [
      "vqascore/promptcap-coco-vqa\n",
      "<super: <class 'OFATokenizer'>, <OFATokenizer object>>\n"
     ]
    },
    {
     "name": "stderr",
     "output_type": "stream",
     "text": [
      "/home/arnau/tfg/GED-TFG/env/lib/python3.10/site-packages/torch/functional.py:504: UserWarning: torch.meshgrid: in an upcoming release, it will be required to pass the indexing argument. (Triggered internally at ../aten/src/ATen/native/TensorShape.cpp:3190.)\n",
      "  return _VF.meshgrid(tensors, **kwargs)  # type: ignore[attr-defined]\n"
     ]
    }
   ],
   "source": [
    "import torch\n",
    "from promptcap import PromptCap\n",
    "\n",
    "model = PromptCap(\"vqascore/promptcap-coco-vqa\")  # also support OFA checkpoints. e.g. \"OFA-Sys/ofa-large\"\n",
    "\n",
    "if torch.cuda.is_available():\n",
    "    model.cuda()"
   ]
  },
  {
   "cell_type": "markdown",
   "id": "f60c6402-d522-4d73-9fa8-2813c070d344",
   "metadata": {
    "jp-MarkdownHeadingCollapsed": true,
    "tags": []
   },
   "source": [
    "### Helper functions"
   ]
  },
  {
   "cell_type": "code",
   "execution_count": 4,
   "id": "9f0bcb0e-b174-476b-a9cf-7639bea3b4a9",
   "metadata": {},
   "outputs": [],
   "source": [
    "def remove_periods(q):\n",
    "    \n",
    "    outText = q\n",
    "    puncts = [';', r\"/\", '[', ']', '\"', '{', '}',\n",
    "                                 '(', ')', '=', '+', '\\\\', '_', '-',\n",
    "                                 '>', '<', '@', '`', ',', '?', '!']\n",
    "    comma_strip = re.compile(\"(\\d)(\\,)(\\d)\")\n",
    "    periodStrip  = re.compile(\"(?!<=\\d)(\\.)(?!\\d)\")\n",
    "    for p in puncts:\n",
    "        if (p + ' ' in q or ' ' + p in q) or (re.search(comma_strip, q) != None):\n",
    "            outText = outText.replace(p, '')\n",
    "        else:\n",
    "            outText = outText.replace(p, ' ')\n",
    "            outText = periodStrip.sub(\"\",\n",
    "                                           outText,\n",
    "                                           re.UNICODE)\n",
    "    return outText"
   ]
  },
  {
   "cell_type": "code",
   "execution_count": 5,
   "id": "c5f9e30c-22f0-4d65-95e3-1434664d9dba",
   "metadata": {},
   "outputs": [],
   "source": [
    "\n",
    "\n",
    "def num_words_to_digit(q):\n",
    "    \n",
    "    outText = []\n",
    "    tempText = q.lower().split()\n",
    "    manualMap  = { 'none': '0',\n",
    "                    'zero': '0',\n",
    "                    'one': '1',\n",
    "                     'two': '2',\n",
    "                     'three': '3',\n",
    "                     'four': '4',\n",
    "                     'five': '5',\n",
    "                     'six': '6',\n",
    "                     'seven': '7',\n",
    "                     'eight': '8',\n",
    "                     'nine': '9',\n",
    "                     'ten': '10'}\n",
    "    articles     = ['a',\n",
    "                             'an',\n",
    "                             'the'\n",
    "                    ]\n",
    "    contractions = {\"aint\": \"ain't\", \"arent\": \"aren't\", \"cant\": \"can't\", \"couldve\": \"could've\", \"couldnt\": \"couldn't\", \\\n",
    "                            \"couldn'tve\": \"couldn't've\", \"couldnt've\": \"couldn't've\", \"didnt\": \"didn't\", \"doesnt\": \"doesn't\", \"dont\": \"don't\", \"hadnt\": \"hadn't\", \\\n",
    "                            \"hadnt've\": \"hadn't've\", \"hadn'tve\": \"hadn't've\", \"hasnt\": \"hasn't\", \"havent\": \"haven't\", \"hed\": \"he'd\", \"hed've\": \"he'd've\", \\\n",
    "                            \"he'dve\": \"he'd've\", \"hes\": \"he's\", \"howd\": \"how'd\", \"howll\": \"how'll\", \"hows\": \"how's\", \"Id've\": \"I'd've\", \"I'dve\": \"I'd've\", \\\n",
    "                            \"Im\": \"I'm\", \"Ive\": \"I've\", \"isnt\": \"isn't\", \"itd\": \"it'd\", \"itd've\": \"it'd've\", \"it'dve\": \"it'd've\", \"itll\": \"it'll\", \"let's\": \"let's\", \\\n",
    "                            \"maam\": \"ma'am\", \"mightnt\": \"mightn't\", \"mightnt've\": \"mightn't've\", \"mightn'tve\": \"mightn't've\", \"mightve\": \"might've\", \\\n",
    "                            \"mustnt\": \"mustn't\", \"mustve\": \"must've\", \"neednt\": \"needn't\", \"notve\": \"not've\", \"oclock\": \"o'clock\", \"oughtnt\": \"oughtn't\", \\\n",
    "                            \"ow's'at\": \"'ow's'at\", \"'ows'at\": \"'ow's'at\", \"'ow'sat\": \"'ow's'at\", \"shant\": \"shan't\", \"shed've\": \"she'd've\", \"she'dve\": \"she'd've\", \\\n",
    "                            \"she's\": \"she's\", \"shouldve\": \"should've\", \"shouldnt\": \"shouldn't\", \"shouldnt've\": \"shouldn't've\", \"shouldn'tve\": \"shouldn't've\", \\\n",
    "                            \"somebody'd\": \"somebodyd\", \"somebodyd've\": \"somebody'd've\", \"somebody'dve\": \"somebody'd've\", \"somebodyll\": \"somebody'll\", \\\n",
    "                            \"somebodys\": \"somebody's\", \"someoned\": \"someone'd\", \"someoned've\": \"someone'd've\", \"someone'dve\": \"someone'd've\", \\\n",
    "                            \"someonell\": \"someone'll\", \"someones\": \"someone's\", \"somethingd\": \"something'd\", \"somethingd've\": \"something'd've\", \\\n",
    "                            \"something'dve\": \"something'd've\", \"somethingll\": \"something'll\", \"thats\": \"that's\", \"thered\": \"there'd\", \"thered've\": \"there'd've\", \\\n",
    "                            \"there'dve\": \"there'd've\", \"therere\": \"there're\", \"theres\": \"there's\", \"theyd\": \"they'd\", \"theyd've\": \"they'd've\", \\\n",
    "                            \"they'dve\": \"they'd've\", \"theyll\": \"they'll\", \"theyre\": \"they're\", \"theyve\": \"they've\", \"twas\": \"'twas\", \"wasnt\": \"wasn't\", \\\n",
    "                            \"wed've\": \"we'd've\", \"we'dve\": \"we'd've\", \"weve\": \"we've\", \"werent\": \"weren't\", \"whatll\": \"what'll\", \"whatre\": \"what're\", \\\n",
    "                            \"whats\": \"what's\", \"whatve\": \"what've\", \"whens\": \"when's\", \"whered\": \"where'd\", \"wheres\": \"where's\", \"whereve\": \"where've\", \\\n",
    "                            \"whod\": \"who'd\", \"whod've\": \"who'd've\", \"who'dve\": \"who'd've\", \"wholl\": \"who'll\", \"whos\": \"who's\", \"whove\": \"who've\", \"whyll\": \"why'll\", \\\n",
    "                            \"whyre\": \"why're\", \"whys\": \"why's\", \"wont\": \"won't\", \"wouldve\": \"would've\", \"wouldnt\": \"wouldn't\", \"wouldnt've\": \"wouldn't've\", \\\n",
    "                            \"wouldn'tve\": \"wouldn't've\", \"yall\": \"y'all\", \"yall'll\": \"y'all'll\", \"y'allll\": \"y'all'll\", \"yall'd've\": \"y'all'd've\", \\\n",
    "                            \"y'alld've\": \"y'all'd've\", \"y'all'dve\": \"y'all'd've\", \"youd\": \"you'd\", \"youd've\": \"you'd've\", \"you'dve\": \"you'd've\", \\\n",
    "                            \"youll\": \"you'll\", \"youre\": \"you're\", \"youve\": \"you've\"\n",
    "                            }\n",
    "    for word in tempText:\n",
    "        word = manualMap.setdefault(word, word)\n",
    "        if word not in articles:\n",
    "            outText.append(word)\n",
    "        else:\n",
    "            pass\n",
    "\n",
    "    for wordId, word in enumerate(outText):\n",
    "        if word in contractions:\n",
    "            outText[wordId] = contractions[word]\n",
    "    outText = ' '.join(outText)\n",
    "    return outText"
   ]
  },
  {
   "cell_type": "code",
   "execution_count": 6,
   "id": "8c1a1e4a-34de-4424-9c70-53513e90110c",
   "metadata": {},
   "outputs": [],
   "source": [
    "def updateProgress(progress):\n",
    "    \n",
    "    barLength = 20\n",
    "    status = \"\"\n",
    "    if isinstance(progress, int):\n",
    "        progress = float(progress)\n",
    "    if not isinstance(progress, float):\n",
    "        progress = 0\n",
    "        status = \"error: progress var must be float\\r\\n\"\n",
    "    if progress < 0:\n",
    "        progress = 0\n",
    "        status = \"Halt...\\r\\n\"\n",
    "    if progress >= 1:\n",
    "        progress = 1\n",
    "        status = \"Done...\\r\\n\"\n",
    "    block = int(round(barLength*progress))\n",
    "    text = \"\\rFinshed Percent: [{0}] {1}% {2}\".format( \"#\"*block + \"-\"*(barLength-block), int(progress*100), status)\n",
    "    sys.stdout.write(text)\n",
    "    sys.stdout.flush()"
   ]
  },
  {
   "cell_type": "markdown",
   "id": "891890c7-7dec-4199-9ba0-da73929c2a02",
   "metadata": {},
   "source": [
    "### Evaluation"
   ]
  },
  {
   "cell_type": "code",
   "execution_count": 7,
   "id": "44f55e0e-ae3f-412e-a7bb-36eb13b31644",
   "metadata": {},
   "outputs": [],
   "source": [
    "def evaluate_acc_promptcap(model_output_data, model_type):\n",
    "    \"\"\" \n",
    "    Calculates accuracy metric for VQA model\n",
    "    \"\"\"\n",
    "    \n",
    "    accQA       = []\n",
    "    step = 0\n",
    "    \n",
    "    data = model_output_data.copy()\n",
    "    \n",
    "    for img, img_info in data.items():\n",
    "        question = img_info[\"question\"]\n",
    "        gtanswers = img_info[\"gt_answers\"]\n",
    "        for ans in gtanswers:\n",
    "            if type(ans['answer']) == str:\n",
    "                ans['answer'] = ans['answer'].replace('\\n', ' ').replace('\\t', ' ').strip().lower()\n",
    "            else:\n",
    "                ans['answer'] = ' '.join(ans['answer'])\n",
    "        resAns = img_info[model_type]\n",
    "        if resAns:\n",
    "            resAns = resAns.replace('\\n', ' ')\n",
    "            resAns = resAns.replace('\\t', ' ')\n",
    "            resAns = resAns.strip()\n",
    "            resAns = resAns.lower()\n",
    "        else:\n",
    "            resAns = ''\n",
    "        gtAcc = []\n",
    "        gtAnswers = [ans[\"answer\"] for ans in gtanswers]\n",
    "\n",
    "        if len(set(gtAnswers)) > 1:\n",
    "            for ans in gtanswers:\n",
    "                if type(ans['answer']) == str:\n",
    "                    ans[\"answer\"] = remove_periods(ans['answer'])\n",
    "                    ans[\"answer\"] = num_words_to_digit(ans['answer'])\n",
    "                else:\n",
    "                    ans[\"answer\"] = remove_periods(' '.join(ans['answer']))\n",
    "                    ans[\"answer\"] = num_words_to_digit(' '.join(ans['answer']))\n",
    "            resAns = remove_periods(resAns)\n",
    "            resAns = num_words_to_digit(resAns)\n",
    "\n",
    "        for ans in gtanswers:\n",
    "            # otherGTAns = [item for item in gtanswers if item!=ans]\n",
    "            matchingAns = [ans for ans in gtanswers if ans['answer'] == resAns]\n",
    "            acc = min(1, float(len(matchingAns))/3)\n",
    "            gtAcc.append(acc)\n",
    "\n",
    "        avgGTAcc = float(sum(gtAcc))/len(gtAcc)\n",
    "        accQA.append(avgGTAcc)\n",
    "\n",
    "        if step%100 == 0:\n",
    "            updateProgress(step/float(len(data.keys())))\n",
    "        step = step + 1\n",
    "    \n",
    "    return accQA\n"
   ]
  },
  {
   "cell_type": "code",
   "execution_count": 8,
   "id": "c1cc814a-923c-4aad-86b5-9c7498a3d795",
   "metadata": {},
   "outputs": [
    {
     "name": "stdout",
     "output_type": "stream",
     "text": [
      "Finshed Percent: [###################-] 93% --> HF_OCR_google_answer: 8.6062%\n",
      "Finshed Percent: [###################-] 93% --> HF_OCR_answer: 7.0159%\n",
      "Finshed Percent: [###################-] 93% --> HF_NON_OCR_answer: 10.6330%\n"
     ]
    }
   ],
   "source": [
    "model_types = [\n",
    "                \"HF_OCR_google_answer\",\n",
    "                \"HF_OCR_answer\",\n",
    "                \"HF_NON_OCR_answer\"\n",
    "                ]\n",
    "default_results = []\n",
    "for typ in model_types:\n",
    "    res = evaluate_acc_promptcap(model_output_data, typ)\n",
    "    acc = (sum(res) / len(res)) * 100\n",
    "    default_results.append((typ, acc))\n",
    "    print(f\"--> {typ}: {acc:.4f}%\")"
   ]
  },
  {
   "cell_type": "markdown",
   "id": "eea52aef-291c-4fc4-881c-9a694fac2304",
   "metadata": {},
   "source": [
    "## PromptCap accuracy using Blur model"
   ]
  },
  {
   "cell_type": "markdown",
   "id": "a962b338-6de5-40a3-a4e9-a86827c5322a",
   "metadata": {},
   "source": [
    "PromptCap accuracy evaluted on VizWiz test set with a prior filtering of blurred images using a custom blur detection model"
   ]
  },
  {
   "cell_type": "code",
   "execution_count": 9,
   "id": "6db8f037-4264-42e5-b86f-6d20bb6ea446",
   "metadata": {},
   "outputs": [],
   "source": [
    "def model_inference(img, model_params):\n",
    "    \"\"\"\n",
    "    Returns 1 if the input image is blurred otherwise returns 0\n",
    "    \"\"\"\n",
    "    \n",
    "    model, device, thr = model_params\n",
    "        \n",
    "    trnsfm = {\n",
    "    'val': transforms.Compose([\n",
    "        transforms.Resize((224, 224)),\n",
    "        transforms.ToTensor(),\n",
    "        transforms.Normalize([0.4550, 0.4196, 0.3736], [0.2908, 0.2805, 0.2861])\n",
    "    ])\n",
    "    }\n",
    "    \n",
    "    model.eval()\n",
    "    \n",
    "    if type(img) == str:\n",
    "        test_path = '/media/arnau/PEN/TFG/val/'\n",
    "        img_path = os.path.join(test_path, img)\n",
    "        img = Image.open(img_path)\n",
    "\n",
    "    img = trnsfm[\"val\"](img)\n",
    "    img = img[None, :, :, :] \n",
    "    img = img.to(device)\n",
    "    outputs = model(img)\n",
    "    \n",
    "    pred = torch.sigmoid(outputs.data).cpu().detach().numpy().tolist()[0][0]\n",
    "    pred_res = 1 if float(pred) > float(thr) else 0\n",
    "    \n",
    "    return pred_res\n"
   ]
  },
  {
   "cell_type": "code",
   "execution_count": 10,
   "id": "2ade40e5-7c04-4092-a3c0-1f89c8a67d10",
   "metadata": {},
   "outputs": [],
   "source": [
    "def initialize_model():\n",
    "    \"\"\"\n",
    "    Initializes the blur model\n",
    "    \"\"\"\n",
    "    \n",
    "    # GPU device\n",
    "    device = torch.device(\"cuda:0\" if torch.cuda.is_available() else \"cpu\")\n",
    "    \n",
    "    model = models.convnext_tiny(weights='IMAGENET1K_V1')\n",
    "    model.add_module(\"dropout\", nn.Dropout(0.04653))\n",
    "    num_ftrs = model.classifier[-1].in_features\n",
    "    model.classifier[-1] = nn.Linear(num_ftrs, 1)\n",
    "    \n",
    "    # Load custom blur model\n",
    "    save_path = '../outputs/best.pth'\n",
    "    model.load_state_dict(torch.load(save_path))\n",
    "    model = model.to(device)\n",
    "    \n",
    "    return model"
   ]
  },
  {
   "cell_type": "code",
   "execution_count": 11,
   "id": "0e34f050-9a3b-4c64-b5a4-2d963187a90f",
   "metadata": {},
   "outputs": [],
   "source": [
    "def get_clear_images(model_output_data, model_params):\n",
    "    \"\"\"\n",
    "    Given a dataset of images, returns a filtered array where the blurred images\n",
    "    have been removed\n",
    "    \"\"\"\n",
    "    \n",
    "    clear_images = {}\n",
    "    \n",
    "    for img, img_info in model_output_data.items():\n",
    "        # Blur model filter\n",
    "        blur_detection = model_inference(img, model_params)\n",
    "        if not blur_detection:\n",
    "            clear_images[img] = img_info\n",
    "            \n",
    "    return clear_images\n",
    " \n",
    "    \n",
    "def percent_imgs_rejected(og_data, filt_data):\n",
    "    imgs_rejected = len(og_data.keys()) - len(filt_data.keys())\n",
    "    \n",
    "    if float(imgs_rejected) == 0.0:\n",
    "        p_imgs_rejected = 0.0\n",
    "        \n",
    "    p_imgs_rejected = imgs_rejected / len(og_data.keys())\n",
    "        \n",
    "    return p_imgs_rejected * 100\n",
    "    "
   ]
  },
  {
   "cell_type": "code",
   "execution_count": 12,
   "id": "0c6a9112-c5c3-4d19-b6c9-e2d2b5c25770",
   "metadata": {},
   "outputs": [],
   "source": [
    "model = initialize_model()\n",
    "\n",
    "model_params = (model, device)"
   ]
  },
  {
   "cell_type": "code",
   "execution_count": 13,
   "id": "4f3f22b4-8852-4c1e-b0b8-71538f4ceafa",
   "metadata": {},
   "outputs": [],
   "source": [
    "data = {\"model_type\": [],\n",
    "        \"rej_rate\": [], \n",
    "        \"p_imgs_rej\": [],\n",
    "      \"acc\": []}"
   ]
  },
  {
   "cell_type": "code",
   "execution_count": 14,
   "id": "d1906980-4145-4628-b226-7a35a3c0097b",
   "metadata": {},
   "outputs": [
    {
     "name": "stdout",
     "output_type": "stream",
     "text": [
      "Finshed Percent: [##################--] 87% "
     ]
    }
   ],
   "source": [
    "blur_results = []\n",
    "rej_rates = [0.0, 0.2, 0.4, 0.6, 0.8]\n",
    "\n",
    "# For every rejection rate, compares the default model (rej_rates = 0.0) with \n",
    "for rr in rej_rates:\n",
    "    if rr == 0.0:\n",
    "        filtered_data = model_output_data  # Default model (no rejecting images)\n",
    "    else:\n",
    "        filtered_data = get_clear_images(model_output_data, (model, device, rr))\n",
    "    for typ in model_types:\n",
    "        res = evaluate_acc_promptcap(filtered_data, typ)\n",
    "        p_imgs_rej = percent_imgs_rejected(model_output_data, filtered_data)\n",
    "        acc = (sum(res) / len(res)) * 100\n",
    "        blur_results.append((typ, acc))\n",
    "        #print(f\"--> {typ}: {acc:.4f}%\")\n",
    "        data[\"model_type\"].append(typ)\n",
    "        data[\"acc\"].append(acc)\n",
    "        data[\"rej_rate\"].append(rr)\n",
    "        data[\"p_imgs_rej\"].append(p_imgs_rej)"
   ]
  },
  {
   "cell_type": "markdown",
   "id": "a90a412c-c338-4d37-9184-aadf4c74b0f0",
   "metadata": {},
   "source": [
    "**Visualization** "
   ]
  },
  {
   "cell_type": "code",
   "execution_count": 15,
   "id": "e98d20ba-5ef3-4a86-a420-d0cc43907835",
   "metadata": {},
   "outputs": [
    {
     "data": {
      "image/png": "[encoded data removed]",
      "text/plain": [
       "<Figure size 700x700 with 1 Axes>"
      ]
     },
     "metadata": {},
     "output_type": "display_data"
    }
   ],
   "source": [
    "plt.figure(figsize=(7, 7))\n",
    "plt.scatter(list(np.asarray(blur_results)[:, 0]), np.array(np.asarray(blur_results)[:, 1], dtype=np.float32), label=\"with blur model\")\n",
    "plt.scatter(list(np.asarray(default_results)[:, 0]), np.array(np.asarray(default_results)[:, 1], dtype=np.float32), label=\"Default\")\n",
    "plt.ylim([0, 100])\n",
    "plt.title(\"PromptCap model accuracy\")\n",
    "plt.ylabel(\"Accuracy\")\n",
    "plt.xlabel(\"Model type\")\n",
    "plt.legend()\n",
    "plt.show()"
   ]
  },
  {
   "cell_type": "code",
   "execution_count": 16,
   "id": "1ba265e9-d82b-4690-8509-a5551a530d63",
   "metadata": {},
   "outputs": [],
   "source": [
    "df = pd.DataFrame.from_dict(data)"
   ]
  },
  {
   "cell_type": "code",
   "execution_count": 17,
   "id": "8d1fc553-adc7-490e-a514-955ac0b77d6e",
   "metadata": {},
   "outputs": [
    {
     "data": {
      "text/html": [
       "<div>\n",
       "<style scoped>\n",
       "    .dataframe tbody tr th:only-of-type {\n",
       "        vertical-align: middle;\n",
       "    }\n",
       "\n",
       "    .dataframe tbody tr th {\n",
       "        vertical-align: top;\n",
       "    }\n",
       "\n",
       "    .dataframe thead th {\n",
       "        text-align: right;\n",
       "    }\n",
       "</style>\n",
       "<table border=\"1\" class=\"dataframe\">\n",
       "  <thead>\n",
       "    <tr style=\"text-align: right;\">\n",
       "      <th></th>\n",
       "      <th>model_type</th>\n",
       "      <th>rej_rate</th>\n",
       "      <th>p_imgs_rej</th>\n",
       "      <th>acc</th>\n",
       "    </tr>\n",
       "  </thead>\n",
       "  <tbody>\n",
       "    <tr>\n",
       "      <th>0</th>\n",
       "      <td>HF_OCR_google_answer</td>\n",
       "      <td>0.0</td>\n",
       "      <td>0.000000</td>\n",
       "      <td>8.606174</td>\n",
       "    </tr>\n",
       "    <tr>\n",
       "      <th>1</th>\n",
       "      <td>HF_OCR_answer</td>\n",
       "      <td>0.0</td>\n",
       "      <td>0.000000</td>\n",
       "      <td>7.015903</td>\n",
       "    </tr>\n",
       "    <tr>\n",
       "      <th>2</th>\n",
       "      <td>HF_NON_OCR_answer</td>\n",
       "      <td>0.0</td>\n",
       "      <td>0.000000</td>\n",
       "      <td>10.632990</td>\n",
       "    </tr>\n",
       "    <tr>\n",
       "      <th>3</th>\n",
       "      <td>HF_OCR_google_answer</td>\n",
       "      <td>0.2</td>\n",
       "      <td>41.534144</td>\n",
       "      <td>8.800000</td>\n",
       "    </tr>\n",
       "    <tr>\n",
       "      <th>4</th>\n",
       "      <td>HF_OCR_answer</td>\n",
       "      <td>0.2</td>\n",
       "      <td>41.534144</td>\n",
       "      <td>7.946667</td>\n",
       "    </tr>\n",
       "    <tr>\n",
       "      <th>5</th>\n",
       "      <td>HF_NON_OCR_answer</td>\n",
       "      <td>0.2</td>\n",
       "      <td>41.534144</td>\n",
       "      <td>10.826667</td>\n",
       "    </tr>\n",
       "    <tr>\n",
       "      <th>6</th>\n",
       "      <td>HF_OCR_google_answer</td>\n",
       "      <td>0.4</td>\n",
       "      <td>36.389149</td>\n",
       "      <td>9.362745</td>\n",
       "    </tr>\n",
       "    <tr>\n",
       "      <th>7</th>\n",
       "      <td>HF_OCR_answer</td>\n",
       "      <td>0.4</td>\n",
       "      <td>36.389149</td>\n",
       "      <td>8.235294</td>\n",
       "    </tr>\n",
       "    <tr>\n",
       "      <th>8</th>\n",
       "      <td>HF_NON_OCR_answer</td>\n",
       "      <td>0.4</td>\n",
       "      <td>36.389149</td>\n",
       "      <td>11.176471</td>\n",
       "    </tr>\n",
       "    <tr>\n",
       "      <th>9</th>\n",
       "      <td>HF_OCR_google_answer</td>\n",
       "      <td>0.6</td>\n",
       "      <td>30.963517</td>\n",
       "      <td>9.304426</td>\n",
       "    </tr>\n",
       "    <tr>\n",
       "      <th>10</th>\n",
       "      <td>HF_OCR_answer</td>\n",
       "      <td>0.6</td>\n",
       "      <td>30.963517</td>\n",
       "      <td>7.859079</td>\n",
       "    </tr>\n",
       "    <tr>\n",
       "      <th>11</th>\n",
       "      <td>HF_NON_OCR_answer</td>\n",
       "      <td>0.6</td>\n",
       "      <td>30.963517</td>\n",
       "      <td>11.201445</td>\n",
       "    </tr>\n",
       "    <tr>\n",
       "      <th>12</th>\n",
       "      <td>HF_OCR_google_answer</td>\n",
       "      <td>0.8</td>\n",
       "      <td>25.350795</td>\n",
       "      <td>9.273183</td>\n",
       "    </tr>\n",
       "    <tr>\n",
       "      <th>13</th>\n",
       "      <td>HF_OCR_answer</td>\n",
       "      <td>0.8</td>\n",
       "      <td>25.350795</td>\n",
       "      <td>7.727652</td>\n",
       "    </tr>\n",
       "    <tr>\n",
       "      <th>14</th>\n",
       "      <td>HF_NON_OCR_answer</td>\n",
       "      <td>0.8</td>\n",
       "      <td>25.350795</td>\n",
       "      <td>10.985798</td>\n",
       "    </tr>\n",
       "  </tbody>\n",
       "</table>\n",
       "</div>"
      ],
      "text/plain": [
       "              model_type  rej_rate  p_imgs_rej        acc\n",
       "0   HF_OCR_google_answer       0.0    0.000000   8.606174\n",
       "1          HF_OCR_answer       0.0    0.000000   7.015903\n",
       "2      HF_NON_OCR_answer       0.0    0.000000  10.632990\n",
       "3   HF_OCR_google_answer       0.2   41.534144   8.800000\n",
       "4          HF_OCR_answer       0.2   41.534144   7.946667\n",
       "5      HF_NON_OCR_answer       0.2   41.534144  10.826667\n",
       "6   HF_OCR_google_answer       0.4   36.389149   9.362745\n",
       "7          HF_OCR_answer       0.4   36.389149   8.235294\n",
       "8      HF_NON_OCR_answer       0.4   36.389149  11.176471\n",
       "9   HF_OCR_google_answer       0.6   30.963517   9.304426\n",
       "10         HF_OCR_answer       0.6   30.963517   7.859079\n",
       "11     HF_NON_OCR_answer       0.6   30.963517  11.201445\n",
       "12  HF_OCR_google_answer       0.8   25.350795   9.273183\n",
       "13         HF_OCR_answer       0.8   25.350795   7.727652\n",
       "14     HF_NON_OCR_answer       0.8   25.350795  10.985798"
      ]
     },
     "execution_count": 17,
     "metadata": {},
     "output_type": "execute_result"
    }
   ],
   "source": [
    "df"
   ]
  },
  {
   "cell_type": "code",
   "execution_count": 36,
   "id": "c29db46b-ad64-41a1-9d3d-6589a346dd8f",
   "metadata": {},
   "outputs": [
    {
     "data": {
      "image/png": "[encoded data removed]",
      "text/plain": [
       "<Figure size 640x480 with 1 Axes>"
      ]
     },
     "metadata": {},
     "output_type": "display_data"
    }
   ],
   "source": [
    "for typ in model_types:\n",
    "    data = df[df[\"model_type\"] == typ].sort_values('p_imgs_rej')\n",
    "    plt.plot(data[\"p_imgs_rej\"].tolist(),\n",
    "            data[\"acc\"].tolist(), label=typ)\n",
    "    plt.legend(loc=4)\n",
    "    plt.xlabel(\"Percentaje of rejected images\")\n",
    "    plt.ylabel(\"Accuracy (%)\")\n",
    "plt.show()"
   ]
  }
 ],
 "metadata": {
  "kernelspec": {
   "display_name": "tfg env",
   "language": "python",
   "name": "env"
  },
  "language_info": {
   "codemirror_mode": {
    "name": "ipython",
    "version": 3
   },
   "file_extension": ".py",
   "mimetype": "text/x-python",
   "name": "python",
   "nbconvert_exporter": "python",
   "pygments_lexer": "ipython3",
   "version": "3.10.6"
  }
 },
 "nbformat": 4,
 "nbformat_minor": 5
}
