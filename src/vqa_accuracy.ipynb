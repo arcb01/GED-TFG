{
 "cells": [
  {
   "cell_type": "markdown",
   "id": "4e88b10d-c975-4e46-a20b-b0b7ede80a8b",
   "metadata": {},
   "source": [
    "# VQA model accuracy"
   ]
  },
  {
   "cell_type": "code",
   "execution_count": 1,
   "id": "12bf7b7f-eb81-43af-aecb-e51072f7222a",
   "metadata": {},
   "outputs": [
    {
     "name": "stdout",
     "output_type": "stream",
     "text": [
      "PyTorch Version:  1.13.1+cu117\n",
      "Torchvision Version:  0.14.1+cu117\n",
      "cuda:0\n"
     ]
    }
   ],
   "source": [
    "from __future__ import print_function \n",
    "from __future__ import division\n",
    "import torch\n",
    "import torch.nn as nn\n",
    "import torch.optim as optim\n",
    "import numpy as np\n",
    "import torchvision\n",
    "import pandas as pd\n",
    "from torchvision import datasets, models, transforms\n",
    "from torch.utils.data import Dataset, DataLoader\n",
    "import json\n",
    "import matplotlib.pyplot as plt\n",
    "from PIL import Image\n",
    "import time\n",
    "import re, sys\n",
    "import os\n",
    "import copy\n",
    "import shutil\n",
    "import io\n",
    "print(\"PyTorch Version: \",torch.__version__)\n",
    "print(\"Torchvision Version: \",torchvision.__version__)\n",
    "\n",
    "%matplotlib inline\n",
    "\n",
    "# Detect if we have a GPU available\n",
    "device = torch.device(\"cuda:0\" if torch.cuda.is_available() else \"cpu\")\n",
    "print(device)"
   ]
  },
  {
   "cell_type": "markdown",
   "id": "a061b5f7-70b1-4483-8321-e12a0159da30",
   "metadata": {},
   "source": [
    "**Load VizWiz test set data** (with PromptCap model output)"
   ]
  },
  {
   "cell_type": "code",
   "execution_count": 2,
   "id": "f90cba26-d99b-4330-be86-a3667c47e754",
   "metadata": {},
   "outputs": [],
   "source": [
    "with open('/media/arnau/SSD/VizWiz/models/hf_model_test_res.json', encoding='UTF-8') as jf:\n",
    "    model_output_data = json.load(jf)"
   ]
  },
  {
   "cell_type": "markdown",
   "id": "451cac5e-4941-4f25-b388-d488ce7639f9",
   "metadata": {},
   "source": [
    "**Load VizWiz test set data** (with extra models output)"
   ]
  },
  {
   "cell_type": "code",
   "execution_count": 3,
   "id": "f0b6f400-1cd5-4443-8be6-318f52670d29",
   "metadata": {},
   "outputs": [],
   "source": [
    "with open('/media/arnau/SSD/VizWiz/models/hf_extra_models_test_res.json', encoding='UTF-8') as jf:\n",
    "    other_models_output_data = json.load(jf)\n",
    "\n",
    "# Add GT answers\n",
    "for img_name, data in other_models_output_data.items():\n",
    "    other_models_output_data[img_name][\"gt_answers\"] = model_output_data[img_name][\"gt_answers\"]"
   ]
  },
  {
   "cell_type": "code",
   "execution_count": 4,
   "id": "e409cf14-3a66-42ad-adaa-b3be238b6069",
   "metadata": {},
   "outputs": [],
   "source": [
    "val_imgs = os.listdir('/media/arnau/SSD/VizWiz/data/captioning/val/')\n",
    "test_imgs = list(model_output_data.keys())\n",
    "test_fin_imgs = [img for img in test_imgs if img in val_imgs]\n",
    "\n",
    "if os.path.exists(\"/media/arnau/SSD/VizWiz/data/test_imgs/\") == False:\n",
    "    os.mkdir(\"/media/arnau/SSD/VizWiz/data/test_imgs/\")\n",
    "    \n",
    "    # Copy test images to separate folder\n",
    "    for img in test_fin_imgs:\n",
    "        original = f'/media/arnau/SSD/VizWiz/data/captioning/val/{img}'\n",
    "        target = f\"/media/arnau/SSD/VizWiz/data/test_imgs/{img}\"\n",
    "        shutil.copyfile(original, target)"
   ]
  },
  {
   "cell_type": "code",
   "execution_count": 5,
   "id": "89ac5464-6103-4a96-8c45-95ebf8d1df01",
   "metadata": {},
   "outputs": [],
   "source": [
    "get_model_types = lambda d : [el \n",
    "                               for el in list(d[next(iter(d))].keys()) \n",
    "                               if el not in ['question', 'gt_answers']]"
   ]
  },
  {
   "cell_type": "markdown",
   "id": "e0e42c6e-a17e-46e8-b73e-6dd60e107bf3",
   "metadata": {},
   "source": [
    "Merge both dictionaries into a single one"
   ]
  },
  {
   "cell_type": "code",
   "execution_count": 6,
   "id": "cd031dc3-0e6a-42b8-b908-1ae7fe8efa8a",
   "metadata": {},
   "outputs": [],
   "source": [
    "merged = model_output_data.copy()\n",
    "\n",
    "for typ in get_model_types(other_models_output_data):\n",
    "    for img_name, data in merged.items():\n",
    "        try:\n",
    "            other_model_result = other_models_output_data[img_name][typ]\n",
    "            merged[img_name][typ] = other_model_result\n",
    "        except:\n",
    "            pass\n",
    "        \n",
    "model_output_data = merged"
   ]
  },
  {
   "cell_type": "markdown",
   "id": "c26260e5-70c1-4633-9de3-2a7f48919d6f",
   "metadata": {},
   "source": [
    "Show all models "
   ]
  },
  {
   "cell_type": "code",
   "execution_count": 7,
   "id": "9efb2923-54b4-4b77-9cad-721b42461754",
   "metadata": {},
   "outputs": [
    {
     "data": {
      "text/plain": [
       "['HF_OCR_google_answer',\n",
       " 'HF_OCR_answer',\n",
       " 'HF_NON_OCR_answer',\n",
       " 'ViLT',\n",
       " 'SF_LAVIS',\n",
       " 'BLIP2-VQA',\n",
       " 'BLIP2-CTX-VQA']"
      ]
     },
     "execution_count": 7,
     "metadata": {},
     "output_type": "execute_result"
    }
   ],
   "source": [
    "get_model_types(model_output_data)"
   ]
  },
  {
   "cell_type": "markdown",
   "id": "85079a5f-4dcc-45da-8c6f-c474aa6c56b0",
   "metadata": {},
   "source": [
    "## Models accuracy\n",
    "Various VQA models evaluated on VizWiz test set"
   ]
  },
  {
   "cell_type": "markdown",
   "id": "f60c6402-d522-4d73-9fa8-2813c070d344",
   "metadata": {
    "tags": []
   },
   "source": [
    "### Helper functions"
   ]
  },
  {
   "cell_type": "code",
   "execution_count": 8,
   "id": "9f0bcb0e-b174-476b-a9cf-7639bea3b4a9",
   "metadata": {},
   "outputs": [],
   "source": [
    "def remove_periods(q):\n",
    "    \n",
    "    outText = q\n",
    "    puncts = [';', r\"/\", '[', ']', '\"', '{', '}',\n",
    "                                 '(', ')', '=', '+', '\\\\', '_', '-',\n",
    "                                 '>', '<', '@', '`', ',', '?', '!']\n",
    "    comma_strip = re.compile(\"(\\d)(\\,)(\\d)\")\n",
    "    periodStrip  = re.compile(\"(?!<=\\d)(\\.)(?!\\d)\")\n",
    "    for p in puncts:\n",
    "        if (p + ' ' in q or ' ' + p in q) or (re.search(comma_strip, q) != None):\n",
    "            outText = outText.replace(p, '')\n",
    "        else:\n",
    "            outText = outText.replace(p, ' ')\n",
    "            outText = periodStrip.sub(\"\",\n",
    "                                           outText,\n",
    "                                           re.UNICODE)\n",
    "    return outText"
   ]
  },
  {
   "cell_type": "code",
   "execution_count": 9,
   "id": "c5f9e30c-22f0-4d65-95e3-1434664d9dba",
   "metadata": {},
   "outputs": [],
   "source": [
    "\n",
    "\n",
    "def num_words_to_digit(q):\n",
    "    \n",
    "    outText = []\n",
    "    tempText = q.lower().split()\n",
    "    manualMap  = { 'none': '0',\n",
    "                    'zero': '0',\n",
    "                    'one': '1',\n",
    "                     'two': '2',\n",
    "                     'three': '3',\n",
    "                     'four': '4',\n",
    "                     'five': '5',\n",
    "                     'six': '6',\n",
    "                     'seven': '7',\n",
    "                     'eight': '8',\n",
    "                     'nine': '9',\n",
    "                     'ten': '10'}\n",
    "    articles     = ['a',\n",
    "                             'an',\n",
    "                             'the'\n",
    "                    ]\n",
    "    contractions = {\"aint\": \"ain't\", \"arent\": \"aren't\", \"cant\": \"can't\", \"couldve\": \"could've\", \"couldnt\": \"couldn't\", \\\n",
    "                            \"couldn'tve\": \"couldn't've\", \"couldnt've\": \"couldn't've\", \"didnt\": \"didn't\", \"doesnt\": \"doesn't\", \"dont\": \"don't\", \"hadnt\": \"hadn't\", \\\n",
    "                            \"hadnt've\": \"hadn't've\", \"hadn'tve\": \"hadn't've\", \"hasnt\": \"hasn't\", \"havent\": \"haven't\", \"hed\": \"he'd\", \"hed've\": \"he'd've\", \\\n",
    "                            \"he'dve\": \"he'd've\", \"hes\": \"he's\", \"howd\": \"how'd\", \"howll\": \"how'll\", \"hows\": \"how's\", \"Id've\": \"I'd've\", \"I'dve\": \"I'd've\", \\\n",
    "                            \"Im\": \"I'm\", \"Ive\": \"I've\", \"isnt\": \"isn't\", \"itd\": \"it'd\", \"itd've\": \"it'd've\", \"it'dve\": \"it'd've\", \"itll\": \"it'll\", \"let's\": \"let's\", \\\n",
    "                            \"maam\": \"ma'am\", \"mightnt\": \"mightn't\", \"mightnt've\": \"mightn't've\", \"mightn'tve\": \"mightn't've\", \"mightve\": \"might've\", \\\n",
    "                            \"mustnt\": \"mustn't\", \"mustve\": \"must've\", \"neednt\": \"needn't\", \"notve\": \"not've\", \"oclock\": \"o'clock\", \"oughtnt\": \"oughtn't\", \\\n",
    "                            \"ow's'at\": \"'ow's'at\", \"'ows'at\": \"'ow's'at\", \"'ow'sat\": \"'ow's'at\", \"shant\": \"shan't\", \"shed've\": \"she'd've\", \"she'dve\": \"she'd've\", \\\n",
    "                            \"she's\": \"she's\", \"shouldve\": \"should've\", \"shouldnt\": \"shouldn't\", \"shouldnt've\": \"shouldn't've\", \"shouldn'tve\": \"shouldn't've\", \\\n",
    "                            \"somebody'd\": \"somebodyd\", \"somebodyd've\": \"somebody'd've\", \"somebody'dve\": \"somebody'd've\", \"somebodyll\": \"somebody'll\", \\\n",
    "                            \"somebodys\": \"somebody's\", \"someoned\": \"someone'd\", \"someoned've\": \"someone'd've\", \"someone'dve\": \"someone'd've\", \\\n",
    "                            \"someonell\": \"someone'll\", \"someones\": \"someone's\", \"somethingd\": \"something'd\", \"somethingd've\": \"something'd've\", \\\n",
    "                            \"something'dve\": \"something'd've\", \"somethingll\": \"something'll\", \"thats\": \"that's\", \"thered\": \"there'd\", \"thered've\": \"there'd've\", \\\n",
    "                            \"there'dve\": \"there'd've\", \"therere\": \"there're\", \"theres\": \"there's\", \"theyd\": \"they'd\", \"theyd've\": \"they'd've\", \\\n",
    "                            \"they'dve\": \"they'd've\", \"theyll\": \"they'll\", \"theyre\": \"they're\", \"theyve\": \"they've\", \"twas\": \"'twas\", \"wasnt\": \"wasn't\", \\\n",
    "                            \"wed've\": \"we'd've\", \"we'dve\": \"we'd've\", \"weve\": \"we've\", \"werent\": \"weren't\", \"whatll\": \"what'll\", \"whatre\": \"what're\", \\\n",
    "                            \"whats\": \"what's\", \"whatve\": \"what've\", \"whens\": \"when's\", \"whered\": \"where'd\", \"wheres\": \"where's\", \"whereve\": \"where've\", \\\n",
    "                            \"whod\": \"who'd\", \"whod've\": \"who'd've\", \"who'dve\": \"who'd've\", \"wholl\": \"who'll\", \"whos\": \"who's\", \"whove\": \"who've\", \"whyll\": \"why'll\", \\\n",
    "                            \"whyre\": \"why're\", \"whys\": \"why's\", \"wont\": \"won't\", \"wouldve\": \"would've\", \"wouldnt\": \"wouldn't\", \"wouldnt've\": \"wouldn't've\", \\\n",
    "                            \"wouldn'tve\": \"wouldn't've\", \"yall\": \"y'all\", \"yall'll\": \"y'all'll\", \"y'allll\": \"y'all'll\", \"yall'd've\": \"y'all'd've\", \\\n",
    "                            \"y'alld've\": \"y'all'd've\", \"y'all'dve\": \"y'all'd've\", \"youd\": \"you'd\", \"youd've\": \"you'd've\", \"you'dve\": \"you'd've\", \\\n",
    "                            \"youll\": \"you'll\", \"youre\": \"you're\", \"youve\": \"you've\"\n",
    "                            }\n",
    "    for word in tempText:\n",
    "        word = manualMap.setdefault(word, word)\n",
    "        if word not in articles:\n",
    "            outText.append(word)\n",
    "        else:\n",
    "            pass\n",
    "\n",
    "    for wordId, word in enumerate(outText):\n",
    "        if word in contractions:\n",
    "            outText[wordId] = contractions[word]\n",
    "    outText = ' '.join(outText)\n",
    "    return outText"
   ]
  },
  {
   "cell_type": "code",
   "execution_count": 10,
   "id": "8c1a1e4a-34de-4424-9c70-53513e90110c",
   "metadata": {},
   "outputs": [],
   "source": [
    "def updateProgress(progress):\n",
    "    \n",
    "    barLength = 20\n",
    "    status = \"\"\n",
    "    if isinstance(progress, int):\n",
    "        progress = float(progress)\n",
    "    if not isinstance(progress, float):\n",
    "        progress = 0\n",
    "        status = \"error: progress var must be float\\r\\n\"\n",
    "    if progress < 0:\n",
    "        progress = 0\n",
    "        status = \"Halt...\\r\\n\"\n",
    "    if progress >= 1:\n",
    "        progress = 1\n",
    "        status = \"Done...\\r\\n\"\n",
    "    block = int(round(barLength*progress))\n",
    "    text = \"\\rFinshed Percent: [{0}] {1}% {2}\".format( \"#\"*block + \"-\"*(barLength-block), int(progress*100), status)\n",
    "    sys.stdout.write(text)\n",
    "    sys.stdout.flush()"
   ]
  },
  {
   "cell_type": "markdown",
   "id": "891890c7-7dec-4199-9ba0-da73929c2a02",
   "metadata": {},
   "source": [
    "### Evaluation"
   ]
  },
  {
   "cell_type": "code",
   "execution_count": 11,
   "id": "44f55e0e-ae3f-412e-a7bb-36eb13b31644",
   "metadata": {},
   "outputs": [],
   "source": [
    "def evaluate_acc_promptcap(model_output_data, model_type):\n",
    "    \"\"\" \n",
    "    Calculates accuracy metric for VQA model\n",
    "    \"\"\"\n",
    "    \n",
    "    accQA       = []\n",
    "    step = 0\n",
    "    \n",
    "    data = model_output_data.copy()\n",
    "    \n",
    "    for img, img_info in data.items():\n",
    "        question = img_info[\"question\"]\n",
    "        gtanswers = img_info[\"gt_answers\"]\n",
    "        for ans in gtanswers:\n",
    "            if type(ans['answer']) == str:\n",
    "                ans['answer'] = ans['answer'].replace('\\n', ' ').replace('\\t', ' ').strip().lower()\n",
    "            else:\n",
    "                ans['answer'] = ' '.join(ans['answer'])\n",
    "        try:\n",
    "            resAns = img_info[model_type]\n",
    "            resAns = resAns.replace('\\n', ' ')\n",
    "            resAns = resAns.replace('\\t', ' ')\n",
    "            resAns = resAns.strip()\n",
    "            resAns = resAns.lower()\n",
    "        except:\n",
    "            resAns = ''\n",
    "        gtAcc = []\n",
    "        gtAnswers = [ans[\"answer\"] for ans in gtanswers]\n",
    "\n",
    "        if len(set(gtAnswers)) > 1:\n",
    "            for ans in gtanswers:\n",
    "                if type(ans['answer']) == str:\n",
    "                    ans[\"answer\"] = remove_periods(ans['answer'])\n",
    "                    ans[\"answer\"] = num_words_to_digit(ans['answer'])\n",
    "                else:\n",
    "                    ans[\"answer\"] = remove_periods(' '.join(ans['answer']))\n",
    "                    ans[\"answer\"] = num_words_to_digit(' '.join(ans['answer']))\n",
    "            resAns = remove_periods(resAns)\n",
    "            resAns = num_words_to_digit(resAns)\n",
    "\n",
    "        for ans in gtanswers:\n",
    "            # otherGTAns = [item for item in gtanswers if item!=ans]\n",
    "            matchingAns = [ans for ans in gtanswers if ans['answer'] == resAns]\n",
    "            acc = min(1, float(len(matchingAns))/3)\n",
    "            gtAcc.append(acc)\n",
    "\n",
    "        avgGTAcc = float(sum(gtAcc))/len(gtAcc)\n",
    "        accQA.append(avgGTAcc)\n",
    "\n",
    "        if step%100 == 0:\n",
    "            updateProgress(step/float(len(data.keys())))\n",
    "        step = step + 1\n",
    "    \n",
    "    return accQA\n"
   ]
  },
  {
   "cell_type": "code",
   "execution_count": 12,
   "id": "a24987b1-6077-4844-b0a3-78e9d833de19",
   "metadata": {},
   "outputs": [
    {
     "name": "stdout",
     "output_type": "stream",
     "text": [
      "Mean: [0.37228625 0.41638059 0.46563346]\n",
      "Standard Deviation: [0.27782804 0.27666213 0.29458398]\n"
     ]
    }
   ],
   "source": [
    "import cv2\n",
    "import numpy as np\n",
    "\n",
    "img_list = list(model_output_data.keys())\n",
    "np.random.shuffle(img_list)\n",
    "img_list = img_list[:25]\n",
    "\n",
    "resized_images = []\n",
    "\n",
    "# Resize the images to a consistent shape\n",
    "target_shape = (300, 300)  # Set your desired target shape here\n",
    "\n",
    "image_path = '/media/arnau/SSD/VizWiz/data/captioning/val/'\n",
    "\n",
    "for img_name in img_list:\n",
    "    image = cv2.imread(image_path + img_name)\n",
    "    resized_image = cv2.resize(image, target_shape)\n",
    "    resized_images.append(resized_image)\n",
    "\n",
    "# Convert the resized_images list to a NumPy array\n",
    "image_array = np.array(resized_images)\n",
    "\n",
    "# Calculate the mean\n",
    "mean = np.mean(image_array, axis=(0, 1, 2)) / 255.0\n",
    "\n",
    "# Calculate the standard deviation\n",
    "std = np.std(image_array, axis=(0, 1, 2)) / 255.0\n",
    "\n",
    "print(\"Mean:\", mean)\n",
    "print(\"Standard Deviation:\", std)\n"
   ]
  },
  {
   "cell_type": "code",
   "execution_count": 13,
   "id": "c1cc814a-923c-4aad-86b5-9c7498a3d795",
   "metadata": {},
   "outputs": [
    {
     "name": "stdout",
     "output_type": "stream",
     "text": [
      "Finshed Percent: [###################-] 93% --> HF_OCR_google_answer: 8.6062%\n",
      "Finshed Percent: [###################-] 93% --> HF_OCR_answer: 7.0159%\n",
      "Finshed Percent: [###################-] 93% --> HF_NON_OCR_answer: 10.6330%\n",
      "Finshed Percent: [###################-] 93% --> ViLT: 9.5104%\n",
      "Finshed Percent: [###################-] 93% --> SF_LAVIS: 15.8403%\n",
      "Finshed Percent: [###################-] 93% --> BLIP2-VQA: 17.2123%\n"
     ]
    }
   ],
   "source": [
    "default_results = []\n",
    "\n",
    "for typ in get_model_types(model_output_data)[:-1]:\n",
    "    res = evaluate_acc_promptcap(model_output_data, typ)\n",
    "    acc = (sum(res) / len(res)) * 100\n",
    "    default_results.append((typ, acc))\n",
    "    print(f\"--> {typ}: {acc:.4f}%\")"
   ]
  },
  {
   "cell_type": "markdown",
   "id": "eea52aef-291c-4fc4-881c-9a694fac2304",
   "metadata": {},
   "source": [
    "## Models accuracy using filtering models"
   ]
  },
  {
   "cell_type": "markdown",
   "id": "a962b338-6de5-40a3-a4e9-a86827c5322a",
   "metadata": {},
   "source": [
    "Models accuracy evaluted on VizWiz test set with a prior filtering of blurred images using a custom blur detection model"
   ]
  },
  {
   "cell_type": "code",
   "execution_count": 14,
   "id": "6db8f037-4264-42e5-b86f-6d20bb6ea446",
   "metadata": {},
   "outputs": [],
   "source": [
    "import torch.nn.functional as F\n",
    "\n",
    "def model_inference(img, model_params, multiclass=None):\n",
    "    \"\"\"\n",
    "    Returns 1 if the input image is blurred otherwise returns 0\n",
    "    \"\"\"\n",
    "    \n",
    "    model, device, thr = model_params\n",
    "\n",
    "    trnsfm = {\n",
    "    'val': transforms.Compose([\n",
    "        transforms.Resize((224, 224)),\n",
    "        transforms.ToTensor(),\n",
    "        transforms.Normalize(mean=[0.33011644, 0.40721696, 0.51554057], \n",
    "                             std=[0.26439891, 0.26886196, 0.27917049])\n",
    "    ])\n",
    "    }\n",
    "\n",
    "    model.eval()\n",
    "\n",
    "    if type(img) == str:\n",
    "        test_path = '/media/arnau/SSD/VizWiz/data/captioning/val/'\n",
    "        img_path = os.path.join(test_path, img)\n",
    "        img = Image.open(img_path)\n",
    "\n",
    "    img = trnsfm[\"val\"](img)\n",
    "    img = img[None, :, :, :] \n",
    "    img = img.to(device)\n",
    "    outputs = model(img)\n",
    "\n",
    "    if not multiclass:\n",
    "        pred = torch.sigmoid(outputs.data).cpu().detach().numpy().tolist()[0][0]\n",
    "        pred_res = 1 if float(pred) > float(thr) else 0\n",
    "    else:\n",
    "        pred = F.softmax(outputs.data).cpu().detach().numpy()[0][0] # value of class0 (clear)\n",
    "        pred_res = 0 if float(pred) > float(thr) else 1\n",
    "        #pred_res = torch.argmax(outputs.data, 1).cpu().detach().numpy()[0]\n",
    "\n",
    "    return pred_res\n"
   ]
  },
  {
   "cell_type": "code",
   "execution_count": 15,
   "id": "2ade40e5-7c04-4092-a3c0-1f89c8a67d10",
   "metadata": {},
   "outputs": [],
   "source": [
    "def initialize_model(model_path, num_classes):\n",
    "    \"\"\"\n",
    "    Initializes the blur model\n",
    "    \"\"\"\n",
    "    \n",
    "    # GPU device\n",
    "    device = torch.device(\"cuda:0\" if torch.cuda.is_available() else \"cpu\")\n",
    "    \n",
    "    model = models.convnext_tiny(weights='IMAGENET1K_V1')\n",
    "\n",
    "    num_ftrs = model.classifier[-1].in_features\n",
    "    model.classifier[-1] = nn.Linear(num_ftrs, num_classes)\n",
    "    \n",
    "    # Load custom blur model\n",
    "    model.load_state_dict(torch.load(model_path))\n",
    "    model = model.to(device)\n",
    "    \n",
    "    return model"
   ]
  },
  {
   "cell_type": "code",
   "execution_count": 16,
   "id": "0e34f050-9a3b-4c64-b5a4-2d963187a90f",
   "metadata": {},
   "outputs": [],
   "source": [
    "def get_clear_images(model_output_data, model_params, multiclass):\n",
    "    \"\"\"\n",
    "    Given a dataset of images, returns a filtered array where the blurred images\n",
    "    have been removed\n",
    "    \"\"\"\n",
    "    \n",
    "    clear_images = {}\n",
    "    \n",
    "    for img, img_info in model_output_data.items():\n",
    "        # Flaw model filter with %\n",
    "        flaw_detection = model_inference(img, model_params, multiclass) # Returns 1 if img is blur otherwise 0\n",
    "        if flaw_detection == 0:\n",
    "            clear_images[img] = img_info\n",
    "            \n",
    "    return clear_images\n",
    " \n",
    "    \n",
    "def percent_imgs_rejected(og_data, filt_data):\n",
    "    #imgs_rejected = len(og_data.keys()) - len(filt_data.keys())\n",
    "    \n",
    "    #if len(filt_data.keys()) == 0:\n",
    "        #p_imgs_rejected = 0.0\n",
    "        \n",
    "    #p_imgs_rejected = (imgs_rejected / len(og_data.keys())) * 100\n",
    "    \n",
    "    p_imgs_rejected =  100. - 100. * len(filt_data.keys()) / len(og_data.keys())\n",
    "    \n",
    "    return p_imgs_rejected\n",
    "\n",
    "    "
   ]
  },
  {
   "cell_type": "code",
   "execution_count": 17,
   "id": "0c6a9112-c5c3-4d19-b6c9-e2d2b5c25770",
   "metadata": {},
   "outputs": [],
   "source": [
    "model_path = '../outputs/best_FRM_convnext.pth'\n",
    "flaw = model_path.split(\"_\")[1]\n",
    "num_classes = 1 if flaw in [\"BLR\", \"FRM\"] else 4\n",
    "\n",
    "multiclass = True if num_classes > 1 else False\n",
    "model = initialize_model(model_path, num_classes, )\n",
    "\n",
    "model_params = (model, device)"
   ]
  },
  {
   "cell_type": "code",
   "execution_count": 18,
   "id": "4f3f22b4-8852-4c1e-b0b8-71538f4ceafa",
   "metadata": {},
   "outputs": [],
   "source": [
    "data = {\"model_type\": [],\n",
    "        \"thr\": [], \n",
    "        \"p_imgs_rej\": [],\n",
    "      \"acc\": []}\n",
    "\n",
    "# Remap models naming\n",
    "map_type = { \"HF_OCR_google_answer\" : \"PromptCap + GoogleOCR\",\n",
    "                \"HF_OCR_answer\" : \"PromptCap + EasyOCR\",\n",
    "                \"HF_NON_OCR_answer\": \"PromptCap\",\n",
    "            \"SF_LAVIS\" : \"BLIP-VQA\"\n",
    "           }"
   ]
  },
  {
   "cell_type": "code",
   "execution_count": 19,
   "id": "d1906980-4145-4628-b226-7a35a3c0097b",
   "metadata": {},
   "outputs": [
    {
     "name": "stdout",
     "output_type": "stream",
     "text": [
      "Finshed Percent: [##############------] 67% "
     ]
    }
   ],
   "source": [
    "blur_results = []\n",
    "rej_rates = np.flip(np.arange(0., 1.1, 0.1), 0)\n",
    "\n",
    "# For every rejection rate, compares the default model (rej_rates = 0.0) with \n",
    "for rr in rej_rates:\n",
    "    filtered_data = get_clear_images(model_output_data, (model, device, rr), multiclass=multiclass)\n",
    "    for typ in get_model_types(model_output_data)[:-1]: # Don't use the BLIP2-CTX-VQA model yet (the last one)\n",
    "        res = evaluate_acc_promptcap(filtered_data, typ)\n",
    "        p_imgs_rej = percent_imgs_rejected(model_output_data, filtered_data)\n",
    "        if len(filtered_data) == 0:\n",
    "            acc = 100.\n",
    "        else:\n",
    "            acc = (sum(res) / len(res)) * 100\n",
    "        blur_results.append((typ, acc))\n",
    "        #print(f\"--> {typ}: {acc:.4f}%\")\n",
    "        try:\n",
    "            model_type = map_type[typ]\n",
    "        except:\n",
    "            model_type = typ\n",
    "        data[\"model_type\"].append(model_type)\n",
    "        data[\"acc\"].append(acc)\n",
    "        data[\"thr\"].append(rr)\n",
    "        data[\"p_imgs_rej\"].append(p_imgs_rej)"
   ]
  },
  {
   "cell_type": "code",
   "execution_count": 20,
   "id": "1ba265e9-d82b-4690-8509-a5551a530d63",
   "metadata": {},
   "outputs": [],
   "source": [
    "df = pd.DataFrame.from_dict(data)\n",
    "#df.sort_values('rej_rate', ascending=True)"
   ]
  },
  {
   "cell_type": "code",
   "execution_count": 21,
   "id": "2f41ba2f-31f3-4b8d-beff-8369034e5d3a",
   "metadata": {},
   "outputs": [
    {
     "data": {
      "text/html": [
       "<div>\n",
       "<style scoped>\n",
       "    .dataframe tbody tr th:only-of-type {\n",
       "        vertical-align: middle;\n",
       "    }\n",
       "\n",
       "    .dataframe tbody tr th {\n",
       "        vertical-align: top;\n",
       "    }\n",
       "\n",
       "    .dataframe thead th {\n",
       "        text-align: right;\n",
       "    }\n",
       "</style>\n",
       "<table border=\"1\" class=\"dataframe\">\n",
       "  <thead>\n",
       "    <tr style=\"text-align: right;\">\n",
       "      <th></th>\n",
       "      <th>model_type</th>\n",
       "      <th>thr</th>\n",
       "      <th>p_imgs_rej</th>\n",
       "      <th>acc</th>\n",
       "    </tr>\n",
       "  </thead>\n",
       "  <tbody>\n",
       "    <tr>\n",
       "      <th>0</th>\n",
       "      <td>PromptCap + GoogleOCR</td>\n",
       "      <td>1.0</td>\n",
       "      <td>0.0</td>\n",
       "      <td>8.606174</td>\n",
       "    </tr>\n",
       "    <tr>\n",
       "      <th>1</th>\n",
       "      <td>PromptCap + EasyOCR</td>\n",
       "      <td>1.0</td>\n",
       "      <td>0.0</td>\n",
       "      <td>7.015903</td>\n",
       "    </tr>\n",
       "    <tr>\n",
       "      <th>2</th>\n",
       "      <td>PromptCap</td>\n",
       "      <td>1.0</td>\n",
       "      <td>0.0</td>\n",
       "      <td>10.632990</td>\n",
       "    </tr>\n",
       "    <tr>\n",
       "      <th>3</th>\n",
       "      <td>ViLT</td>\n",
       "      <td>1.0</td>\n",
       "      <td>0.0</td>\n",
       "      <td>9.510446</td>\n",
       "    </tr>\n",
       "    <tr>\n",
       "      <th>4</th>\n",
       "      <td>BLIP-VQA</td>\n",
       "      <td>1.0</td>\n",
       "      <td>0.0</td>\n",
       "      <td>15.840349</td>\n",
       "    </tr>\n",
       "    <tr>\n",
       "      <th>...</th>\n",
       "      <td>...</td>\n",
       "      <td>...</td>\n",
       "      <td>...</td>\n",
       "      <td>...</td>\n",
       "    </tr>\n",
       "    <tr>\n",
       "      <th>60</th>\n",
       "      <td>PromptCap + GoogleOCR</td>\n",
       "      <td>0.0</td>\n",
       "      <td>100.0</td>\n",
       "      <td>100.000000</td>\n",
       "    </tr>\n",
       "    <tr>\n",
       "      <th>61</th>\n",
       "      <td>PromptCap + EasyOCR</td>\n",
       "      <td>0.0</td>\n",
       "      <td>100.0</td>\n",
       "      <td>100.000000</td>\n",
       "    </tr>\n",
       "    <tr>\n",
       "      <th>62</th>\n",
       "      <td>PromptCap</td>\n",
       "      <td>0.0</td>\n",
       "      <td>100.0</td>\n",
       "      <td>100.000000</td>\n",
       "    </tr>\n",
       "    <tr>\n",
       "      <th>63</th>\n",
       "      <td>ViLT</td>\n",
       "      <td>0.0</td>\n",
       "      <td>100.0</td>\n",
       "      <td>100.000000</td>\n",
       "    </tr>\n",
       "    <tr>\n",
       "      <th>65</th>\n",
       "      <td>BLIP2-VQA</td>\n",
       "      <td>0.0</td>\n",
       "      <td>100.0</td>\n",
       "      <td>100.000000</td>\n",
       "    </tr>\n",
       "  </tbody>\n",
       "</table>\n",
       "<p>66 rows × 4 columns</p>\n",
       "</div>"
      ],
      "text/plain": [
       "               model_type  thr  p_imgs_rej         acc\n",
       "0   PromptCap + GoogleOCR  1.0         0.0    8.606174\n",
       "1     PromptCap + EasyOCR  1.0         0.0    7.015903\n",
       "2               PromptCap  1.0         0.0   10.632990\n",
       "3                    ViLT  1.0         0.0    9.510446\n",
       "4                BLIP-VQA  1.0         0.0   15.840349\n",
       "..                    ...  ...         ...         ...\n",
       "60  PromptCap + GoogleOCR  0.0       100.0  100.000000\n",
       "61    PromptCap + EasyOCR  0.0       100.0  100.000000\n",
       "62              PromptCap  0.0       100.0  100.000000\n",
       "63                   ViLT  0.0       100.0  100.000000\n",
       "65              BLIP2-VQA  0.0       100.0  100.000000\n",
       "\n",
       "[66 rows x 4 columns]"
      ]
     },
     "execution_count": 21,
     "metadata": {},
     "output_type": "execute_result"
    }
   ],
   "source": [
    "df.sort_values('p_imgs_rej', ascending=True)"
   ]
  },
  {
   "cell_type": "markdown",
   "id": "a90a412c-c338-4d37-9184-aadf4c74b0f0",
   "metadata": {},
   "source": [
    "**Visualization** "
   ]
  },
  {
   "cell_type": "code",
   "execution_count": 22,
   "id": "c29db46b-ad64-41a1-9d3d-6589a346dd8f",
   "metadata": {},
   "outputs": [
    {
     "data": {
      "image/png": "[encoded data removed]",
      "text/plain": [
       "<Figure size 700x400 with 1 Axes>"
      ]
     },
     "metadata": {},
     "output_type": "display_data"
    }
   ],
   "source": [
    "df = df[df[\"acc\"] != 100.]\n",
    "\n",
    "plt.figure(figsize=(7,4))\n",
    "for typ in get_model_types(model_output_data)[:-1]:\n",
    "    try:\n",
    "        typ = map_type[typ]\n",
    "    except:\n",
    "        typ = typ\n",
    "    data = df[df[\"model_type\"] == typ].sort_values('p_imgs_rej')\n",
    "\n",
    "    plt.plot(data[\"p_imgs_rej\"].tolist(),\n",
    "            data[\"acc\"].tolist(), label=typ)\n",
    "    plt.legend(loc='upper center', bbox_to_anchor=(0.5, -0.2),\n",
    "          fancybox=True, shadow=True, ncol=5, fontsize=7)\n",
    "    plt.xlabel(\"Percentage of rejected images\")\n",
    "    plt.ylabel(\"Accuracy (%)\")\n",
    "plt.title(\"VQA models accuracies using a multiclass filtering model\")\n",
    "plt.show()"
   ]
  },
  {
   "cell_type": "code",
   "execution_count": 23,
   "id": "4aeca6ff-1fff-4ce7-b308-00f64bef84e0",
   "metadata": {},
   "outputs": [],
   "source": [
    "def calculate_df(model):\n",
    "    cdata = {\"model_type\": [],\n",
    "                      \"acc\": [],\n",
    "                   \"acc_w_blur_model\": []\n",
    "            }\n",
    "                #\"acc_imprv\" : []}\n",
    "\n",
    "    thr = 0.1\n",
    "    filt_data = get_clear_images(model_output_data, (model, device, thr), multiclass=multiclass)\n",
    "\n",
    "    for typ in get_model_types(model_output_data)[:-1]:\n",
    "        res = evaluate_acc_promptcap(model_output_data, typ)\n",
    "        res_filt = evaluate_acc_promptcap(filt_data, typ)\n",
    "        try:\n",
    "            model_type = map_type[typ]\n",
    "        except:\n",
    "            model_type = typ\n",
    "        acc = (sum(res) / len(res)) * 100\n",
    "        accwflaw = (sum(res_filt) / len(res_filt)) * 100\n",
    "        cdata[\"model_type\"].append(model_type)\n",
    "        cdata[\"acc\"].append(acc)\n",
    "        cdata[\"acc_w_blur_model\"].append(accwflaw)\n",
    "        #cdata[\"acc_imprv\"].append(accwflaw - acc)\n",
    "        \n",
    "    return pd.DataFrame.from_dict(cdata)"
   ]
  },
  {
   "cell_type": "markdown",
   "id": "b0954605-a4f1-48d8-81af-1042c4099341",
   "metadata": {},
   "source": [
    "Accuries comparison"
   ]
  },
  {
   "cell_type": "code",
   "execution_count": 24,
   "id": "a675c275-bbd1-44dd-bb09-36b449493a43",
   "metadata": {},
   "outputs": [
    {
     "name": "stdout",
     "output_type": "stream",
     "text": [
      "Finshed Percent: [##############------] 67% "
     ]
    },
    {
     "data": {
      "text/html": [
       "<div>\n",
       "<style scoped>\n",
       "    .dataframe tbody tr th:only-of-type {\n",
       "        vertical-align: middle;\n",
       "    }\n",
       "\n",
       "    .dataframe tbody tr th {\n",
       "        vertical-align: top;\n",
       "    }\n",
       "\n",
       "    .dataframe thead th {\n",
       "        text-align: right;\n",
       "    }\n",
       "</style>\n",
       "<table border=\"1\" class=\"dataframe\">\n",
       "  <thead>\n",
       "    <tr style=\"text-align: right;\">\n",
       "      <th></th>\n",
       "      <th>model_type</th>\n",
       "      <th>acc</th>\n",
       "      <th>acc_w_blur_model</th>\n",
       "    </tr>\n",
       "  </thead>\n",
       "  <tbody>\n",
       "    <tr>\n",
       "      <th>0</th>\n",
       "      <td>PromptCap + GoogleOCR</td>\n",
       "      <td>8.606174</td>\n",
       "      <td>8.783784</td>\n",
       "    </tr>\n",
       "    <tr>\n",
       "      <th>1</th>\n",
       "      <td>PromptCap + EasyOCR</td>\n",
       "      <td>7.015903</td>\n",
       "      <td>9.009009</td>\n",
       "    </tr>\n",
       "    <tr>\n",
       "      <th>2</th>\n",
       "      <td>PromptCap</td>\n",
       "      <td>10.632990</td>\n",
       "      <td>11.599099</td>\n",
       "    </tr>\n",
       "    <tr>\n",
       "      <th>3</th>\n",
       "      <td>ViLT</td>\n",
       "      <td>9.510446</td>\n",
       "      <td>8.896396</td>\n",
       "    </tr>\n",
       "    <tr>\n",
       "      <th>4</th>\n",
       "      <td>BLIP-VQA</td>\n",
       "      <td>15.840349</td>\n",
       "      <td>16.779279</td>\n",
       "    </tr>\n",
       "    <tr>\n",
       "      <th>5</th>\n",
       "      <td>BLIP2-VQA</td>\n",
       "      <td>17.212348</td>\n",
       "      <td>19.369369</td>\n",
       "    </tr>\n",
       "  </tbody>\n",
       "</table>\n",
       "</div>"
      ],
      "text/plain": [
       "              model_type        acc  acc_w_blur_model\n",
       "0  PromptCap + GoogleOCR   8.606174          8.783784\n",
       "1    PromptCap + EasyOCR   7.015903          9.009009\n",
       "2              PromptCap  10.632990         11.599099\n",
       "3                   ViLT   9.510446          8.896396\n",
       "4               BLIP-VQA  15.840349         16.779279\n",
       "5              BLIP2-VQA  17.212348         19.369369"
      ]
     },
     "execution_count": 24,
     "metadata": {},
     "output_type": "execute_result"
    }
   ],
   "source": [
    "df_c = calculate_df(model)\n",
    "df_c"
   ]
  },
  {
   "cell_type": "markdown",
   "id": "08627a56-4cb2-4cd1-885b-015641e99963",
   "metadata": {},
   "source": [
    "## Models improvement"
   ]
  },
  {
   "cell_type": "code",
   "execution_count": 25,
   "id": "1d3360e5-513a-4ea8-8584-6b39bf8eb3f4",
   "metadata": {},
   "outputs": [
    {
     "data": {
      "image/png": "[encoded data removed]",
      "text/plain": [
       "<Figure size 640x480 with 1 Axes>"
      ]
     },
     "metadata": {},
     "output_type": "display_data"
    }
   ],
   "source": [
    "# importing package\n",
    "import matplotlib.pyplot as plt\n",
    "import numpy as np\n",
    "import pandas as pd\n",
    "\n",
    "# plot data in stack manner of bar type\n",
    "df_c.plot(x='model_type', kind='bar', stacked=False, title='')\n",
    "plt.show()\n"
   ]
  },
  {
   "cell_type": "code",
   "execution_count": 26,
   "id": "175f960f-c923-492c-afc9-969482384569",
   "metadata": {},
   "outputs": [],
   "source": [
    "# Average model improvement across all models\n",
    "#mean = (df_c[\"acc_w_blur_model\"].mean() + df_c[\"acc\"].mean()) / 2\n",
    "#avg_imp = (df_c[\"acc_imprv\"].mean() / mean) * 100\n",
    "#avg_imp"
   ]
  },
  {
   "cell_type": "code",
   "execution_count": 27,
   "id": "085e3dc4-7872-4292-8ca3-d1c3009116b7",
   "metadata": {},
   "outputs": [
    {
     "name": "stdout",
     "output_type": "stream",
     "text": [
      "Finshed Percent: [##############------] 67% "
     ]
    },
    {
     "name": "stderr",
     "output_type": "stream",
     "text": [
      "/tmp/ipykernel_6270/1578488093.py:35: UserWarning: Implicit dimension choice for softmax has been deprecated. Change the call to include dim=X as an argument.\n",
      "  pred = F.softmax(outputs.data).cpu().detach().numpy()[0][0] # value of class0 (clear)\n"
     ]
    },
    {
     "name": "stdout",
     "output_type": "stream",
     "text": [
      "Finshed Percent: [##################--] 91% "
     ]
    }
   ],
   "source": [
    "model_classes = [\"BLR\", \"FRM\", \"MC\"]\n",
    "     \n",
    "c = []\n",
    "for mc in model_classes:\n",
    "    # Load and prepare filtering model\n",
    "    num_classes = 1 if mc in [\"BLR\", \"FRM\"] else 4\n",
    "    multiclass = True if num_classes > 1 else False\n",
    "    model_path = f'../outputs/best_{mc}_convnext.pth'\n",
    "    model = initialize_model(model_path, num_classes)\n",
    "    model_params = (model, device)\n",
    "    thr = 0.1\n",
    "    \n",
    "    # Filter data\n",
    "    filt_data = get_clear_images(model_output_data, (model, device, thr), multiclass=multiclass)\n",
    "    # Create df with results\n",
    "    df_c = calculate_df(model)\n",
    "\n",
    "    vqa_model_acc_w_improv = ((df_c[\"acc_w_blur_model\"] - df_c[\"acc\"]) / (df_c[\"acc\"])) * 100\n",
    "    \n",
    "    df_c[\"model_class\"] = mc\n",
    "    df_c[\"vqa_model_acc_w_improv\"] = vqa_model_acc_w_improv\n",
    "    df_c.set_index('model_class', inplace=True)\n",
    "    c.append(df_c)\n",
    "    \n",
    "df_f = pd.concat(c)"
   ]
  },
  {
   "cell_type": "code",
   "execution_count": 28,
   "id": "2baa8196-fe1f-497c-92eb-b52a548eac56",
   "metadata": {},
   "outputs": [],
   "source": [
    "#df_m = pd.DataFrame.from_dict(df_f)\n",
    "#df_m.set_index('model_class', inplace=True)\n",
    "#df_m.plot(x='model_type', kind='bar', stacked=False, title='')\n",
    "#plt.show()\n",
    "#df_m"
   ]
  },
  {
   "cell_type": "markdown",
   "id": "933356c2-7e4c-4461-90da-6202b77c33dc",
   "metadata": {},
   "source": [
    "## Models accuracy using Vision Language Models with context"
   ]
  },
  {
   "cell_type": "markdown",
   "id": "89af1525-d7f4-450e-9872-0cd96a012f79",
   "metadata": {},
   "source": [
    "Can a visual language model (BLIP2-VQA) "
   ]
  },
  {
   "cell_type": "code",
   "execution_count": 29,
   "id": "f0041e33-ce7b-4b40-82a7-8f5f560b9131",
   "metadata": {},
   "outputs": [
    {
     "name": "stdout",
     "output_type": "stream",
     "text": [
      "Finshed Percent: [##################--] 91% "
     ]
    },
    {
     "data": {
      "text/html": [
       "<div>\n",
       "<style scoped>\n",
       "    .dataframe tbody tr th:only-of-type {\n",
       "        vertical-align: middle;\n",
       "    }\n",
       "\n",
       "    .dataframe tbody tr th {\n",
       "        vertical-align: top;\n",
       "    }\n",
       "\n",
       "    .dataframe thead th {\n",
       "        text-align: right;\n",
       "    }\n",
       "</style>\n",
       "<table border=\"1\" class=\"dataframe\">\n",
       "  <thead>\n",
       "    <tr style=\"text-align: right;\">\n",
       "      <th></th>\n",
       "      <th>model_type</th>\n",
       "      <th>acc</th>\n",
       "      <th>acc_w_blur_model</th>\n",
       "      <th>vqa_model_acc_w_improv</th>\n",
       "    </tr>\n",
       "    <tr>\n",
       "      <th>model_class</th>\n",
       "      <th></th>\n",
       "      <th></th>\n",
       "      <th></th>\n",
       "      <th></th>\n",
       "    </tr>\n",
       "  </thead>\n",
       "  <tbody>\n",
       "    <tr>\n",
       "      <th>BLR</th>\n",
       "      <td>PromptCap + GoogleOCR</td>\n",
       "      <td>8.606174</td>\n",
       "      <td>9.869976</td>\n",
       "      <td>14.684834</td>\n",
       "    </tr>\n",
       "    <tr>\n",
       "      <th>BLR</th>\n",
       "      <td>PromptCap + EasyOCR</td>\n",
       "      <td>7.015903</td>\n",
       "      <td>8.628842</td>\n",
       "      <td>22.989756</td>\n",
       "    </tr>\n",
       "    <tr>\n",
       "      <th>BLR</th>\n",
       "      <td>PromptCap</td>\n",
       "      <td>10.632990</td>\n",
       "      <td>11.524823</td>\n",
       "      <td>8.387409</td>\n",
       "    </tr>\n",
       "    <tr>\n",
       "      <th>BLR</th>\n",
       "      <td>ViLT</td>\n",
       "      <td>9.510446</td>\n",
       "      <td>9.338061</td>\n",
       "      <td>-1.812580</td>\n",
       "    </tr>\n",
       "    <tr>\n",
       "      <th>BLR</th>\n",
       "      <td>BLIP-VQA</td>\n",
       "      <td>15.840349</td>\n",
       "      <td>16.962175</td>\n",
       "      <td>7.082077</td>\n",
       "    </tr>\n",
       "    <tr>\n",
       "      <th>BLR</th>\n",
       "      <td>BLIP2-VQA</td>\n",
       "      <td>17.212348</td>\n",
       "      <td>17.907801</td>\n",
       "      <td>4.040433</td>\n",
       "    </tr>\n",
       "    <tr>\n",
       "      <th>FRM</th>\n",
       "      <td>PromptCap + GoogleOCR</td>\n",
       "      <td>8.606174</td>\n",
       "      <td>8.783784</td>\n",
       "      <td>2.063749</td>\n",
       "    </tr>\n",
       "    <tr>\n",
       "      <th>FRM</th>\n",
       "      <td>PromptCap + EasyOCR</td>\n",
       "      <td>7.015903</td>\n",
       "      <td>9.009009</td>\n",
       "      <td>28.408408</td>\n",
       "    </tr>\n",
       "    <tr>\n",
       "      <th>FRM</th>\n",
       "      <td>PromptCap</td>\n",
       "      <td>10.632990</td>\n",
       "      <td>11.599099</td>\n",
       "      <td>9.085955</td>\n",
       "    </tr>\n",
       "    <tr>\n",
       "      <th>FRM</th>\n",
       "      <td>ViLT</td>\n",
       "      <td>9.510446</td>\n",
       "      <td>8.896396</td>\n",
       "      <td>-6.456580</td>\n",
       "    </tr>\n",
       "    <tr>\n",
       "      <th>FRM</th>\n",
       "      <td>BLIP-VQA</td>\n",
       "      <td>15.840349</td>\n",
       "      <td>16.779279</td>\n",
       "      <td>5.927458</td>\n",
       "    </tr>\n",
       "    <tr>\n",
       "      <th>FRM</th>\n",
       "      <td>BLIP2-VQA</td>\n",
       "      <td>17.212348</td>\n",
       "      <td>19.369369</td>\n",
       "      <td>12.531825</td>\n",
       "    </tr>\n",
       "    <tr>\n",
       "      <th>MC</th>\n",
       "      <td>PromptCap + GoogleOCR</td>\n",
       "      <td>8.606174</td>\n",
       "      <td>8.571429</td>\n",
       "      <td>-0.403727</td>\n",
       "    </tr>\n",
       "    <tr>\n",
       "      <th>MC</th>\n",
       "      <td>PromptCap + EasyOCR</td>\n",
       "      <td>7.015903</td>\n",
       "      <td>7.238095</td>\n",
       "      <td>3.166984</td>\n",
       "    </tr>\n",
       "    <tr>\n",
       "      <th>MC</th>\n",
       "      <td>PromptCap</td>\n",
       "      <td>10.632990</td>\n",
       "      <td>10.857143</td>\n",
       "      <td>2.108085</td>\n",
       "    </tr>\n",
       "    <tr>\n",
       "      <th>MC</th>\n",
       "      <td>ViLT</td>\n",
       "      <td>9.510446</td>\n",
       "      <td>9.561905</td>\n",
       "      <td>0.541077</td>\n",
       "    </tr>\n",
       "    <tr>\n",
       "      <th>MC</th>\n",
       "      <td>BLIP-VQA</td>\n",
       "      <td>15.840349</td>\n",
       "      <td>16.838095</td>\n",
       "      <td>6.298763</td>\n",
       "    </tr>\n",
       "    <tr>\n",
       "      <th>MC</th>\n",
       "      <td>BLIP2-VQA</td>\n",
       "      <td>17.212348</td>\n",
       "      <td>16.952381</td>\n",
       "      <td>-1.510352</td>\n",
       "    </tr>\n",
       "    <tr>\n",
       "      <th>VQA-CTX</th>\n",
       "      <td>BLIP2-VQA</td>\n",
       "      <td>17.212348</td>\n",
       "      <td>17.752381</td>\n",
       "      <td>3.137474</td>\n",
       "    </tr>\n",
       "  </tbody>\n",
       "</table>\n",
       "</div>"
      ],
      "text/plain": [
       "                        model_type        acc  acc_w_blur_model  \\\n",
       "model_class                                                       \n",
       "BLR          PromptCap + GoogleOCR   8.606174          9.869976   \n",
       "BLR            PromptCap + EasyOCR   7.015903          8.628842   \n",
       "BLR                      PromptCap  10.632990         11.524823   \n",
       "BLR                           ViLT   9.510446          9.338061   \n",
       "BLR                       BLIP-VQA  15.840349         16.962175   \n",
       "BLR                      BLIP2-VQA  17.212348         17.907801   \n",
       "FRM          PromptCap + GoogleOCR   8.606174          8.783784   \n",
       "FRM            PromptCap + EasyOCR   7.015903          9.009009   \n",
       "FRM                      PromptCap  10.632990         11.599099   \n",
       "FRM                           ViLT   9.510446          8.896396   \n",
       "FRM                       BLIP-VQA  15.840349         16.779279   \n",
       "FRM                      BLIP2-VQA  17.212348         19.369369   \n",
       "MC           PromptCap + GoogleOCR   8.606174          8.571429   \n",
       "MC             PromptCap + EasyOCR   7.015903          7.238095   \n",
       "MC                       PromptCap  10.632990         10.857143   \n",
       "MC                            ViLT   9.510446          9.561905   \n",
       "MC                        BLIP-VQA  15.840349         16.838095   \n",
       "MC                       BLIP2-VQA  17.212348         16.952381   \n",
       "VQA-CTX                  BLIP2-VQA  17.212348         17.752381   \n",
       "\n",
       "             vqa_model_acc_w_improv  \n",
       "model_class                          \n",
       "BLR                       14.684834  \n",
       "BLR                       22.989756  \n",
       "BLR                        8.387409  \n",
       "BLR                       -1.812580  \n",
       "BLR                        7.082077  \n",
       "BLR                        4.040433  \n",
       "FRM                        2.063749  \n",
       "FRM                       28.408408  \n",
       "FRM                        9.085955  \n",
       "FRM                       -6.456580  \n",
       "FRM                        5.927458  \n",
       "FRM                       12.531825  \n",
       "MC                        -0.403727  \n",
       "MC                         3.166984  \n",
       "MC                         2.108085  \n",
       "MC                         0.541077  \n",
       "MC                         6.298763  \n",
       "MC                        -1.510352  \n",
       "VQA-CTX                    3.137474  "
      ]
     },
     "execution_count": 29,
     "metadata": {},
     "output_type": "execute_result"
    }
   ],
   "source": [
    "res_blip2 = evaluate_acc_promptcap(model_output_data, \"BLIP2-VQA\")\n",
    "res_blip2_ctx = evaluate_acc_promptcap(filt_data, \"BLIP2-CTX-VQA\")\n",
    "\n",
    "acc_blip2 = (sum(res_blip2) / len(res_blip2)) * 100\n",
    "acc_blip2_ctx = (sum(res_blip2_ctx) / len(res_blip2_ctx)) * 100\n",
    "\n",
    "df_f.loc[\"VQA-CTX\", \"model_type\"] = \"BLIP2-VQA\"\n",
    "df_f.loc[\"VQA-CTX\", \"acc\"] = acc_blip2\n",
    "df_f.loc[\"VQA-CTX\", \"acc_w_blur_model\"] = acc_blip2_ctx # BLIP2-CTX-VQA acc\n",
    "df_f.loc[\"VQA-CTX\", \"vqa_model_acc_w_improv\"] = ((acc_blip2_ctx - acc_blip2) / acc_blip2) * 100\n",
    "df_f"
   ]
  },
  {
   "cell_type": "code",
   "execution_count": 30,
   "id": "4da2547c-9bd4-4681-ac31-621fdfa9cc80",
   "metadata": {},
   "outputs": [
    {
     "name": "stderr",
     "output_type": "stream",
     "text": [
      "/tmp/ipykernel_6270/1205325008.py:6: FutureWarning: The default value of numeric_only in DataFrameGroupBy.mean is deprecated. In a future version, numeric_only will default to False. Either specify numeric_only or select only columns which should be valid for the function.\n",
      "  means = df_f.groupby(\"model_class\").mean()[\"vqa_model_acc_w_improv\"].to_numpy()\n",
      "/tmp/ipykernel_6270/1205325008.py:7: FutureWarning: The default value of numeric_only in DataFrameGroupBy.std is deprecated. In a future version, numeric_only will default to False. Either specify numeric_only or select only columns which should be valid for the function.\n",
      "  std = df_f.groupby(\"model_class\").std()[\"vqa_model_acc_w_improv\"].to_numpy()\n",
      "/tmp/ipykernel_6270/1205325008.py:22: UserWarning: FixedFormatter should only be used together with FixedLocator\n",
      "  ax.set_xticklabels(labels)\n"
     ]
    },
    {
     "data": {
      "image/png": "[encoded data removed]",
      "text/plain": [
       "<Figure size 640x480 with 1 Axes>"
      ]
     },
     "metadata": {},
     "output_type": "display_data"
    }
   ],
   "source": [
    "import matplotlib.pyplot as plt\n",
    "import numpy as np\n",
    "\n",
    "mins = df_f.groupby(\"model_class\").min()[\"vqa_model_acc_w_improv\"].to_numpy()\n",
    "maxes = df_f.groupby(\"model_class\").max()[\"vqa_model_acc_w_improv\"].to_numpy()\n",
    "means = df_f.groupby(\"model_class\").mean()[\"vqa_model_acc_w_improv\"].to_numpy()\n",
    "std = df_f.groupby(\"model_class\").std()[\"vqa_model_acc_w_improv\"].to_numpy()\n",
    "\n",
    "# create stacked errorbars:\n",
    "fig, ax = plt.subplots()\n",
    "#ax.errorbar(np.arange(len(mins)), means, std, fmt='ok', lw=3)\n",
    "ax.errorbar(np.arange(len(mins)), means, [means - mins, maxes - means],\n",
    "             fmt='.k', ecolor='green', lw=2)\n",
    "ax.set_title(\"Accuracy improvement across models for every approach\")\n",
    "\n",
    "labels = ['' for item in ax.get_xticklabels()]\n",
    "labels[1] = \"Blur\"\n",
    "labels[3] = \"Out of frame\"\n",
    "labels[5] = \"Multi-class\"\n",
    "labels[7] = \"VQA-CTX\"\n",
    "\n",
    "ax.set_xticklabels(labels)\n",
    "ax.set_xlabel('Model approach', fontsize=11)\n",
    "ax.set_ylabel('Accuracy improvement (%)', fontsize=11)\n",
    "plt.show()"
   ]
  }
 ],
 "metadata": {
  "kernelspec": {
   "display_name": "tfg env",
   "language": "python",
   "name": "env"
  },
  "language_info": {
   "codemirror_mode": {
    "name": "ipython",
    "version": 3
   },
   "file_extension": ".py",
   "mimetype": "text/x-python",
   "name": "python",
   "nbconvert_exporter": "python",
   "pygments_lexer": "ipython3",
   "version": "3.10.6"
  }
 },
 "nbformat": 4,
 "nbformat_minor": 5
}
