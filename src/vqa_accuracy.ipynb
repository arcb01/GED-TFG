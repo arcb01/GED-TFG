{
 "cells": [
  {
   "cell_type": "markdown",
   "id": "4e88b10d-c975-4e46-a20b-b0b7ede80a8b",
   "metadata": {},
   "source": [
    "# VQA model accuracy"
   ]
  },
  {
   "cell_type": "code",
   "execution_count": 1,
   "id": "12bf7b7f-eb81-43af-aecb-e51072f7222a",
   "metadata": {},
   "outputs": [
    {
     "name": "stdout",
     "output_type": "stream",
     "text": [
      "PyTorch Version:  1.13.1+cu117\n",
      "Torchvision Version:  0.14.1+cu117\n",
      "cuda:0\n"
     ]
    }
   ],
   "source": [
    "from __future__ import print_function \n",
    "from __future__ import division\n",
    "import torch\n",
    "import torch.nn as nn\n",
    "import torch.optim as optim\n",
    "import numpy as np\n",
    "import torchvision\n",
    "from torchvision import datasets, models, transforms\n",
    "from torch.utils.data import Dataset, DataLoader\n",
    "import json\n",
    "import matplotlib.pyplot as plt\n",
    "from PIL import Image\n",
    "import time\n",
    "import re, sys\n",
    "import os\n",
    "import copy\n",
    "import io\n",
    "print(\"PyTorch Version: \",torch.__version__)\n",
    "print(\"Torchvision Version: \",torchvision.__version__)\n",
    "\n",
    "%matplotlib inline\n",
    "\n",
    "\n",
    "# Detect if we have a GPU available\n",
    "device = torch.device(\"cuda:0\" if torch.cuda.is_available() else \"cpu\")\n",
    "print(device)"
   ]
  },
  {
   "cell_type": "markdown",
   "id": "a061b5f7-70b1-4483-8321-e12a0159da30",
   "metadata": {},
   "source": [
    "**Load VizWiz test set data**"
   ]
  },
  {
   "cell_type": "code",
   "execution_count": 2,
   "id": "f90cba26-d99b-4330-be86-a3667c47e754",
   "metadata": {},
   "outputs": [],
   "source": [
    "with open('/media/arnau/PEN/TFG/hf_model_test_res.json', encoding='UTF-8') as jf:\n",
    "    model_output_data = json.load(jf)"
   ]
  },
  {
   "cell_type": "markdown",
   "id": "85079a5f-4dcc-45da-8c6f-c474aa6c56b0",
   "metadata": {},
   "source": [
    "## PromptCap accuracy\n",
    "PromptCap model accuracy evaluated on VizWiz test set"
   ]
  },
  {
   "cell_type": "code",
   "execution_count": 3,
   "id": "95746072-67d2-4a1c-9f25-a5d27158da48",
   "metadata": {},
   "outputs": [
    {
     "name": "stdout",
     "output_type": "stream",
     "text": [
      "vqascore/promptcap-coco-vqa\n",
      "<super: <class 'OFATokenizer'>, <OFATokenizer object>>\n"
     ]
    },
    {
     "name": "stderr",
     "output_type": "stream",
     "text": [
      "/home/arnau/tfg/GED-TFG/env/lib/python3.10/site-packages/torch/functional.py:504: UserWarning: torch.meshgrid: in an upcoming release, it will be required to pass the indexing argument. (Triggered internally at ../aten/src/ATen/native/TensorShape.cpp:3190.)\n",
      "  return _VF.meshgrid(tensors, **kwargs)  # type: ignore[attr-defined]\n"
     ]
    }
   ],
   "source": [
    "import torch\n",
    "from promptcap import PromptCap\n",
    "\n",
    "model = PromptCap(\"vqascore/promptcap-coco-vqa\")  # also support OFA checkpoints. e.g. \"OFA-Sys/ofa-large\"\n",
    "\n",
    "if torch.cuda.is_available():\n",
    "    model.cuda()"
   ]
  },
  {
   "cell_type": "markdown",
   "id": "f60c6402-d522-4d73-9fa8-2813c070d344",
   "metadata": {
    "jp-MarkdownHeadingCollapsed": true,
    "tags": []
   },
   "source": [
    "### Helper functions"
   ]
  },
  {
   "cell_type": "code",
   "execution_count": 4,
   "id": "9f0bcb0e-b174-476b-a9cf-7639bea3b4a9",
   "metadata": {},
   "outputs": [],
   "source": [
    "def remove_periods(q):\n",
    "    \n",
    "    outText = q\n",
    "    puncts = [';', r\"/\", '[', ']', '\"', '{', '}',\n",
    "                                 '(', ')', '=', '+', '\\\\', '_', '-',\n",
    "                                 '>', '<', '@', '`', ',', '?', '!']\n",
    "    comma_strip = re.compile(\"(\\d)(\\,)(\\d)\")\n",
    "    periodStrip  = re.compile(\"(?!<=\\d)(\\.)(?!\\d)\")\n",
    "    for p in puncts:\n",
    "        if (p + ' ' in q or ' ' + p in q) or (re.search(comma_strip, q) != None):\n",
    "            outText = outText.replace(p, '')\n",
    "        else:\n",
    "            outText = outText.replace(p, ' ')\n",
    "            outText = periodStrip.sub(\"\",\n",
    "                                           outText,\n",
    "                                           re.UNICODE)\n",
    "    return outText"
   ]
  },
  {
   "cell_type": "code",
   "execution_count": 5,
   "id": "c5f9e30c-22f0-4d65-95e3-1434664d9dba",
   "metadata": {},
   "outputs": [],
   "source": [
    "\n",
    "\n",
    "def num_words_to_digit(q):\n",
    "    \n",
    "    outText = []\n",
    "    tempText = q.lower().split()\n",
    "    manualMap  = { 'none': '0',\n",
    "                    'zero': '0',\n",
    "                    'one': '1',\n",
    "                     'two': '2',\n",
    "                     'three': '3',\n",
    "                     'four': '4',\n",
    "                     'five': '5',\n",
    "                     'six': '6',\n",
    "                     'seven': '7',\n",
    "                     'eight': '8',\n",
    "                     'nine': '9',\n",
    "                     'ten': '10'}\n",
    "    articles     = ['a',\n",
    "                             'an',\n",
    "                             'the'\n",
    "                    ]\n",
    "    contractions = {\"aint\": \"ain't\", \"arent\": \"aren't\", \"cant\": \"can't\", \"couldve\": \"could've\", \"couldnt\": \"couldn't\", \\\n",
    "                            \"couldn'tve\": \"couldn't've\", \"couldnt've\": \"couldn't've\", \"didnt\": \"didn't\", \"doesnt\": \"doesn't\", \"dont\": \"don't\", \"hadnt\": \"hadn't\", \\\n",
    "                            \"hadnt've\": \"hadn't've\", \"hadn'tve\": \"hadn't've\", \"hasnt\": \"hasn't\", \"havent\": \"haven't\", \"hed\": \"he'd\", \"hed've\": \"he'd've\", \\\n",
    "                            \"he'dve\": \"he'd've\", \"hes\": \"he's\", \"howd\": \"how'd\", \"howll\": \"how'll\", \"hows\": \"how's\", \"Id've\": \"I'd've\", \"I'dve\": \"I'd've\", \\\n",
    "                            \"Im\": \"I'm\", \"Ive\": \"I've\", \"isnt\": \"isn't\", \"itd\": \"it'd\", \"itd've\": \"it'd've\", \"it'dve\": \"it'd've\", \"itll\": \"it'll\", \"let's\": \"let's\", \\\n",
    "                            \"maam\": \"ma'am\", \"mightnt\": \"mightn't\", \"mightnt've\": \"mightn't've\", \"mightn'tve\": \"mightn't've\", \"mightve\": \"might've\", \\\n",
    "                            \"mustnt\": \"mustn't\", \"mustve\": \"must've\", \"neednt\": \"needn't\", \"notve\": \"not've\", \"oclock\": \"o'clock\", \"oughtnt\": \"oughtn't\", \\\n",
    "                            \"ow's'at\": \"'ow's'at\", \"'ows'at\": \"'ow's'at\", \"'ow'sat\": \"'ow's'at\", \"shant\": \"shan't\", \"shed've\": \"she'd've\", \"she'dve\": \"she'd've\", \\\n",
    "                            \"she's\": \"she's\", \"shouldve\": \"should've\", \"shouldnt\": \"shouldn't\", \"shouldnt've\": \"shouldn't've\", \"shouldn'tve\": \"shouldn't've\", \\\n",
    "                            \"somebody'd\": \"somebodyd\", \"somebodyd've\": \"somebody'd've\", \"somebody'dve\": \"somebody'd've\", \"somebodyll\": \"somebody'll\", \\\n",
    "                            \"somebodys\": \"somebody's\", \"someoned\": \"someone'd\", \"someoned've\": \"someone'd've\", \"someone'dve\": \"someone'd've\", \\\n",
    "                            \"someonell\": \"someone'll\", \"someones\": \"someone's\", \"somethingd\": \"something'd\", \"somethingd've\": \"something'd've\", \\\n",
    "                            \"something'dve\": \"something'd've\", \"somethingll\": \"something'll\", \"thats\": \"that's\", \"thered\": \"there'd\", \"thered've\": \"there'd've\", \\\n",
    "                            \"there'dve\": \"there'd've\", \"therere\": \"there're\", \"theres\": \"there's\", \"theyd\": \"they'd\", \"theyd've\": \"they'd've\", \\\n",
    "                            \"they'dve\": \"they'd've\", \"theyll\": \"they'll\", \"theyre\": \"they're\", \"theyve\": \"they've\", \"twas\": \"'twas\", \"wasnt\": \"wasn't\", \\\n",
    "                            \"wed've\": \"we'd've\", \"we'dve\": \"we'd've\", \"weve\": \"we've\", \"werent\": \"weren't\", \"whatll\": \"what'll\", \"whatre\": \"what're\", \\\n",
    "                            \"whats\": \"what's\", \"whatve\": \"what've\", \"whens\": \"when's\", \"whered\": \"where'd\", \"wheres\": \"where's\", \"whereve\": \"where've\", \\\n",
    "                            \"whod\": \"who'd\", \"whod've\": \"who'd've\", \"who'dve\": \"who'd've\", \"wholl\": \"who'll\", \"whos\": \"who's\", \"whove\": \"who've\", \"whyll\": \"why'll\", \\\n",
    "                            \"whyre\": \"why're\", \"whys\": \"why's\", \"wont\": \"won't\", \"wouldve\": \"would've\", \"wouldnt\": \"wouldn't\", \"wouldnt've\": \"wouldn't've\", \\\n",
    "                            \"wouldn'tve\": \"wouldn't've\", \"yall\": \"y'all\", \"yall'll\": \"y'all'll\", \"y'allll\": \"y'all'll\", \"yall'd've\": \"y'all'd've\", \\\n",
    "                            \"y'alld've\": \"y'all'd've\", \"y'all'dve\": \"y'all'd've\", \"youd\": \"you'd\", \"youd've\": \"you'd've\", \"you'dve\": \"you'd've\", \\\n",
    "                            \"youll\": \"you'll\", \"youre\": \"you're\", \"youve\": \"you've\"\n",
    "                            }\n",
    "    for word in tempText:\n",
    "        word = manualMap.setdefault(word, word)\n",
    "        if word not in articles:\n",
    "            outText.append(word)\n",
    "        else:\n",
    "            pass\n",
    "\n",
    "    for wordId, word in enumerate(outText):\n",
    "        if word in contractions:\n",
    "            outText[wordId] = contractions[word]\n",
    "    outText = ' '.join(outText)\n",
    "    return outText"
   ]
  },
  {
   "cell_type": "code",
   "execution_count": 6,
   "id": "8c1a1e4a-34de-4424-9c70-53513e90110c",
   "metadata": {},
   "outputs": [],
   "source": [
    "def updateProgress(progress):\n",
    "    \n",
    "    barLength = 20\n",
    "    status = \"\"\n",
    "    if isinstance(progress, int):\n",
    "        progress = float(progress)\n",
    "    if not isinstance(progress, float):\n",
    "        progress = 0\n",
    "        status = \"error: progress var must be float\\r\\n\"\n",
    "    if progress < 0:\n",
    "        progress = 0\n",
    "        status = \"Halt...\\r\\n\"\n",
    "    if progress >= 1:\n",
    "        progress = 1\n",
    "        status = \"Done...\\r\\n\"\n",
    "    block = int(round(barLength*progress))\n",
    "    text = \"\\rFinshed Percent: [{0}] {1}% {2}\".format( \"#\"*block + \"-\"*(barLength-block), int(progress*100), status)\n",
    "    sys.stdout.write(text)\n",
    "    sys.stdout.flush()"
   ]
  },
  {
   "cell_type": "markdown",
   "id": "891890c7-7dec-4199-9ba0-da73929c2a02",
   "metadata": {},
   "source": [
    "### Evaluation"
   ]
  },
  {
   "cell_type": "code",
   "execution_count": 7,
   "id": "44f55e0e-ae3f-412e-a7bb-36eb13b31644",
   "metadata": {},
   "outputs": [],
   "source": [
    "def evaluate_acc_promptcap(model_output_data, model_type):\n",
    "\n",
    "    accQA       = []\n",
    "    step = 0\n",
    "    \n",
    "    data = model_output_data.copy()\n",
    "    \n",
    "    for img, img_info in data.items():\n",
    "        question = img_info[\"question\"]\n",
    "        gtanswers = img_info[\"gt_answers\"]\n",
    "        for ans in gtanswers:\n",
    "            if type(ans['answer']) == str:\n",
    "                ans['answer'] = ans['answer'].replace('\\n', ' ').replace('\\t', ' ').strip().lower()\n",
    "            else:\n",
    "                ans['answer'] = ' '.join(ans['answer'])\n",
    "        resAns = img_info[model_type]\n",
    "        if resAns:\n",
    "            resAns = resAns.replace('\\n', ' ')\n",
    "            resAns = resAns.replace('\\t', ' ')\n",
    "            resAns = resAns.strip()\n",
    "            resAns = resAns.lower()\n",
    "        else:\n",
    "            resAns = ''\n",
    "        gtAcc = []\n",
    "        gtAnswers = [ans[\"answer\"] for ans in gtanswers]\n",
    "\n",
    "        if len(set(gtAnswers)) > 1:\n",
    "            for ans in gtanswers:\n",
    "                if type(ans['answer']) == str:\n",
    "                    ans[\"answer\"] = remove_periods(ans['answer'])\n",
    "                    ans[\"answer\"] = num_words_to_digit(ans['answer'])\n",
    "                else:\n",
    "                    ans[\"answer\"] = remove_periods(' '.join(ans['answer']))\n",
    "                    ans[\"answer\"] = num_words_to_digit(' '.join(ans['answer']))\n",
    "            resAns = remove_periods(resAns)\n",
    "            resAns = num_words_to_digit(resAns)\n",
    "\n",
    "        for ans in gtanswers:\n",
    "            # otherGTAns = [item for item in gtanswers if item!=ans]\n",
    "            matchingAns = [ans for ans in gtanswers if ans['answer'] == resAns]\n",
    "            acc = min(1, float(len(matchingAns))/3)\n",
    "            gtAcc.append(acc)\n",
    "\n",
    "        avgGTAcc = float(sum(gtAcc))/len(gtAcc)\n",
    "        accQA.append(avgGTAcc)\n",
    "\n",
    "        if step%100 == 0:\n",
    "            updateProgress(step/float(len(data.keys())))\n",
    "        step = step + 1\n",
    "    \n",
    "    return accQA\n"
   ]
  },
  {
   "cell_type": "code",
   "execution_count": 8,
   "id": "c1cc814a-923c-4aad-86b5-9c7498a3d795",
   "metadata": {},
   "outputs": [
    {
     "name": "stdout",
     "output_type": "stream",
     "text": [
      "Finshed Percent: [###################-] 93% --> HF_OCR_google_answer: 8.6062%\n",
      "Finshed Percent: [###################-] 93% --> HF_OCR_answer: 7.0159%\n",
      "Finshed Percent: [###################-] 93% --> HF_NON_OCR_answer: 10.6330%\n"
     ]
    }
   ],
   "source": [
    "model_types = [\n",
    "                \"HF_OCR_google_answer\",\n",
    "                \"HF_OCR_answer\",\n",
    "                \"HF_NON_OCR_answer\"\n",
    "                ]\n",
    "default_results = []\n",
    "for typ in model_types:\n",
    "    res = evaluate_acc_promptcap(model_output_data, typ)\n",
    "    acc = (sum(res) / len(res)) * 100\n",
    "    default_results.append((typ, acc))\n",
    "    print(f\"--> {typ}: {acc:.4f}%\")"
   ]
  },
  {
   "cell_type": "markdown",
   "id": "eea52aef-291c-4fc4-881c-9a694fac2304",
   "metadata": {},
   "source": [
    "## PromptCap accuracy using Blur model"
   ]
  },
  {
   "cell_type": "markdown",
   "id": "a962b338-6de5-40a3-a4e9-a86827c5322a",
   "metadata": {},
   "source": [
    "PromptCap accuracy evaluted on VizWiz test set with a prior filtering of blurred images using a custom blur detection model"
   ]
  },
  {
   "cell_type": "code",
   "execution_count": 9,
   "id": "6db8f037-4264-42e5-b86f-6d20bb6ea446",
   "metadata": {},
   "outputs": [],
   "source": [
    "def model_inference(model, img, device):\n",
    "    \n",
    "    trnsfm = {\n",
    "    'val': transforms.Compose([\n",
    "        transforms.Resize((224, 224)),\n",
    "        transforms.ToTensor(),\n",
    "        transforms.Normalize([0.4275, 0.4184, 0.4037], [0.1419, 0.1179, 0.1273])\n",
    "    ])\n",
    "    }\n",
    "    \n",
    "    model.eval()\n",
    "    \n",
    "    if type(img) == str:\n",
    "        test_path = '/media/arnau/PEN/TFG/val/'\n",
    "        img_path = os.path.join(test_path, img)\n",
    "        img = Image.open(img_path)\n",
    "\n",
    "    img = trnsfm[\"val\"](img)\n",
    "    img = img[None, :, :, :] \n",
    "    img = img.to(device)\n",
    "    outputs = model(img)\n",
    "    _, predicted = torch.max(outputs.data, 1)\n",
    "    pred_res = predicted.cpu().detach().numpy().tolist()[0]\n",
    "    \n",
    "    return int(pred_res)\n"
   ]
  },
  {
   "cell_type": "code",
   "execution_count": 10,
   "id": "2ade40e5-7c04-4092-a3c0-1f89c8a67d10",
   "metadata": {},
   "outputs": [],
   "source": [
    "def initialize_model(num_classes=2):\n",
    "    \n",
    "    model = models.convnext_tiny(pretrained=True)\n",
    "    model.fc = nn.Linear(512,num_classes)\n",
    "        \n",
    "    return model"
   ]
  },
  {
   "cell_type": "code",
   "execution_count": 11,
   "id": "0c6a9112-c5c3-4d19-b6c9-e2d2b5c25770",
   "metadata": {},
   "outputs": [
    {
     "name": "stderr",
     "output_type": "stream",
     "text": [
      "/home/arnau/tfg/GED-TFG/env/lib/python3.10/site-packages/torchvision/models/_utils.py:208: UserWarning: The parameter 'pretrained' is deprecated since 0.13 and may be removed in the future, please use 'weights' instead.\n",
      "  warnings.warn(\n",
      "/home/arnau/tfg/GED-TFG/env/lib/python3.10/site-packages/torchvision/models/_utils.py:223: UserWarning: Arguments other than a weight enum or `None` for 'weights' are deprecated since 0.13 and may be removed in the future. The current behavior is equivalent to passing `weights=ConvNeXt_Tiny_Weights.IMAGENET1K_V1`. You can also use `weights=ConvNeXt_Tiny_Weights.DEFAULT` to get the most up-to-date weights.\n",
      "  warnings.warn(msg)\n"
     ]
    }
   ],
   "source": [
    "# GPU device\n",
    "device = torch.device(\"cuda:0\" if torch.cuda.is_available() else \"cpu\")\n",
    "\n",
    "# Load custom blur model\n",
    "save_path = '../outputs/best.pth'\n",
    "model = initialize_model()\n",
    "model.load_state_dict(torch.load(save_path))\n",
    "model = model.to(device)"
   ]
  },
  {
   "cell_type": "code",
   "execution_count": 12,
   "id": "3fe7991f-d9c8-4e66-aa25-f0b11222f4c5",
   "metadata": {},
   "outputs": [],
   "source": [
    "def evaluate_acc_promptcap_blur(model_output_data, model_type, model_params):\n",
    "\n",
    "    accQA = []\n",
    "    step = 0\n",
    "    \n",
    "    data = model_output_data.copy()\n",
    "        \n",
    "    for img, img_info in data.items():\n",
    "        \n",
    "        # Blur model filter\n",
    "        model, device = model_params\n",
    "        blur_detection = model_inference(model, img, device)\n",
    "        if blur_detection == 0:\n",
    "            \n",
    "            question = img_info[\"question\"]\n",
    "            gtanswers = img_info[\"gt_answers\"]\n",
    "            for ans in gtanswers:\n",
    "                if type(ans['answer']) == str:\n",
    "                    ans['answer'] = ans['answer'].replace('\\n', ' ').replace('\\t', ' ').strip().lower()\n",
    "                else:\n",
    "                    ans['answer'] = ' '.join(ans['answer'])\n",
    "            resAns = img_info[model_type]\n",
    "            if resAns:\n",
    "                resAns = resAns.replace('\\n', ' ')\n",
    "                resAns = resAns.replace('\\t', ' ')\n",
    "                resAns = resAns.strip()\n",
    "                resAns = resAns.lower()\n",
    "            else:\n",
    "                resAns = ''\n",
    "            gtAcc = []\n",
    "            gtAnswers = [ans[\"answer\"] for ans in gtanswers]\n",
    "\n",
    "            if len(set(gtAnswers)) > 1:\n",
    "                for ans in gtanswers:\n",
    "                    if type(ans['answer']) == str:\n",
    "                        ans[\"answer\"] = remove_periods(ans['answer'])\n",
    "                        ans[\"answer\"] = num_words_to_digit(ans['answer'])\n",
    "                resAns = remove_periods(resAns)\n",
    "                resAns = num_words_to_digit(resAns)\n",
    "\n",
    "            for ans in gtanswers:\n",
    "                # otherGTAns = [item for item in gtanswers if item!=ans]\n",
    "                matchingAns = [ans for ans in gtanswers if ans['answer'] == resAns]\n",
    "                acc = min(1, float(len(matchingAns))/3)\n",
    "                gtAcc.append(acc)\n",
    "\n",
    "            avgGTAcc = float(sum(gtAcc))/len(gtAcc)\n",
    "            accQA.append(avgGTAcc)\n",
    "\n",
    "            if step%100 == 0:\n",
    "                updateProgress(step/float(len(data.keys())))\n",
    "            step = step + 1\n",
    "    \n",
    "    return accQA\n",
    "\n"
   ]
  },
  {
   "cell_type": "code",
   "execution_count": 16,
   "id": "d438cc65-992f-415a-a055-1db6e69db2c4",
   "metadata": {},
   "outputs": [
    {
     "name": "stdout",
     "output_type": "stream",
     "text": [
      "Finshed Percent: [#########-----------] 46% --> HF_OCR_google_answer: 9.7294%\n",
      "Finshed Percent: [#########-----------] 46% --> HF_OCR_answer: 8.0023%\n",
      "Finshed Percent: [#########-----------] 46% --> HF_NON_OCR_answer: 11.1111%\n"
     ]
    }
   ],
   "source": [
    "model_params = (model, device)\n",
    "blur_results = []\n",
    "\n",
    "for typ in model_types:\n",
    "    res = evaluate_acc_promptcap_blur(model_output_data, typ, model_params)\n",
    "    acc = (sum(res) / len(res)) * 100\n",
    "    blur_results.append((typ, acc)\n",
    "    print(f\"--> {typ}: {acc:.4f}%\")"
   ]
  },
  {
   "cell_type": "markdown",
   "id": "a90a412c-c338-4d37-9184-aadf4c74b0f0",
   "metadata": {},
   "source": [
    "**Visualization** "
   ]
  },
  {
   "cell_type": "code",
   "execution_count": 45,
   "id": "e98d20ba-5ef3-4a86-a420-d0cc43907835",
   "metadata": {},
   "outputs": [
    {
     "data": {
      "image/png": "[encoded data removed]",
      "text/plain": [
       "<Figure size 700x700 with 1 Axes>"
      ]
     },
     "metadata": {},
     "output_type": "display_data"
    }
   ],
   "source": [
    "plt.figure(figsize=(7, 7))\n",
    "plt.scatter(list(np.asarray(blur_results)[:, 0]), np.array(np.asarray(blur_results)[:, 1], dtype=np.float32), label=\"with blur model\")\n",
    "plt.scatter(list(np.asarray(default_results)[:, 0]), np.array(np.asarray(default_results)[:, 1], dtype=np.float32), label=\"Default\")\n",
    "plt.ylim([0, 100])\n",
    "plt.title(\"PromptCap model accuracy\")\n",
    "plt.ylabel(\"Accuracy\")\n",
    "plt.xlabel(\"Model type\")\n",
    "plt.legend()\n",
    "plt.show()"
   ]
  }
 ],
 "metadata": {
  "kernelspec": {
   "display_name": "tfg env",
   "language": "python",
   "name": "env"
  },
  "language_info": {
   "codemirror_mode": {
    "name": "ipython",
    "version": 3
   },
   "file_extension": ".py",
   "mimetype": "text/x-python",
   "name": "python",
   "nbconvert_exporter": "python",
   "pygments_lexer": "ipython3",
   "version": "3.10.6"
  }
 },
 "nbformat": 4,
 "nbformat_minor": 5
}
