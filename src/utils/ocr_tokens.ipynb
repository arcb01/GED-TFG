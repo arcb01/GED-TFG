{
 "cells": [
  {
   "cell_type": "markdown",
   "id": "7e82f044-a688-43e6-97a1-ac4d893f1448",
   "metadata": {},
   "source": [
    "# TFG: Notebbok 2.5\n",
    "Adding OCR tokens to images metadata\n",
    "---"
   ]
  },
  {
   "cell_type": "markdown",
   "id": "d7984f26-5efc-4a6e-9841-388f423ca29d",
   "metadata": {},
   "source": [
    "Given a json file with this structures:\n",
    "\n",
    "```\n",
    "    { \n",
    "        img_filename1 : img_info1,\n",
    "        img_filename2 : img_info2,\n",
    "        ...\n",
    "    }\n",
    "```\n",
    "\n",
    "where `img_info` is a dictionary containing\n",
    "```\n",
    "{\n",
    "    'question': 'Is this furniture polished?',\n",
    "    'answerable': 1.0,\n",
    "    'flaws': [True, False, False, False, False, False, True, False],\n",
    "    'recognizable': 1.0\n",
    "}\n",
    "```"
   ]
  },
  {
   "cell_type": "markdown",
   "id": "a66f4164-6e47-4bcb-8aa4-c7db50e01a27",
   "metadata": {},
   "source": [
    "\n",
    "This notebbok adds OCR tokens to the `img_info` variable for each image.\n",
    "The resulting json will follow this structure:\n",
    "```\n",
    "{ \n",
    "    img_filename1 : {\n",
    "                        'question': 'Is this furniture polished?',\n",
    "                        'answerable': 1.0,\n",
    "                        'flaws': [True, False, False, False, False, False, True, False],\n",
    "                        'recognizable': 1.0,\n",
    "                        'ocr' : []\n",
    "                    },\n",
    "\n",
    "    img_filename2 : {\n",
    "                        'question': 'What is the name of this book?',\n",
    "                        'answerable': 1.0,\n",
    "                        'flaws': [True, False, False, False, False, False, True, False],\n",
    "                        'recognizable': 1.0,\n",
    "                        ocr: []\n",
    "                    },\n",
    "    ...\n",
    "}\n",
    "```\n"
   ]
  },
  {
   "cell_type": "code",
   "execution_count": 16,
   "id": "61b2d7e6-e026-40fd-9b11-95c0eb50d3e2",
   "metadata": {},
   "outputs": [],
   "source": [
    "import json\n",
    "import easyocr\n",
    "import cv2\n",
    "import matplotlib.pyplot as plt\n",
    "import pprint"
   ]
  },
  {
   "cell_type": "markdown",
   "id": "f0687af8-2fc7-4afa-a7ca-2dba3fc897a3",
   "metadata": {},
   "source": [
    "Read the json file. This file contains images that have text in it."
   ]
  },
  {
   "cell_type": "code",
   "execution_count": 2,
   "id": "fb9a07d8-7da8-444a-bb61-037745d7a4f8",
   "metadata": {},
   "outputs": [],
   "source": [
    "with open('../data/imgs_w_txt.json') as user_file:\n",
    "    j_imgs_w_txt = json.load(user_file)"
   ]
  },
  {
   "cell_type": "markdown",
   "id": "4d27ac6c-c0b4-46ff-a27b-8d5915d11741",
   "metadata": {},
   "source": [
    "For every image containing text, extract OCR tokens and add them to the previous json image metadata file. Save this data to a new json file."
   ]
  },
  {
   "cell_type": "code",
   "execution_count": 44,
   "id": "8e97bc20-7d5a-48f4-9140-e7734a1703f8",
   "metadata": {},
   "outputs": [
    {
     "name": "stdout",
     "output_type": "stream",
     "text": [
      "CPU times: user 25min 10s, sys: 33.5 s, total: 25min 43s\n",
      "Wall time: 22min 31s\n"
     ]
    }
   ],
   "source": [
    "%%time\n",
    "\n",
    "imgs_w_txt_ocr = j_imgs_w_txt.copy()\n",
    "imgs_dir = '/media/arnau/PEN/TFG/train/'\n",
    "reader = easyocr.Reader(['en'], gpu=True)\n",
    "\n",
    "for img, img_info in imgs_w_txt_ocr.items():\n",
    "    ocr_result = reader.readtext(imgs_dir + img, detail = 0)\n",
    "    img_info[\"ocr\"] = ocr_result\n",
    "    imgs_w_txt_ocr[img] = img_info\n",
    "    \n",
    "with open('../data/imgs_w_txt_ocr.json', 'w') as outfile:\n",
    "    json.dump(imgs_w_txt_ocr, outfile)"
   ]
  }
 ],
 "metadata": {
  "kernelspec": {
   "display_name": "tfg env",
   "language": "python",
   "name": "env"
  },
  "language_info": {
   "codemirror_mode": {
    "name": "ipython",
    "version": 3
   },
   "file_extension": ".py",
   "mimetype": "text/x-python",
   "name": "python",
   "nbconvert_exporter": "python",
   "pygments_lexer": "ipython3",
   "version": "3.10.6"
  }
 },
 "nbformat": 4,
 "nbformat_minor": 5
}
