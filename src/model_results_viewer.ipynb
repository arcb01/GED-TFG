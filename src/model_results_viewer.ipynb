{
 "cells": [
  {
   "cell_type": "markdown",
   "id": "18877da6-7bff-4734-bbe5-6eb67a074511",
   "metadata": {},
   "source": [
    "# Model results viewer"
   ]
  },
  {
   "cell_type": "code",
   "execution_count": 1,
   "id": "bfa07d25-767a-497b-a249-f9d633a234f0",
   "metadata": {},
   "outputs": [
    {
     "name": "stdout",
     "output_type": "stream",
     "text": [
      "PyTorch Version:  1.13.1+cu117\n",
      "Torchvision Version:  0.14.1+cu117\n",
      "cuda:0\n"
     ]
    }
   ],
   "source": [
    "from __future__ import print_function \n",
    "from __future__ import division\n",
    "import torch\n",
    "import torch.nn as nn\n",
    "import torch.optim as optim\n",
    "import numpy as np\n",
    "import pickle\n",
    "import torchvision\n",
    "from torchvision import datasets, models, transforms\n",
    "from torch.utils.data import Dataset, DataLoader\n",
    "from torchsampler import ImbalancedDatasetSampler\n",
    "from focal_loss.focal_loss import FocalLoss\n",
    "import json\n",
    "import matplotlib.pyplot as plt\n",
    "from PIL import Image\n",
    "import time\n",
    "import os\n",
    "import random\n",
    "import copy\n",
    "import io\n",
    "import cv2\n",
    "from utils.model_utils import *\n",
    "print(\"PyTorch Version: \",torch.__version__)\n",
    "print(\"Torchvision Version: \",torchvision.__version__)\n",
    "\n",
    "%matplotlib inline\n",
    "\n",
    "\n",
    "# Detect if we have a GPU available\n",
    "device = torch.device(\"cuda:0\" if torch.cuda.is_available() else \"cpu\")\n",
    "print(device)"
   ]
  },
  {
   "cell_type": "markdown",
   "id": "686ff188-d956-44f5-a6a5-a3a4a80d6806",
   "metadata": {},
   "source": [
    "**Load images data**"
   ]
  },
  {
   "cell_type": "code",
   "execution_count": 2,
   "id": "717c3699-c82b-4701-93d2-bcc90864235b",
   "metadata": {},
   "outputs": [],
   "source": [
    "flaw = \"FLW\""
   ]
  },
  {
   "cell_type": "code",
   "execution_count": 3,
   "id": "91956686-0457-47c1-b551-d541a818486c",
   "metadata": {},
   "outputs": [],
   "source": [
    "# Data path\n",
    "file = f'../data/vw_{flaw}_dataset.json'\n",
    "\n",
    "# Load data\n",
    "with open(file, encoding='UTF-8') as m_json_file:\n",
    "    data = json.load(m_json_file)\n",
    "    mc_test_data = np.array(data[\"test\"], dtype=object)\n",
    "    mc_train_data = np.array(data[\"train\"], dtype=object)\n",
    "    mc_val_data = np.array(data[\"val\"], dtype=object)\n",
    "    \n",
    "dataset_size = len(mc_test_data) + len(mc_val_data) + len(mc_train_data)\n",
    "multiclass = True if \"mc\" in file.lower() else False\n",
    "    \n",
    "# Load transformation data\n",
    "train_dir = '/media/arnau/SSD/VizWiz/models/multiclass/train/'\n",
    "norm_path = f'../outputs/norms_{flaw}.pkl'\n",
    "input_size = (224,224)\n",
    "data_transforms = get_transforms(norm_path, input_size, train_dir, \n",
    "                                 mc_train_data, multiclass=multiclass, typ=flaw)\n",
    "\n",
    "# Prepare test val\n",
    "test_dir = '/media/arnau/SSD/VizWiz/data/captioning/val/'\n",
    "test_dataset = ImageDataset(test_dir, mc_test_data, data_transforms[\"val\"], \n",
    "                            multiclass=multiclass)\n",
    "test_loader = DataLoader(test_dataset, batch_size=32, \n",
    "                         num_workers=0, pin_memory=True,\n",
    "                          sampler=ImbalancedDatasetSampler(test_dataset))"
   ]
  },
  {
   "cell_type": "code",
   "execution_count": 17,
   "id": "a2bf762c-05fe-4bdd-9a35-4197653f23f2",
   "metadata": {},
   "outputs": [
    {
     "name": "stdout",
     "output_type": "stream",
     "text": [
      "Dataset size: 18435\n",
      "Test set size: 1867, 10.13%\n",
      "Counter({0.0: 17, 1.0: 15})\n"
     ]
    },
    {
     "ename": "",
     "evalue": "",
     "output_type": "error",
     "traceback": [
      "\u001b[1;31mThe Kernel crashed while executing code in the the current cell or a previous cell. Please review the code in the cell(s) to identify a possible cause of the failure. Click <a href='https://aka.ms/vscodeJupyterKernelCrash'>here</a> for more info. View Jupyter <a href='command:jupyter.viewOutput'>log</a> for further details."
     ]
    }
   ],
   "source": [
    "print(f\"Dataset size: {dataset_size}\")\n",
    "print(f\"Test set size: {len(test_dataset)}, {(len(test_dataset) / dataset_size) * 100:.2f}%\")\n",
    "from collections import Counter"
   ]
  },
  {
   "cell_type": "markdown",
   "id": "ba446e8c-87e8-4d65-88ad-a1a6c02ce7d1",
   "metadata": {},
   "source": [
    "## Results"
   ]
  },
  {
   "cell_type": "code",
   "execution_count": 5,
   "id": "72e54ddc-9c43-489c-b5e6-8118c52d6aea",
   "metadata": {},
   "outputs": [],
   "source": [
    "def count_parameters(model):\n",
    "    return sum(p.numel() for p in model.parameters() if p.requires_grad)"
   ]
  },
  {
   "cell_type": "code",
   "execution_count": 6,
   "id": "ccb1ae39-7f3e-4212-9fe3-2d7b484f489d",
   "metadata": {},
   "outputs": [],
   "source": [
    "from sklearn.metrics import f1_score, precision_score, recall_score\n",
    "from sklearn.metrics import roc_curve, roc_auc_score\n",
    "from sklearn.metrics import confusion_matrix\n",
    "\n",
    "def plot_aoc_roc_curve(y_true, y_pred):\n",
    "    # Calculate AUC-ROC score and ROC curve using sklearn\n",
    "    auc_roc = roc_auc_score(y_true, y_pred, multi_class='ovr')\n",
    "    fpr, tpr, thresholds = roc_curve(y_true, y_pred, multi_class='ovr')\n",
    "\n",
    "    # Plot ROC curve\n",
    "    plt.figure(figsize=(4,4))\n",
    "    plt.plot(fpr, tpr, label='AUC = {:.2f}'.format(auc_roc))\n",
    "    plt.plot([0, 1], [0, 1], linestyle='--', color='gray')\n",
    "    plt.xlabel('False Positive Rate')\n",
    "    plt.ylabel('True Positive Rate')\n",
    "    plt.title('ROC Curve')\n",
    "    plt.legend()\n",
    "    plt.show()\n",
    "    \n",
    "    \n",
    "def plot_confusion_matrix(cm, classes):\n",
    "    \"\"\"\n",
    "    This function plots the confusion matrix.\n",
    "    \"\"\"\n",
    "    plt.imshow(cm, interpolation='nearest', cmap=plt.cm.Blues)\n",
    "    plt.title(\"Confusion Matrix\")\n",
    "    plt.colorbar()\n",
    "    tick_marks = np.arange(len(classes))\n",
    "    plt.xticks(tick_marks, classes)\n",
    "    plt.yticks(tick_marks, classes)\n",
    "\n",
    "    thresh = cm.max() / 2\n",
    "    for i, j in np.ndindex(cm.shape):\n",
    "        plt.text(j, i, cm[i, j], ha=\"center\", va=\"center\", color=\"white\" if cm[i, j] > thresh else \"black\")\n",
    "\n",
    "    plt.xlabel('Predicted label')\n",
    "    plt.ylabel('True label')\n",
    "    plt.tight_layout()\n",
    "    plt.show()\n",
    "\n",
    "    \n",
    "def evaluate(model, loss_fn, test_loader, device):\n",
    "    \"\"\"\n",
    "    Evaluate the model on the test set\n",
    "    \"\"\"\n",
    "    \n",
    "    model.eval()\n",
    "\n",
    "    test_loss = 0.0\n",
    "    correct = 0\n",
    "    total = 0\n",
    "    y_true = []\n",
    "    y_pred = []\n",
    "\n",
    "    softmax = nn.Softmax(dim=1)\n",
    "\n",
    "    for inputs, targets in test_loader:\n",
    "        inputs = inputs.to(device)\n",
    "        targets = targets.to(device)\n",
    "        outputs = model(inputs)\n",
    "        \n",
    "        if not multiclass:\n",
    "            outputs = outputs.float()\n",
    "            targets = targets.unsqueeze(1).float()\n",
    "   \n",
    "        loss = loss_fn(outputs, targets)\n",
    "        test_loss += loss.item() * inputs.size(0)\n",
    "        _, predicted = torch.max(outputs.data, 1)\n",
    "        total += targets.size(0)\n",
    "        if not multiclass:\n",
    "            predicted = torch.round(torch.sigmoid(outputs))\n",
    "        correct += torch.sum(predicted == targets.data)\n",
    "        y_true += targets.cpu().numpy().tolist()\n",
    "        y_pred += predicted.cpu().detach().numpy().tolist()\n",
    "\n",
    "    test_loss /= len(test_loader.dataset)\n",
    "    test_acc = correct / total\n",
    "    test_f1 = f1_score(y_true, y_pred, average='weighted')\n",
    "    test_precision = precision_score(y_true, y_pred, average='weighted')\n",
    "    test_recall = recall_score(y_true, y_pred, average='weighted')\n",
    "\n",
    "    print(f\"Test Loss: {test_loss:.4f}\")\n",
    "    print(f\"Test Accuracy: {test_acc * 100:.2f}%\")\n",
    "    print(f\"Test F1 Score: {test_f1 * 100:.2f}%\")\n",
    "    print(f\"Test Precision: {test_precision * 100:.2f}%\")\n",
    "    print(f\"Test Recall: {test_recall * 100:.2f}%\")\n",
    "\n",
    "    cm = confusion_matrix(y_true, y_pred)\n",
    "    \n",
    "    return y_true, y_pred, cm"
   ]
  },
  {
   "cell_type": "markdown",
   "id": "97390999-7d9a-425d-85a6-445449e8ae78",
   "metadata": {},
   "source": [
    "**Results on test set**"
   ]
  },
  {
   "cell_type": "markdown",
   "id": "587a6f15-b185-4ce8-b933-db01b6d6244f",
   "metadata": {},
   "source": [
    "**NOTE**: Thanks to previous preprocessing, test sat does not contain images from val set."
   ]
  },
  {
   "cell_type": "code",
   "execution_count": 7,
   "id": "5bc1951d-901b-4ffb-965a-9a0602d0110b",
   "metadata": {},
   "outputs": [],
   "source": [
    "# Load model\n",
    "save_path = f'../outputs/best_{flaw}_convnext_new.pth'\n",
    "num_classes = len(mc_train_data[:, 1::][0])\n",
    "model, input_size = initialize_model(num_classes, \"convnext\")\n",
    "model = model.to(device)\n",
    "model.load_state_dict(torch.load(save_path))\n",
    "\n",
    "if multiclass:\n",
    "    loss_fn = nn.CrossEntropyLoss()\n",
    "else:\n",
    "     loss_fn = nn.BCEWithLogitsLoss()"
   ]
  },
  {
   "cell_type": "code",
   "execution_count": 8,
   "id": "26059752-a584-4e11-b2bf-ffb2a5c58283",
   "metadata": {},
   "outputs": [
    {
     "name": "stdout",
     "output_type": "stream",
     "text": [
      "Test Loss: 0.7430\n",
      "Test Accuracy: 49.92%\n",
      "Test F1 Score: 36.66%\n",
      "Test Precision: 59.12%\n",
      "Test Recall: 49.92%\n"
     ]
    },
    {
     "data": {
      "image/png": "[encoded data removed]",
      "text/plain": [
       "<Figure size 640x480 with 2 Axes>"
      ]
     },
     "metadata": {},
     "output_type": "display_data"
    }
   ],
   "source": [
    "class_labels = ['Clear', 'BLR', 'FRM', 'BLR+FRM'] if multiclass == True else ['Clear', flaw]\n",
    "\n",
    "yt, yp, cm = evaluate(model, loss_fn, test_loader, device)\n",
    "\n",
    "#plot_aoc_roc_curve(yt, yp)\n",
    "#num_params = count_parameters(model)\n",
    "#print(f\"Number of trainable parameters in the model: {num_params}\")\n",
    "plot_confusion_matrix(cm, classes=class_labels)"
   ]
  },
  {
   "cell_type": "code",
   "execution_count": 9,
   "id": "8d6477e5-f973-499a-8614-ab294a906586",
   "metadata": {},
   "outputs": [],
   "source": [
    "def inference(i):\n",
    "    \"\"\"\n",
    "    Model outputs 1 if the image is blurred otherwise 0\n",
    "    \"\"\"\n",
    "    \n",
    "    img = Image.open(i)\n",
    "\n",
    "    transform = transforms.Compose([\n",
    "        transforms.Resize((224, 224)), \n",
    "        transforms.ToTensor(),        \n",
    "    ])\n",
    "\n",
    "    img_tensor = transform(img).unsqueeze(0).to(device)\n",
    "\n",
    "    model.eval()\n",
    "\n",
    "    with torch.no_grad():\n",
    "        output = model(img_tensor)\n",
    "\n",
    "    if multiclass:\n",
    "        _, predicted = torch.max(output.data, 1)\n",
    "    else:\n",
    "        predicted = torch.round(torch.sigmoid(output))\n",
    "        \n",
    "    pred = predicted.cpu().detach().numpy()[0]\n",
    "    \n",
    "    return pred"
   ]
  },
  {
   "cell_type": "markdown",
   "id": "1ab31a7a-8cfb-40e8-97f0-9a8aa927b95c",
   "metadata": {},
   "source": [
    "**Inference visualization**"
   ]
  },
  {
   "cell_type": "markdown",
   "id": "6c4957ca-4d64-42e1-81c1-49f6024b7051",
   "metadata": {},
   "source": [
    "Visualization of how the model performs"
   ]
  },
  {
   "cell_type": "code",
   "execution_count": 10,
   "id": "2af79e85-c2a9-497b-850b-83c40ec32a32",
   "metadata": {},
   "outputs": [
    {
     "ename": "TypeError",
     "evalue": "unhashable type: 'numpy.ndarray'",
     "output_type": "error",
     "traceback": [
      "\u001b[0;31m---------------------------------------------------------------------------\u001b[0m",
      "\u001b[0;31mTypeError\u001b[0m                                 Traceback (most recent call last)",
      "Cell \u001b[0;32mIn[10], line 17\u001b[0m\n\u001b[1;32m     15\u001b[0m img \u001b[39m=\u001b[39m test_dir \u001b[39m+\u001b[39m img_name\n\u001b[1;32m     16\u001b[0m model_pred \u001b[39m=\u001b[39m inference(img)\n\u001b[0;32m---> 17\u001b[0m model_pred \u001b[39m=\u001b[39m labels_names[model_pred]\n\u001b[1;32m     18\u001b[0m \u001b[39mprint\u001b[39m(\u001b[39mf\u001b[39m\u001b[39m\"\u001b[39m\u001b[39mModel: \u001b[39m\u001b[39m{\u001b[39;00mmodel_pred\u001b[39m}\u001b[39;00m\u001b[39m\"\u001b[39m)\n\u001b[1;32m     19\u001b[0m true_label \u001b[39m=\u001b[39m labels_names[label]\n",
      "\u001b[0;31mTypeError\u001b[0m: unhashable type: 'numpy.ndarray'"
     ]
    },
    {
     "data": {
      "text/plain": [
       "<Figure size 300x300 with 0 Axes>"
      ]
     },
     "metadata": {},
     "output_type": "display_data"
    }
   ],
   "source": [
    "ten_random_imgs = random.choices(mc_test_data, k=5)\n",
    "\n",
    "if multiclass:\n",
    "    labels_names = {0 : \"Clear\", 1 : \"BLR\", 2 : \"FRM\", 3: \"BLR + FRM\"}\n",
    "else:\n",
    "    labels_names = {0 : \"Clear\", 1 : flaw}\n",
    "\n",
    "for i, data in enumerate(ten_random_imgs):\n",
    "    plt.figure(figsize=(3, 3))\n",
    "    img_name = data[0]\n",
    "    if multiclass:\n",
    "        label = np.where(data[1::] == 1)[0][0]\n",
    "    else:\n",
    "        label = data[1]\n",
    "    img = test_dir + img_name\n",
    "    model_pred = inference(img)\n",
    "    model_pred = labels_names[model_pred]\n",
    "    print(f\"Model: {model_pred}\")\n",
    "    true_label = labels_names[label]\n",
    "    print(f\"True: {true_label}\")\n",
    "    img = cv2.cvtColor(cv2.imread(img), cv2.COLOR_BGR2RGB)\n",
    "    img = (img.astype(np.float32) / np.max(img) * 255).astype(np.uint8)\n",
    "    plt.imshow(img)\n",
    "    plt.axis('off')\n",
    "    plt.show()"
   ]
  }
 ],
 "metadata": {
  "kernelspec": {
   "display_name": "tfg env",
   "language": "python",
   "name": "env"
  },
  "language_info": {
   "codemirror_mode": {
    "name": "ipython",
    "version": 3
   },
   "file_extension": ".py",
   "mimetype": "text/x-python",
   "name": "python",
   "nbconvert_exporter": "python",
   "pygments_lexer": "ipython3",
   "version": "3.10.6"
  }
 },
 "nbformat": 4,
 "nbformat_minor": 5
}
